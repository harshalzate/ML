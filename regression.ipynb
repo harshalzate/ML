{
  "metadata": {
    "kernelspec": {
      "language": "python",
      "display_name": "Python 3",
      "name": "python3"
    },
    "language_info": {
      "pygments_lexer": "ipython3",
      "nbconvert_exporter": "python",
      "version": "3.6.4",
      "file_extension": ".py",
      "codemirror_mode": {
        "name": "ipython",
        "version": 3
      },
      "name": "python",
      "mimetype": "text/x-python"
    },
    "colab": {
      "provenance": [],
      "include_colab_link": true
    }
  },
  "nbformat_minor": 0,
  "nbformat": 4,
  "cells": [
    {
      "cell_type": "markdown",
      "metadata": {
        "id": "view-in-github",
        "colab_type": "text"
      },
      "source": [
        "<a href=\"https://colab.research.google.com/github/harshalzate/ML/blob/main/regression.ipynb\" target=\"_parent\"><img src=\"https://colab.research.google.com/assets/colab-badge.svg\" alt=\"Open In Colab\"/></a>"
      ]
    },
    {
      "cell_type": "code",
      "source": [
        "# This Python 3 environment comes with many helpful analytics libraries installed\n",
        "# It is defined by the kaggle/python Docker image: https://github.com/kaggle/docker-python\n",
        "# For example, here's several helpful packages to load\n",
        "\n",
        "import numpy as np # linear algebra\n",
        "import pandas as pd # data processing, CSV file I/O (e.g. pd.read_csv)\n",
        "\n",
        "# Input data files are available in the read-only \"../input/\" directory\n",
        "# For example, running this (by clicking run or pressing Shift+Enter) will list all files under the input directory\n",
        "\n",
        "import os\n",
        "for dirname, _, filenames in os.walk('/kaggle/input'):\n",
        "    for filename in filenames:\n",
        "        print(os.path.join(dirname, filename))\n",
        "\n",
        "# You can write up to 20GB to the current directory (/kaggle/working/) that gets preserved as output when you create a version using \"Save & Run All\"\n",
        "# You can also write temporary files to /kaggle/temp/, but they won't be saved outside of the current session"
      ],
      "metadata": {
        "_uuid": "8f2839f25d086af736a60e9eeb907d3b93b6e0e5",
        "_cell_guid": "b1076dfc-b9ad-4769-8c92-a6c4dae69d19",
        "execution": {
          "iopub.status.busy": "2023-03-12T13:35:26.496652Z",
          "iopub.execute_input": "2023-03-12T13:35:26.497952Z",
          "iopub.status.idle": "2023-03-12T13:35:26.508602Z",
          "shell.execute_reply.started": "2023-03-12T13:35:26.49789Z",
          "shell.execute_reply": "2023-03-12T13:35:26.507055Z"
        },
        "trusted": true,
        "id": "ZXgH5k_jAr-n"
      },
      "execution_count": null,
      "outputs": []
    },
    {
      "cell_type": "markdown",
      "source": [
        "Problem Statement\n",
        "VahanBima is one of the leading insurance companies in India. It provides motor vehicle insurance at the best prices with 24/7 claim settlement. It offers different types of policies for both personal and commercial vehicles. It has established its brand across different regions in India.\n",
        "\n",
        "Around 90% of businesses today use personalized services. The company wants to launch different personalized experience programs for customers of VahanBima. The personalized experience can be dedicated resources for claim settlement, different kinds of services at the doorstep, etc. In order to do so, they would like to segment the customers into different tiers based on their customer lifetime value (CLTV).\n",
        "\n",
        "In order to do it, they would like to predict the customer lifetime value based on the activity and interaction of the customer with the platform. So, as a part of this challenge, your task at hand is to build a high-performance and interpretable machine learning model to predict the CLTV based on user and policy data."
      ],
      "metadata": {
        "id": "k9z-Tk12Ar-1"
      }
    },
    {
      "cell_type": "markdown",
      "source": [
        "(About the Dataset)\n",
        "\n",
        "You are provided with the sample dataset of the company holding the information of customers and policies such as the highest qualification of the user, total income earned by a customer in a year, employee status, policy opted by the user, type of policy and so on and the target variable indicating the total customer lifetime value.\n",
        "\n",
        "id-Unique identifier of a customer,\n",
        "gender-Gender of the customer,\n",
        "area-Area of the customer,\n",
        "qualification-Highest Qualification of the customer,\n",
        "income-Income earned in a year (in rupees),\n",
        "marital_status-Marital Status of the customer {0:Single, 1: Married},\n",
        "vintage-No. of years since the first policy date,\n",
        "claim_amount-Total Amount Claimed by the customer (in rupees),\n",
        "num_policies-Total no. of policies issued by the customer,\n",
        "policy-Active policy of the customer,\n",
        "type_of_policy-Type of active policy,\n",
        "cltv- Customer lifetime value (Target Variable),"
      ],
      "metadata": {
        "id": "tTZu2YTnAr-8"
      }
    },
    {
      "cell_type": "code",
      "source": [
        "# loading the moduules\n",
        "import numpy as np\n",
        "import pandas as pd"
      ],
      "metadata": {
        "execution": {
          "iopub.status.busy": "2023-03-12T13:35:26.511461Z",
          "iopub.execute_input": "2023-03-12T13:35:26.511843Z",
          "iopub.status.idle": "2023-03-12T13:35:26.522635Z",
          "shell.execute_reply.started": "2023-03-12T13:35:26.51181Z",
          "shell.execute_reply": "2023-03-12T13:35:26.521328Z"
        },
        "trusted": true,
        "id": "DwsQWJBkAr-_"
      },
      "execution_count": null,
      "outputs": []
    },
    {
      "cell_type": "code",
      "source": [
        "import warnings\n",
        "warnings.filterwarnings(\"ignore\")"
      ],
      "metadata": {
        "execution": {
          "iopub.status.busy": "2023-03-12T13:35:26.524586Z",
          "iopub.execute_input": "2023-03-12T13:35:26.525113Z",
          "iopub.status.idle": "2023-03-12T13:35:26.533886Z",
          "shell.execute_reply.started": "2023-03-12T13:35:26.525074Z",
          "shell.execute_reply": "2023-03-12T13:35:26.532602Z"
        },
        "trusted": true,
        "id": "1OpQq679Ar_B"
      },
      "execution_count": null,
      "outputs": []
    },
    {
      "cell_type": "code",
      "source": [
        "#!pip install plotly\n",
        "!pip install plotly"
      ],
      "metadata": {
        "execution": {
          "iopub.status.busy": "2023-03-12T13:35:26.53545Z",
          "iopub.execute_input": "2023-03-12T13:35:26.53577Z",
          "iopub.status.idle": "2023-03-12T13:35:37.989376Z",
          "shell.execute_reply.started": "2023-03-12T13:35:26.535741Z",
          "shell.execute_reply": "2023-03-12T13:35:37.988081Z"
        },
        "trusted": true,
        "id": "3jdUyAXVAr_D"
      },
      "execution_count": null,
      "outputs": []
    },
    {
      "cell_type": "code",
      "source": [
        "#!pip install chart-studio [NOT REQUIRED]\n",
        "!pip show plotly"
      ],
      "metadata": {
        "execution": {
          "iopub.status.busy": "2023-03-12T13:35:37.995063Z",
          "iopub.execute_input": "2023-03-12T13:35:37.995552Z",
          "iopub.status.idle": "2023-03-12T13:35:48.901149Z",
          "shell.execute_reply.started": "2023-03-12T13:35:37.995511Z",
          "shell.execute_reply": "2023-03-12T13:35:48.899627Z"
        },
        "trusted": true,
        "id": "162eBlzDAr_F"
      },
      "execution_count": null,
      "outputs": []
    },
    {
      "cell_type": "markdown",
      "source": [
        "install required libraries"
      ],
      "metadata": {
        "id": "e7fg4vbcAr_H"
      }
    },
    {
      "cell_type": "code",
      "source": [
        "import pandas as pd\n",
        "import numpy as np\n",
        "import seaborn as sns\n",
        "%matplotlib inline\n",
        "import warnings\n",
        "from IPython.display import Image\n",
        "warnings.filterwarnings('ignore')\n",
        "import os\n",
        "import plotly.express as px\n",
        "import sklearn\n",
        "import matplotlib.pyplot as plt\n",
        "import pandas as pd\n",
        "import plotly\n",
        "from plotly.offline import plot, iplot\n",
        "import plotly.graph_objects as go\n",
        "from plotly.offline import init_notebook_mode, iplot\n",
        "init_notebook_mode(connected=True)\n",
        "import plotly.graph_objs as go\n",
        "import plotly.offline as offline\n",
        "offline.init_notebook_mode()\n",
        "from plotly import tools\n",
        "import plotly.tools as tls\n",
        "init_notebook_mode(connected=True)"
      ],
      "metadata": {
        "execution": {
          "iopub.status.busy": "2023-03-12T13:35:48.903355Z",
          "iopub.execute_input": "2023-03-12T13:35:48.903726Z",
          "iopub.status.idle": "2023-03-12T13:35:48.989585Z",
          "shell.execute_reply.started": "2023-03-12T13:35:48.903687Z",
          "shell.execute_reply": "2023-03-12T13:35:48.987766Z"
        },
        "trusted": true,
        "id": "5WBWqdgdAr_J"
      },
      "execution_count": null,
      "outputs": []
    },
    {
      "cell_type": "code",
      "source": [
        "!pip install cufflinks"
      ],
      "metadata": {
        "execution": {
          "iopub.status.busy": "2023-03-12T13:35:48.991366Z",
          "iopub.execute_input": "2023-03-12T13:35:48.991807Z",
          "iopub.status.idle": "2023-03-12T13:36:01.029212Z",
          "shell.execute_reply.started": "2023-03-12T13:35:48.991767Z",
          "shell.execute_reply": "2023-03-12T13:36:01.027597Z"
        },
        "trusted": true,
        "id": "mRfoEAdxAr_L"
      },
      "execution_count": null,
      "outputs": []
    },
    {
      "cell_type": "code",
      "source": [
        "import cufflinks as cf\n",
        "cf.go_offline()\n",
        "cf.set_config_file(offline=False, world_readable=True)"
      ],
      "metadata": {
        "execution": {
          "iopub.status.busy": "2023-03-12T13:36:01.031462Z",
          "iopub.execute_input": "2023-03-12T13:36:01.031909Z",
          "iopub.status.idle": "2023-03-12T13:36:01.048876Z",
          "shell.execute_reply.started": "2023-03-12T13:36:01.031869Z",
          "shell.execute_reply": "2023-03-12T13:36:01.047449Z"
        },
        "trusted": true,
        "id": "UDy-ke7cAr_N"
      },
      "execution_count": null,
      "outputs": []
    },
    {
      "cell_type": "code",
      "source": [
        "import plotly\n",
        "plotly.offline.init_notebook_mode(connected=True)"
      ],
      "metadata": {
        "execution": {
          "iopub.status.busy": "2023-03-12T13:36:01.051008Z",
          "iopub.execute_input": "2023-03-12T13:36:01.051375Z",
          "iopub.status.idle": "2023-03-12T13:36:01.061934Z",
          "shell.execute_reply.started": "2023-03-12T13:36:01.05134Z",
          "shell.execute_reply": "2023-03-12T13:36:01.060171Z"
        },
        "trusted": true,
        "id": "0FnUtw4QAr_O"
      },
      "execution_count": null,
      "outputs": []
    },
    {
      "cell_type": "code",
      "source": [
        "customers=pd.read_csv('/kaggle/input/customer-life-time-value/train_BRCpofr.csv',na_values='?')\n",
        "customers.head()"
      ],
      "metadata": {
        "execution": {
          "iopub.status.busy": "2023-03-12T13:36:01.063932Z",
          "iopub.execute_input": "2023-03-12T13:36:01.064511Z",
          "iopub.status.idle": "2023-03-12T13:36:01.214298Z",
          "shell.execute_reply.started": "2023-03-12T13:36:01.064473Z",
          "shell.execute_reply": "2023-03-12T13:36:01.213057Z"
        },
        "trusted": true,
        "id": "opHPifjKAr_P"
      },
      "execution_count": null,
      "outputs": []
    },
    {
      "cell_type": "code",
      "source": [
        "customers.shape"
      ],
      "metadata": {
        "execution": {
          "iopub.status.busy": "2023-03-12T13:36:01.215757Z",
          "iopub.execute_input": "2023-03-12T13:36:01.216077Z",
          "iopub.status.idle": "2023-03-12T13:36:01.224962Z",
          "shell.execute_reply.started": "2023-03-12T13:36:01.216048Z",
          "shell.execute_reply": "2023-03-12T13:36:01.223676Z"
        },
        "trusted": true,
        "id": "K-QVnl7sAr_Q"
      },
      "execution_count": null,
      "outputs": []
    },
    {
      "cell_type": "code",
      "source": [
        "customers1 =pd.read_csv('/kaggle/input/customer-life-time-value/test_koRSKBP.csv',na_values='?')\n",
        "customers1.head()"
      ],
      "metadata": {
        "execution": {
          "iopub.status.busy": "2023-03-12T13:36:01.226849Z",
          "iopub.execute_input": "2023-03-12T13:36:01.227314Z",
          "iopub.status.idle": "2023-03-12T13:36:01.327815Z",
          "shell.execute_reply.started": "2023-03-12T13:36:01.227267Z",
          "shell.execute_reply": "2023-03-12T13:36:01.326267Z"
        },
        "trusted": true,
        "id": "SI0i7DcOAr_R"
      },
      "execution_count": null,
      "outputs": []
    },
    {
      "cell_type": "code",
      "source": [
        "customers1.shape"
      ],
      "metadata": {
        "execution": {
          "iopub.status.busy": "2023-03-12T13:36:01.329368Z",
          "iopub.execute_input": "2023-03-12T13:36:01.329694Z",
          "iopub.status.idle": "2023-03-12T13:36:01.339931Z",
          "shell.execute_reply.started": "2023-03-12T13:36:01.329664Z",
          "shell.execute_reply": "2023-03-12T13:36:01.338295Z"
        },
        "trusted": true,
        "id": "aZ2vLJnYAr_S"
      },
      "execution_count": null,
      "outputs": []
    },
    {
      "cell_type": "code",
      "source": [
        "customers = customers.drop(columns = ['id'],axis=1)\n",
        "#dropping unneccessary variables such as unique values"
      ],
      "metadata": {
        "execution": {
          "iopub.status.busy": "2023-03-12T13:36:01.347997Z",
          "iopub.execute_input": "2023-03-12T13:36:01.348444Z",
          "iopub.status.idle": "2023-03-12T13:36:01.362989Z",
          "shell.execute_reply.started": "2023-03-12T13:36:01.348408Z",
          "shell.execute_reply": "2023-03-12T13:36:01.361485Z"
        },
        "trusted": true,
        "id": "Os7tYdMHAr_S"
      },
      "execution_count": null,
      "outputs": []
    },
    {
      "cell_type": "markdown",
      "source": [
        "Display summary statistics"
      ],
      "metadata": {
        "id": "imxKYkeUAr_T"
      }
    },
    {
      "cell_type": "code",
      "source": [
        "customers.describe() # summary to understand the data, prints the summary only for numeric attributes by default"
      ],
      "metadata": {
        "execution": {
          "iopub.status.busy": "2023-03-12T13:36:01.365398Z",
          "iopub.execute_input": "2023-03-12T13:36:01.365799Z",
          "iopub.status.idle": "2023-03-12T13:36:01.403746Z",
          "shell.execute_reply.started": "2023-03-12T13:36:01.365757Z",
          "shell.execute_reply": "2023-03-12T13:36:01.402599Z"
        },
        "trusted": true,
        "id": "sWFVGNsXAr_U"
      },
      "execution_count": null,
      "outputs": []
    },
    {
      "cell_type": "markdown",
      "source": [
        "Checking unique values"
      ],
      "metadata": {
        "id": "M00LImK1Ar_V"
      }
    },
    {
      "cell_type": "code",
      "source": [
        "customers.nunique()"
      ],
      "metadata": {
        "execution": {
          "iopub.status.busy": "2023-03-12T13:36:01.405352Z",
          "iopub.execute_input": "2023-03-12T13:36:01.405678Z",
          "iopub.status.idle": "2023-03-12T13:36:01.466758Z",
          "shell.execute_reply.started": "2023-03-12T13:36:01.405645Z",
          "shell.execute_reply": "2023-03-12T13:36:01.465122Z"
        },
        "trusted": true,
        "id": "UVBZ7PjFAr_V"
      },
      "execution_count": null,
      "outputs": []
    },
    {
      "cell_type": "markdown",
      "source": [
        "Getting information about the data"
      ],
      "metadata": {
        "id": "1vSoKSvZAr_W"
      }
    },
    {
      "cell_type": "code",
      "source": [
        "customers.info()"
      ],
      "metadata": {
        "execution": {
          "iopub.status.busy": "2023-03-12T13:36:01.468355Z",
          "iopub.execute_input": "2023-03-12T13:36:01.468675Z",
          "iopub.status.idle": "2023-03-12T13:36:01.520118Z",
          "shell.execute_reply.started": "2023-03-12T13:36:01.468645Z",
          "shell.execute_reply": "2023-03-12T13:36:01.518709Z"
        },
        "trusted": true,
        "id": "Krf2W6f2Ar_W"
      },
      "execution_count": null,
      "outputs": []
    },
    {
      "cell_type": "markdown",
      "source": [
        "Checking unique values"
      ],
      "metadata": {
        "id": "plub5OFNAr_X"
      }
    },
    {
      "cell_type": "code",
      "source": [
        "print(customers['gender'].value_counts(normalize=True)*100)\n",
        "print(\"-----------------------------------------\")\n",
        "print(customers['area'].value_counts(normalize=True)*100)\n",
        "print(\"-----------------------------------------\")\n",
        "print(customers['qualification'].value_counts(normalize=True)*100)\n",
        "print(\"-----------------------------------------\")\n",
        "print(customers['income'].value_counts(normalize=True)*100)\n",
        "print(\"-----------------------------------------\")\n",
        "print(customers['marital_status'].value_counts(normalize=True)*100)\n",
        "print(\"-----------------------------------------\")\n",
        "print(customers['vintage'].value_counts(normalize=True)*100)\n",
        "print(\"-----------------------------------------\")\n",
        "print(customers['num_policies'].value_counts(normalize=True)*100)\n",
        "print(\"-----------------------------------------\")\n",
        "print(customers['policy'].value_counts(normalize=True)*100)\n",
        "print(\"-----------------------------------------\")\n",
        "print(customers['type_of_policy'].value_counts(normalize=True)*100)\n",
        "print(\"-----------------------------------------\")"
      ],
      "metadata": {
        "execution": {
          "iopub.status.busy": "2023-03-12T13:36:01.521819Z",
          "iopub.execute_input": "2023-03-12T13:36:01.522252Z",
          "iopub.status.idle": "2023-03-12T13:36:01.586153Z",
          "shell.execute_reply.started": "2023-03-12T13:36:01.5222Z",
          "shell.execute_reply": "2023-03-12T13:36:01.584897Z"
        },
        "trusted": true,
        "id": "jjSnHD5hAr_X"
      },
      "execution_count": null,
      "outputs": []
    },
    {
      "cell_type": "markdown",
      "source": [
        "Display data type of each variable"
      ],
      "metadata": {
        "id": "k78tMzgOAr_Y"
      }
    },
    {
      "cell_type": "code",
      "source": [
        "customers.dtypes"
      ],
      "metadata": {
        "execution": {
          "iopub.status.busy": "2023-03-12T13:36:01.588125Z",
          "iopub.execute_input": "2023-03-12T13:36:01.588531Z",
          "iopub.status.idle": "2023-03-12T13:36:01.598167Z",
          "shell.execute_reply.started": "2023-03-12T13:36:01.588488Z",
          "shell.execute_reply": "2023-03-12T13:36:01.596752Z"
        },
        "trusted": true,
        "id": "lvzfe0LyAr_Z"
      },
      "execution_count": null,
      "outputs": []
    },
    {
      "cell_type": "markdown",
      "source": [
        "Display Columns"
      ],
      "metadata": {
        "id": "kjapN7bjAr_Z"
      }
    },
    {
      "cell_type": "code",
      "source": [
        "customers.columns"
      ],
      "metadata": {
        "execution": {
          "iopub.status.busy": "2023-03-12T13:36:01.600377Z",
          "iopub.execute_input": "2023-03-12T13:36:01.601213Z",
          "iopub.status.idle": "2023-03-12T13:36:01.611809Z",
          "shell.execute_reply.started": "2023-03-12T13:36:01.601153Z",
          "shell.execute_reply": "2023-03-12T13:36:01.610374Z"
        },
        "trusted": true,
        "id": "AsWm9majAr_a"
      },
      "execution_count": null,
      "outputs": []
    },
    {
      "cell_type": "markdown",
      "source": [
        "Identifying categorical attributes"
      ],
      "metadata": {
        "id": "0HUDOuxcAr_a"
      }
    },
    {
      "cell_type": "code",
      "source": [
        "cat=['gender', 'area', 'qualification', 'income', 'marital_status','vintage', 'num_policies', 'policy', 'type_of_policy']"
      ],
      "metadata": {
        "execution": {
          "iopub.status.busy": "2023-03-12T13:36:01.61361Z",
          "iopub.execute_input": "2023-03-12T13:36:01.614974Z",
          "iopub.status.idle": "2023-03-12T13:36:01.621818Z",
          "shell.execute_reply.started": "2023-03-12T13:36:01.614921Z",
          "shell.execute_reply": "2023-03-12T13:36:01.620365Z"
        },
        "trusted": true,
        "id": "s3U1-VELAr_b"
      },
      "execution_count": null,
      "outputs": []
    },
    {
      "cell_type": "markdown",
      "source": [
        "Identifying numerical attributes"
      ],
      "metadata": {
        "id": "vd4lME1eAr_c"
      }
    },
    {
      "cell_type": "code",
      "source": [
        "num=['claim_amount','cltv']"
      ],
      "metadata": {
        "execution": {
          "iopub.status.busy": "2023-03-12T13:36:01.62312Z",
          "iopub.execute_input": "2023-03-12T13:36:01.623635Z",
          "iopub.status.idle": "2023-03-12T13:36:01.632972Z",
          "shell.execute_reply.started": "2023-03-12T13:36:01.623566Z",
          "shell.execute_reply": "2023-03-12T13:36:01.631991Z"
        },
        "trusted": true,
        "id": "GZN92mOvAr_c"
      },
      "execution_count": null,
      "outputs": []
    },
    {
      "cell_type": "markdown",
      "source": [
        "Convert all the attributes to appropriate type¶"
      ],
      "metadata": {
        "id": "Bdnty1kQAr_d"
      }
    },
    {
      "cell_type": "code",
      "source": [
        "customers[cat] = customers[cat].astype('category')"
      ],
      "metadata": {
        "execution": {
          "iopub.status.busy": "2023-03-12T13:36:01.634222Z",
          "iopub.execute_input": "2023-03-12T13:36:01.634616Z",
          "iopub.status.idle": "2023-03-12T13:36:01.729228Z",
          "shell.execute_reply.started": "2023-03-12T13:36:01.634582Z",
          "shell.execute_reply": "2023-03-12T13:36:01.727853Z"
        },
        "trusted": true,
        "id": "2ewOOE70Ar_e"
      },
      "execution_count": null,
      "outputs": []
    },
    {
      "cell_type": "code",
      "source": [
        "customers.dtypes"
      ],
      "metadata": {
        "execution": {
          "iopub.status.busy": "2023-03-12T13:36:01.730764Z",
          "iopub.execute_input": "2023-03-12T13:36:01.731514Z",
          "iopub.status.idle": "2023-03-12T13:36:01.741232Z",
          "shell.execute_reply.started": "2023-03-12T13:36:01.731472Z",
          "shell.execute_reply": "2023-03-12T13:36:01.740272Z"
        },
        "trusted": true,
        "id": "kZxbuAbyAr_e"
      },
      "execution_count": null,
      "outputs": []
    },
    {
      "cell_type": "markdown",
      "source": [
        "Exploratory Data Analysis\n",
        "\n",
        "Let's explore the data!"
      ],
      "metadata": {
        "id": "H_nu-RCsAr_f"
      }
    },
    {
      "cell_type": "code",
      "source": [
        "import plotly.express as px #importing plotly"
      ],
      "metadata": {
        "execution": {
          "iopub.status.busy": "2023-03-12T13:36:01.742349Z",
          "iopub.execute_input": "2023-03-12T13:36:01.742639Z",
          "iopub.status.idle": "2023-03-12T13:36:01.750061Z",
          "shell.execute_reply.started": "2023-03-12T13:36:01.74261Z",
          "shell.execute_reply": "2023-03-12T13:36:01.748822Z"
        },
        "trusted": true,
        "id": "k1sLacwAAr_f"
      },
      "execution_count": null,
      "outputs": []
    },
    {
      "cell_type": "code",
      "source": [
        "fig = px.scatter(customers, x=\"claim_amount\", y=\"cltv\")\n",
        "fig.show() #plotting scatter plot with \"cltv\",\"claim_amount\""
      ],
      "metadata": {
        "execution": {
          "iopub.status.busy": "2023-03-12T13:36:01.751429Z",
          "iopub.execute_input": "2023-03-12T13:36:01.751932Z",
          "iopub.status.idle": "2023-03-12T13:36:01.915923Z",
          "shell.execute_reply.started": "2023-03-12T13:36:01.751882Z",
          "shell.execute_reply": "2023-03-12T13:36:01.91368Z"
        },
        "trusted": true,
        "id": "8fKA_sm4Ar_g"
      },
      "execution_count": null,
      "outputs": []
    },
    {
      "cell_type": "code",
      "source": [
        "import plotly.express as px\n",
        "\n",
        "fig = px.imshow(customers[num].corr())\n",
        "fig.show()"
      ],
      "metadata": {
        "execution": {
          "iopub.status.busy": "2023-03-12T13:36:01.917297Z",
          "iopub.execute_input": "2023-03-12T13:36:01.917625Z",
          "iopub.status.idle": "2023-03-12T13:36:01.976874Z",
          "shell.execute_reply.started": "2023-03-12T13:36:01.917592Z",
          "shell.execute_reply": "2023-03-12T13:36:01.975623Z"
        },
        "trusted": true,
        "id": "SguQ3oVCAsAH"
      },
      "execution_count": null,
      "outputs": []
    },
    {
      "cell_type": "code",
      "source": [
        "fig=px.box(customers, x=\"gender\", y=\"cltv\")\n",
        "fig.show()"
      ],
      "metadata": {
        "execution": {
          "iopub.status.busy": "2023-03-12T13:36:01.97891Z",
          "iopub.execute_input": "2023-03-12T13:36:01.979331Z",
          "iopub.status.idle": "2023-03-12T13:36:02.518356Z",
          "shell.execute_reply.started": "2023-03-12T13:36:01.979291Z",
          "shell.execute_reply": "2023-03-12T13:36:02.515333Z"
        },
        "trusted": true,
        "id": "iDxmFUwpAsAI"
      },
      "execution_count": null,
      "outputs": []
    },
    {
      "cell_type": "code",
      "source": [
        "fig=px.box(customers, x=\"gender\", y=\"claim_amount\")\n",
        "fig.show()"
      ],
      "metadata": {
        "execution": {
          "iopub.status.busy": "2023-03-12T13:36:02.520468Z",
          "iopub.execute_input": "2023-03-12T13:36:02.520824Z",
          "iopub.status.idle": "2023-03-12T13:36:03.043799Z",
          "shell.execute_reply.started": "2023-03-12T13:36:02.520791Z",
          "shell.execute_reply": "2023-03-12T13:36:03.042342Z"
        },
        "trusted": true,
        "id": "5cMhJ3gsAsAJ"
      },
      "execution_count": null,
      "outputs": []
    },
    {
      "cell_type": "code",
      "source": [
        "fig=px.histogram(customers,\"claim_amount\")\n",
        "fig.show()"
      ],
      "metadata": {
        "execution": {
          "iopub.status.busy": "2023-03-12T13:36:03.045364Z",
          "iopub.execute_input": "2023-03-12T13:36:03.045778Z",
          "iopub.status.idle": "2023-03-12T13:36:03.149773Z",
          "shell.execute_reply.started": "2023-03-12T13:36:03.045741Z",
          "shell.execute_reply": "2023-03-12T13:36:03.148313Z"
        },
        "trusted": true,
        "id": "aG1Un4oGAsAJ"
      },
      "execution_count": null,
      "outputs": []
    },
    {
      "cell_type": "code",
      "source": [
        "!pip install ipympl"
      ],
      "metadata": {
        "execution": {
          "iopub.status.busy": "2023-03-12T13:36:03.151785Z",
          "iopub.execute_input": "2023-03-12T13:36:03.152123Z",
          "iopub.status.idle": "2023-03-12T13:36:15.010475Z",
          "shell.execute_reply.started": "2023-03-12T13:36:03.15209Z",
          "shell.execute_reply": "2023-03-12T13:36:15.009292Z"
        },
        "trusted": true,
        "id": "g9gZMtenAsAK"
      },
      "execution_count": null,
      "outputs": []
    },
    {
      "cell_type": "markdown",
      "source": [
        "this is for when you are work in colab..."
      ],
      "metadata": {
        "id": "-ikZqyYgAsAL"
      }
    },
    {
      "cell_type": "code",
      "source": [
        "%matplotlib widget\n",
        "#from google.colab import output\n",
        "#output.enable_custom_widget_manager()\n",
        "import numpy as np\n",
        "import matplotlib.pyplot as plt"
      ],
      "metadata": {
        "execution": {
          "iopub.status.busy": "2023-03-12T13:36:15.012238Z",
          "iopub.execute_input": "2023-03-12T13:36:15.012617Z",
          "iopub.status.idle": "2023-03-12T13:36:15.027898Z",
          "shell.execute_reply.started": "2023-03-12T13:36:15.012582Z",
          "shell.execute_reply": "2023-03-12T13:36:15.026117Z"
        },
        "trusted": true,
        "id": "dIZBEfOqAsAM"
      },
      "execution_count": null,
      "outputs": []
    },
    {
      "cell_type": "code",
      "source": [
        "import datetime\n",
        "from datetime import date\n",
        "import pandas as pd\n",
        "import numpy as np\n",
        "from plotly import __version__\n",
        "%matplotlib inline\n",
        "\n",
        "import plotly.offline as pyo\n",
        "import plotly.graph_objs as go\n",
        "from plotly.offline import iplot\n",
        "\n",
        "import cufflinks as cf\n",
        "from plotly.offline import download_plotlyjs, init_notebook_mode, plot, iplot\n",
        "\n",
        "\n",
        "cf.go_offline()"
      ],
      "metadata": {
        "execution": {
          "iopub.status.busy": "2023-03-12T13:36:15.029972Z",
          "iopub.execute_input": "2023-03-12T13:36:15.031498Z",
          "iopub.status.idle": "2023-03-12T13:36:15.047234Z",
          "shell.execute_reply.started": "2023-03-12T13:36:15.031439Z",
          "shell.execute_reply": "2023-03-12T13:36:15.045876Z"
        },
        "trusted": true,
        "id": "8ehRVlEuAsAN"
      },
      "execution_count": null,
      "outputs": []
    },
    {
      "cell_type": "code",
      "source": [
        "init_notebook_mode(connected=False)"
      ],
      "metadata": {
        "execution": {
          "iopub.status.busy": "2023-03-12T13:36:15.051105Z",
          "iopub.execute_input": "2023-03-12T13:36:15.052153Z",
          "iopub.status.idle": "2023-03-12T13:36:15.123756Z",
          "shell.execute_reply.started": "2023-03-12T13:36:15.052108Z",
          "shell.execute_reply": "2023-03-12T13:36:15.119899Z"
        },
        "trusted": true,
        "id": "8PRxMj5cAsAN"
      },
      "execution_count": null,
      "outputs": []
    },
    {
      "cell_type": "markdown",
      "source": [
        "this code is helpfull when you are work in colab..."
      ],
      "metadata": {
        "id": "gWSm61ZYAsAO"
      }
    },
    {
      "cell_type": "code",
      "source": [
        "#def configure_plotly_browser_state():\n",
        "  #import IPython\n",
        "  #display(IPython.core.display.HTML('''\n",
        "        #<script src=\"/static/components/requirejs/require.js\"></script>\n",
        "        #<script>\n",
        "          #requirejs.config({\n",
        "            #paths: {\n",
        "              #base: '/static/base',\n",
        "              #plotly: 'https://cdn.plot.ly/plotly-1.5.1.min.js?noext',\n",
        "            #},\n",
        "          #});\n",
        "        #</script>\n",
        "        #'''))"
      ],
      "metadata": {
        "execution": {
          "iopub.status.busy": "2023-03-12T13:36:15.125874Z",
          "iopub.execute_input": "2023-03-12T13:36:15.126364Z",
          "iopub.status.idle": "2023-03-12T13:36:15.132759Z",
          "shell.execute_reply.started": "2023-03-12T13:36:15.126321Z",
          "shell.execute_reply": "2023-03-12T13:36:15.131328Z"
        },
        "trusted": true,
        "id": "CGLQ2sZpAsAP"
      },
      "execution_count": null,
      "outputs": []
    },
    {
      "cell_type": "markdown",
      "source": [
        "example:\n",
        "use this function #configure_plotly_browser_state() to see in colab\n",
        "#configure_plotly_browser_state()\n",
        "#customers.policy.value_counts().iplot(kind='bar', xTitle='policy',yTitle='cltv',theme='white', #color='#99bbff')\n",
        "#plt.show()"
      ],
      "metadata": {
        "id": "YYmQOUuSAsAQ"
      }
    },
    {
      "cell_type": "code",
      "source": [
        "\n",
        "customers.policy.value_counts().iplot(kind='bar', xTitle='policy',yTitle='cltv',theme='white', color='#99bbff')\n",
        "plt.show()"
      ],
      "metadata": {
        "execution": {
          "iopub.status.busy": "2023-03-12T13:36:15.13478Z",
          "iopub.execute_input": "2023-03-12T13:36:15.135487Z",
          "iopub.status.idle": "2023-03-12T13:36:15.203256Z",
          "shell.execute_reply.started": "2023-03-12T13:36:15.135437Z",
          "shell.execute_reply": "2023-03-12T13:36:15.202303Z"
        },
        "trusted": true,
        "id": "mJeP48FzAsAQ"
      },
      "execution_count": null,
      "outputs": []
    },
    {
      "cell_type": "code",
      "source": [
        "tmp = customers.gender.value_counts()\n",
        "tmp.iplot(kind='bar', xTitle='gender',yTitle='Frequency',theme='white', color='#99bbff')\n",
        "plt.show()"
      ],
      "metadata": {
        "execution": {
          "iopub.status.busy": "2023-03-12T13:36:15.204571Z",
          "iopub.execute_input": "2023-03-12T13:36:15.205086Z",
          "iopub.status.idle": "2023-03-12T13:36:15.256445Z",
          "shell.execute_reply.started": "2023-03-12T13:36:15.205053Z",
          "shell.execute_reply": "2023-03-12T13:36:15.255266Z"
        },
        "trusted": true,
        "id": "W1PlL9J5AsAR"
      },
      "execution_count": null,
      "outputs": []
    },
    {
      "cell_type": "code",
      "source": [
        "\n",
        "customers.cltv.iplot(kind='hist', bins=10,histnorm='percent')\n",
        "plt.show()"
      ],
      "metadata": {
        "execution": {
          "iopub.status.busy": "2023-03-12T13:36:15.258049Z",
          "iopub.execute_input": "2023-03-12T13:36:15.25841Z",
          "iopub.status.idle": "2023-03-12T13:36:16.474416Z",
          "shell.execute_reply.started": "2023-03-12T13:36:15.258376Z",
          "shell.execute_reply": "2023-03-12T13:36:16.472725Z"
        },
        "trusted": true,
        "id": "c7T22XPOAsAS"
      },
      "execution_count": null,
      "outputs": []
    },
    {
      "cell_type": "code",
      "source": [
        "customers.claim_amount.iplot(kind='hist', bins=10,histnorm='percent')\n",
        "plt.show()"
      ],
      "metadata": {
        "execution": {
          "iopub.status.busy": "2023-03-12T13:36:16.475839Z",
          "iopub.execute_input": "2023-03-12T13:36:16.476169Z",
          "iopub.status.idle": "2023-03-12T13:36:17.712541Z",
          "shell.execute_reply.started": "2023-03-12T13:36:16.476137Z",
          "shell.execute_reply": "2023-03-12T13:36:17.711479Z"
        },
        "trusted": true,
        "id": "gGGEZSPdAsAS"
      },
      "execution_count": null,
      "outputs": []
    },
    {
      "cell_type": "code",
      "source": [
        "customers.pivot_table(index='gender', columns='num_policies',aggfunc='size').iplot(kind='bar')\n",
        "plt.show()"
      ],
      "metadata": {
        "execution": {
          "iopub.status.busy": "2023-03-12T13:36:17.714259Z",
          "iopub.execute_input": "2023-03-12T13:36:17.714911Z",
          "iopub.status.idle": "2023-03-12T13:36:17.774719Z",
          "shell.execute_reply.started": "2023-03-12T13:36:17.714872Z",
          "shell.execute_reply": "2023-03-12T13:36:17.773477Z"
        },
        "trusted": true,
        "id": "pm_7MRYeAsAT"
      },
      "execution_count": null,
      "outputs": []
    },
    {
      "cell_type": "code",
      "source": [
        "import seaborn as sns\n",
        "tmp = pd.crosstab(index=customers.num_policies,columns=customers.vintage)\n",
        "\n",
        "tmp_perc = np.round((tmp/tmp.sum())*100)\n",
        "\n",
        "tmp_perc.T.iplot(kind='bar', barmode='stack')\n",
        "plt.show()"
      ],
      "metadata": {
        "execution": {
          "iopub.status.busy": "2023-03-12T13:36:17.787665Z",
          "iopub.execute_input": "2023-03-12T13:36:17.788101Z",
          "iopub.status.idle": "2023-03-12T13:36:17.86051Z",
          "shell.execute_reply.started": "2023-03-12T13:36:17.788066Z",
          "shell.execute_reply": "2023-03-12T13:36:17.859076Z"
        },
        "trusted": true,
        "id": "p1RoV5pzAsAU"
      },
      "execution_count": null,
      "outputs": []
    },
    {
      "cell_type": "code",
      "source": [
        "import plotly.express as px\n",
        "fig = px.box(customers, y=\"claim_amount\",orientation='v')\n",
        "fig.show()"
      ],
      "metadata": {
        "execution": {
          "iopub.status.busy": "2023-03-12T13:36:17.862279Z",
          "iopub.execute_input": "2023-03-12T13:36:17.862643Z",
          "iopub.status.idle": "2023-03-12T13:36:17.958122Z",
          "shell.execute_reply.started": "2023-03-12T13:36:17.86261Z",
          "shell.execute_reply": "2023-03-12T13:36:17.95715Z"
        },
        "trusted": true,
        "id": "LskDAOiTAsAV"
      },
      "execution_count": null,
      "outputs": []
    },
    {
      "cell_type": "code",
      "source": [
        "fig = px.box(customers, y=\"cltv\",orientation='v')\n",
        "fig.show()"
      ],
      "metadata": {
        "execution": {
          "iopub.status.busy": "2023-03-12T13:36:17.959753Z",
          "iopub.execute_input": "2023-03-12T13:36:17.960367Z",
          "iopub.status.idle": "2023-03-12T13:36:18.059396Z",
          "shell.execute_reply.started": "2023-03-12T13:36:17.96033Z",
          "shell.execute_reply": "2023-03-12T13:36:18.057998Z"
        },
        "trusted": true,
        "id": "uAH7kQtSAsAW"
      },
      "execution_count": null,
      "outputs": []
    },
    {
      "cell_type": "code",
      "source": [
        "fig=px.box(customers, x=\"num_policies\", y=\"cltv\", color=\"gender\")\n",
        "fig.show()"
      ],
      "metadata": {
        "execution": {
          "iopub.status.busy": "2023-03-12T13:36:18.061161Z",
          "iopub.execute_input": "2023-03-12T13:36:18.061505Z",
          "iopub.status.idle": "2023-03-12T13:36:18.619725Z",
          "shell.execute_reply.started": "2023-03-12T13:36:18.061474Z",
          "shell.execute_reply": "2023-03-12T13:36:18.617842Z"
        },
        "trusted": true,
        "id": "W3qcjN_KAsAW"
      },
      "execution_count": null,
      "outputs": []
    },
    {
      "cell_type": "code",
      "source": [
        "fig=px.box(customers, x=\"type_of_policy\", y=\"cltv\", color=\"gender\")\n",
        "fig.show()"
      ],
      "metadata": {
        "execution": {
          "iopub.status.busy": "2023-03-12T13:36:18.620892Z",
          "iopub.execute_input": "2023-03-12T13:36:18.621256Z",
          "iopub.status.idle": "2023-03-12T13:36:19.168797Z",
          "shell.execute_reply.started": "2023-03-12T13:36:18.621203Z",
          "shell.execute_reply": "2023-03-12T13:36:19.16615Z"
        },
        "trusted": true,
        "id": "JdxtkN82AsAX"
      },
      "execution_count": null,
      "outputs": []
    },
    {
      "cell_type": "code",
      "source": [
        "fig=px.box(customers, x=\"income\", y=\"cltv\", color=\"gender\")\n",
        "fig.show()"
      ],
      "metadata": {
        "execution": {
          "iopub.status.busy": "2023-03-12T13:36:19.170649Z",
          "iopub.execute_input": "2023-03-12T13:36:19.171009Z",
          "iopub.status.idle": "2023-03-12T13:36:19.733817Z",
          "shell.execute_reply.started": "2023-03-12T13:36:19.170977Z",
          "shell.execute_reply": "2023-03-12T13:36:19.732732Z"
        },
        "trusted": true,
        "id": "yhwYhIWgAsAY"
      },
      "execution_count": null,
      "outputs": []
    },
    {
      "cell_type": "code",
      "source": [
        "fig=px.box(customers, x=\"marital_status\", y=\"cltv\", color=\"gender\")\n",
        "fig.show()"
      ],
      "metadata": {
        "execution": {
          "iopub.status.busy": "2023-03-12T13:36:19.73524Z",
          "iopub.execute_input": "2023-03-12T13:36:19.736546Z",
          "iopub.status.idle": "2023-03-12T13:36:19.875913Z",
          "shell.execute_reply.started": "2023-03-12T13:36:19.736505Z",
          "shell.execute_reply": "2023-03-12T13:36:19.874523Z"
        },
        "trusted": true,
        "id": "ua02pUzgAsAY"
      },
      "execution_count": null,
      "outputs": []
    },
    {
      "cell_type": "code",
      "source": [
        "fig=px.box(customers, x=\"qualification\", y=\"cltv\", color=\"gender\")\n",
        "fig.show()"
      ],
      "metadata": {
        "execution": {
          "iopub.status.busy": "2023-03-12T13:36:19.877915Z",
          "iopub.execute_input": "2023-03-12T13:36:19.878325Z",
          "iopub.status.idle": "2023-03-12T13:36:20.426928Z",
          "shell.execute_reply.started": "2023-03-12T13:36:19.878286Z",
          "shell.execute_reply": "2023-03-12T13:36:20.425477Z"
        },
        "trusted": true,
        "id": "X5ssy4bMAsAZ"
      },
      "execution_count": null,
      "outputs": []
    },
    {
      "cell_type": "code",
      "source": [
        "fig=px.box(customers, x=\"policy\", y=\"cltv\", color=\"gender\")\n",
        "fig.show()"
      ],
      "metadata": {
        "execution": {
          "iopub.status.busy": "2023-03-12T13:36:20.428581Z",
          "iopub.execute_input": "2023-03-12T13:36:20.428997Z",
          "iopub.status.idle": "2023-03-12T13:36:20.946679Z",
          "shell.execute_reply.started": "2023-03-12T13:36:20.428957Z",
          "shell.execute_reply": "2023-03-12T13:36:20.945099Z"
        },
        "trusted": true,
        "id": "yNV4gKeOAsAa"
      },
      "execution_count": null,
      "outputs": []
    },
    {
      "cell_type": "code",
      "source": [
        "fig=px.box(customers, x=\"vintage\", y=\"cltv\", color=\"gender\")\n",
        "fig.show()"
      ],
      "metadata": {
        "execution": {
          "iopub.status.busy": "2023-03-12T13:36:20.948542Z",
          "iopub.execute_input": "2023-03-12T13:36:20.948961Z",
          "iopub.status.idle": "2023-03-12T13:36:21.084903Z",
          "shell.execute_reply.started": "2023-03-12T13:36:20.948919Z",
          "shell.execute_reply": "2023-03-12T13:36:21.08356Z"
        },
        "trusted": true,
        "id": "mswCe0mMAsAb"
      },
      "execution_count": null,
      "outputs": []
    },
    {
      "cell_type": "code",
      "source": [
        "tmp = customers.groupby('gender').agg({'cltv':'mean'}).reset_index()\n",
        "\n",
        "fig = px.bar(tmp, y=\"cltv\", x=\"gender\", text='cltv')\n",
        "\n",
        "fig.update_yaxes(title='avg_cltv')\n",
        "\n",
        "fig.update_traces(texttemplate='%{text:.2s}', textposition='auto')\n",
        "\n",
        "fig.show()"
      ],
      "metadata": {
        "execution": {
          "iopub.status.busy": "2023-03-12T13:36:21.086943Z",
          "iopub.execute_input": "2023-03-12T13:36:21.08769Z",
          "iopub.status.idle": "2023-03-12T13:36:21.153984Z",
          "shell.execute_reply.started": "2023-03-12T13:36:21.087643Z",
          "shell.execute_reply": "2023-03-12T13:36:21.152704Z"
        },
        "trusted": true,
        "id": "9A5D7gKJAsAc"
      },
      "execution_count": null,
      "outputs": []
    },
    {
      "cell_type": "code",
      "source": [
        "tmp = customers.groupby('gender').agg({'claim_amount':'mean'}).reset_index()\n",
        "\n",
        "fig = px.bar(tmp, y=\"claim_amount\", x=\"gender\", text='claim_amount')\n",
        "\n",
        "fig.update_yaxes(title='avg_claim_amount')\n",
        "\n",
        "fig.update_traces(texttemplate='%{text:.2s}', textposition='auto')\n",
        "\n",
        "fig.show()"
      ],
      "metadata": {
        "execution": {
          "iopub.status.busy": "2023-03-12T13:36:21.155315Z",
          "iopub.execute_input": "2023-03-12T13:36:21.155612Z",
          "iopub.status.idle": "2023-03-12T13:36:21.221897Z",
          "shell.execute_reply.started": "2023-03-12T13:36:21.155582Z",
          "shell.execute_reply": "2023-03-12T13:36:21.221031Z"
        },
        "trusted": true,
        "id": "Nn2IdtjYAsAc"
      },
      "execution_count": null,
      "outputs": []
    },
    {
      "cell_type": "code",
      "source": [
        "fig = px.scatter(customers, x=\"claim_amount\", y=\"cltv\", color=\"type_of_policy\", facet_col=\"gender\",\n",
        "           color_continuous_scale=px.colors.sequential.Viridis, render_mode=\"webgl\")\n",
        "fig.show()"
      ],
      "metadata": {
        "execution": {
          "iopub.status.busy": "2023-03-12T13:36:21.223007Z",
          "iopub.execute_input": "2023-03-12T13:36:21.224186Z",
          "iopub.status.idle": "2023-03-12T13:36:21.402798Z",
          "shell.execute_reply.started": "2023-03-12T13:36:21.22415Z",
          "shell.execute_reply": "2023-03-12T13:36:21.401604Z"
        },
        "trusted": true,
        "id": "rHtbxGZEAsAd"
      },
      "execution_count": null,
      "outputs": []
    },
    {
      "cell_type": "code",
      "source": [
        "fig = px.scatter(customers, x=\"claim_amount\", y=\"cltv\", color=\"policy\", facet_col=\"gender\",\n",
        "           color_continuous_scale=px.colors.sequential.Viridis, render_mode=\"webgl\")\n",
        "fig.show()"
      ],
      "metadata": {
        "execution": {
          "iopub.status.busy": "2023-03-12T13:36:21.405079Z",
          "iopub.execute_input": "2023-03-12T13:36:21.405573Z",
          "iopub.status.idle": "2023-03-12T13:36:21.599521Z",
          "shell.execute_reply.started": "2023-03-12T13:36:21.405522Z",
          "shell.execute_reply": "2023-03-12T13:36:21.597599Z"
        },
        "trusted": true,
        "id": "MgkXTcVaAsAe"
      },
      "execution_count": null,
      "outputs": []
    },
    {
      "cell_type": "code",
      "source": [
        "fig = px.scatter(customers, x=\"claim_amount\", y=\"cltv\", color=\"income\", facet_col=\"gender\",\n",
        "           color_continuous_scale=px.colors.sequential.Viridis, render_mode=\"webgl\")\n",
        "fig.show()"
      ],
      "metadata": {
        "execution": {
          "iopub.status.busy": "2023-03-12T13:36:21.601256Z",
          "iopub.execute_input": "2023-03-12T13:36:21.601681Z",
          "iopub.status.idle": "2023-03-12T13:36:21.790401Z",
          "shell.execute_reply.started": "2023-03-12T13:36:21.60164Z",
          "shell.execute_reply": "2023-03-12T13:36:21.789094Z"
        },
        "trusted": true,
        "id": "KbFrLb4ZAsAf"
      },
      "execution_count": null,
      "outputs": []
    },
    {
      "cell_type": "code",
      "source": [
        "fig = px.scatter(customers, x=\"claim_amount\", y=\"cltv\", color=\"qualification\", facet_col=\"gender\",\n",
        "           color_continuous_scale=px.colors.sequential.Viridis, render_mode=\"webgl\")\n",
        "fig.show()"
      ],
      "metadata": {
        "execution": {
          "iopub.status.busy": "2023-03-12T13:36:21.792395Z",
          "iopub.execute_input": "2023-03-12T13:36:21.792799Z",
          "iopub.status.idle": "2023-03-12T13:36:21.974403Z",
          "shell.execute_reply.started": "2023-03-12T13:36:21.792759Z",
          "shell.execute_reply": "2023-03-12T13:36:21.973127Z"
        },
        "trusted": true,
        "id": "4k4p1yUjAsAf"
      },
      "execution_count": null,
      "outputs": []
    },
    {
      "cell_type": "code",
      "source": [
        "fig = px.scatter(customers, x=\"claim_amount\", y=\"cltv\", color=\"area\", facet_col=\"gender\",\n",
        "           color_continuous_scale=px.colors.sequential.Viridis, render_mode=\"webgl\")\n",
        "fig.show()"
      ],
      "metadata": {
        "execution": {
          "iopub.status.busy": "2023-03-12T13:36:21.976016Z",
          "iopub.execute_input": "2023-03-12T13:36:21.976868Z",
          "iopub.status.idle": "2023-03-12T13:36:22.147481Z",
          "shell.execute_reply.started": "2023-03-12T13:36:21.976832Z",
          "shell.execute_reply": "2023-03-12T13:36:22.146365Z"
        },
        "trusted": true,
        "id": "0Fxym5ntAsAg"
      },
      "execution_count": null,
      "outputs": []
    },
    {
      "cell_type": "code",
      "source": [
        "\n",
        "fig = px.scatter(customers, x=\"claim_amount\", y=\"cltv\", facet_row=\"num_policies\", facet_col=\"qualification\", color=\"gender\",\n",
        "          category_orders={\"qualification\": [\"High School\",\"Bachelor\",\"Others\"], \"num_policies\": [\"More than 1\", \"1\"]})\n",
        "fig.show()"
      ],
      "metadata": {
        "execution": {
          "iopub.status.busy": "2023-03-12T13:36:22.149002Z",
          "iopub.execute_input": "2023-03-12T13:36:22.149899Z",
          "iopub.status.idle": "2023-03-12T13:36:22.409929Z",
          "shell.execute_reply.started": "2023-03-12T13:36:22.149854Z",
          "shell.execute_reply": "2023-03-12T13:36:22.40864Z"
        },
        "trusted": true,
        "id": "HGFNBiNrAsAh"
      },
      "execution_count": null,
      "outputs": []
    },
    {
      "cell_type": "markdown",
      "source": [
        "# Data Preparation for model building\n",
        "\n",
        "Now that we've explored the data a bit, let's go ahead and split the data into training and testing sets.\n",
        "** Set a variable X equal to the numerical & catgorical features of the customers and a variable y equal to the \"cltv\" column. **"
      ],
      "metadata": {
        "id": "ntj9jBpHAsAi"
      }
    },
    {
      "cell_type": "code",
      "source": [
        "customers.head() #snapshot of clean data"
      ],
      "metadata": {
        "execution": {
          "iopub.status.busy": "2023-03-12T13:36:22.411588Z",
          "iopub.execute_input": "2023-03-12T13:36:22.411954Z",
          "iopub.status.idle": "2023-03-12T13:36:22.431259Z",
          "shell.execute_reply.started": "2023-03-12T13:36:22.411921Z",
          "shell.execute_reply": "2023-03-12T13:36:22.430114Z"
        },
        "trusted": true,
        "id": "Kpz1bZsYAsAi"
      },
      "execution_count": null,
      "outputs": []
    },
    {
      "cell_type": "code",
      "source": [
        "customers.info() #info"
      ],
      "metadata": {
        "execution": {
          "iopub.status.busy": "2023-03-12T13:36:22.43312Z",
          "iopub.execute_input": "2023-03-12T13:36:22.433477Z",
          "iopub.status.idle": "2023-03-12T13:36:22.451881Z",
          "shell.execute_reply.started": "2023-03-12T13:36:22.433442Z",
          "shell.execute_reply": "2023-03-12T13:36:22.450562Z"
        },
        "trusted": true,
        "id": "rVmuXmayAsAj"
      },
      "execution_count": null,
      "outputs": []
    },
    {
      "cell_type": "code",
      "source": [
        "X = customers.drop(['cltv'],axis=1) #independent attributes"
      ],
      "metadata": {
        "execution": {
          "iopub.status.busy": "2023-03-12T13:36:22.453131Z",
          "iopub.execute_input": "2023-03-12T13:36:22.453479Z",
          "iopub.status.idle": "2023-03-12T13:36:22.461368Z",
          "shell.execute_reply.started": "2023-03-12T13:36:22.453447Z",
          "shell.execute_reply": "2023-03-12T13:36:22.459946Z"
        },
        "trusted": true,
        "id": "kk3Ym3BtAsAk"
      },
      "execution_count": null,
      "outputs": []
    },
    {
      "cell_type": "code",
      "source": [
        "y = customers['cltv'] #dependent attributes"
      ],
      "metadata": {
        "execution": {
          "iopub.status.busy": "2023-03-12T13:36:22.462484Z",
          "iopub.execute_input": "2023-03-12T13:36:22.462814Z",
          "iopub.status.idle": "2023-03-12T13:36:22.472089Z",
          "shell.execute_reply.started": "2023-03-12T13:36:22.462781Z",
          "shell.execute_reply": "2023-03-12T13:36:22.470546Z"
        },
        "trusted": true,
        "id": "PNoD_tISAsAl"
      },
      "execution_count": null,
      "outputs": []
    },
    {
      "cell_type": "code",
      "source": [
        "import statsmodels.api as sm # import stats model o/p : R model\n",
        "from sklearn.model_selection import train_test_split # importing neccessary modules"
      ],
      "metadata": {
        "execution": {
          "iopub.status.busy": "2023-03-12T13:36:22.473763Z",
          "iopub.execute_input": "2023-03-12T13:36:22.474096Z",
          "iopub.status.idle": "2023-03-12T13:36:22.483023Z",
          "shell.execute_reply.started": "2023-03-12T13:36:22.474064Z",
          "shell.execute_reply": "2023-03-12T13:36:22.481699Z"
        },
        "trusted": true,
        "id": "v9K3wtZ-AsAm"
      },
      "execution_count": null,
      "outputs": []
    },
    {
      "cell_type": "markdown",
      "source": [
        "## Spilit the data into Training and Testing Data"
      ],
      "metadata": {
        "id": "yUSJ0a-DAsAn"
      }
    },
    {
      "cell_type": "code",
      "source": [
        "X_train, X_test, y_train, y_test = train_test_split(X, y, test_size=0.2, random_state=101) #train test splitt"
      ],
      "metadata": {
        "execution": {
          "iopub.status.busy": "2023-03-12T13:36:22.484643Z",
          "iopub.execute_input": "2023-03-12T13:36:22.484964Z",
          "iopub.status.idle": "2023-03-12T13:36:22.50608Z",
          "shell.execute_reply.started": "2023-03-12T13:36:22.484931Z",
          "shell.execute_reply": "2023-03-12T13:36:22.504801Z"
        },
        "trusted": true,
        "id": "TfkAoYpqAsAo"
      },
      "execution_count": null,
      "outputs": []
    },
    {
      "cell_type": "code",
      "source": [
        "#print(len(y_train))\n",
        "print('Y Target Size:', len(y_train))\n",
        "print('X Train Size:', len(X_train))\n",
        "print('X Test  Size:', len(X_test))\n",
        "print('Y Target Size:', len(y_test))"
      ],
      "metadata": {
        "execution": {
          "iopub.status.busy": "2023-03-12T13:36:22.508072Z",
          "iopub.execute_input": "2023-03-12T13:36:22.508431Z",
          "iopub.status.idle": "2023-03-12T13:36:22.515779Z",
          "shell.execute_reply.started": "2023-03-12T13:36:22.508398Z",
          "shell.execute_reply": "2023-03-12T13:36:22.514122Z"
        },
        "trusted": true,
        "id": "Gfv9flwwAsAo"
      },
      "execution_count": null,
      "outputs": []
    },
    {
      "cell_type": "markdown",
      "source": [
        "# Multiple Regression model with Categorical Variables - Dummification"
      ],
      "metadata": {
        "id": "4d-Ktk6bAsAp"
      }
    },
    {
      "cell_type": "code",
      "source": [
        "#Dummification\n",
        "X_train = pd.get_dummies(X_train,drop_first=True,dtype='int8')\n",
        "X_test = pd.get_dummies(X_test,drop_first=True,dtype='int8')"
      ],
      "metadata": {
        "execution": {
          "iopub.status.busy": "2023-03-12T13:36:22.517939Z",
          "iopub.execute_input": "2023-03-12T13:36:22.518367Z",
          "iopub.status.idle": "2023-03-12T13:36:22.550839Z",
          "shell.execute_reply.started": "2023-03-12T13:36:22.51833Z",
          "shell.execute_reply": "2023-03-12T13:36:22.549956Z"
        },
        "trusted": true,
        "id": "X1EuwszoAsAq"
      },
      "execution_count": null,
      "outputs": []
    },
    {
      "cell_type": "code",
      "source": [
        "X_train.head() #snapshot of X train"
      ],
      "metadata": {
        "execution": {
          "iopub.status.busy": "2023-03-12T13:36:22.552172Z",
          "iopub.execute_input": "2023-03-12T13:36:22.553176Z",
          "iopub.status.idle": "2023-03-12T13:36:22.574387Z",
          "shell.execute_reply.started": "2023-03-12T13:36:22.553139Z",
          "shell.execute_reply": "2023-03-12T13:36:22.573138Z"
        },
        "trusted": true,
        "id": "Jicv2d9sAsAq"
      },
      "execution_count": null,
      "outputs": []
    },
    {
      "cell_type": "code",
      "source": [
        "print(X_train.columns)\n",
        "print(\"\\n\")\n",
        "print(X_test.columns)\n",
        "print(\"\\n\")\n",
        "print(\"\\n No. of columns in Train Data :{}\".format(len(X_train.columns)))\n",
        "print(\"\\n No. of columns in Test Data :{}\".format(len(X_test.columns)))"
      ],
      "metadata": {
        "execution": {
          "iopub.status.busy": "2023-03-12T13:36:22.575686Z",
          "iopub.execute_input": "2023-03-12T13:36:22.576001Z",
          "iopub.status.idle": "2023-03-12T13:36:22.585301Z",
          "shell.execute_reply.started": "2023-03-12T13:36:22.57597Z",
          "shell.execute_reply": "2023-03-12T13:36:22.584288Z"
        },
        "trusted": true,
        "id": "dDQ-jURaAsAr"
      },
      "execution_count": null,
      "outputs": []
    },
    {
      "cell_type": "markdown",
      "source": [
        "## Standardizing the Numerical data"
      ],
      "metadata": {
        "id": "D4RO27HJAsAs"
      }
    },
    {
      "cell_type": "code",
      "source": [
        "from sklearn.preprocessing import MinMaxScaler, StandardScaler\n",
        "scaler = StandardScaler() #importing Scaler"
      ],
      "metadata": {
        "execution": {
          "iopub.status.busy": "2023-03-12T13:36:22.587063Z",
          "iopub.execute_input": "2023-03-12T13:36:22.588302Z",
          "iopub.status.idle": "2023-03-12T13:36:22.59834Z",
          "shell.execute_reply.started": "2023-03-12T13:36:22.588261Z",
          "shell.execute_reply": "2023-03-12T13:36:22.597285Z"
        },
        "trusted": true,
        "id": "dwEwMtxoAsAt"
      },
      "execution_count": null,
      "outputs": []
    },
    {
      "cell_type": "code",
      "source": [
        "num_vars = ['claim_amount'] #defining Numerical variable"
      ],
      "metadata": {
        "execution": {
          "iopub.status.busy": "2023-03-12T13:36:22.599706Z",
          "iopub.execute_input": "2023-03-12T13:36:22.601177Z",
          "iopub.status.idle": "2023-03-12T13:36:22.610365Z",
          "shell.execute_reply.started": "2023-03-12T13:36:22.601105Z",
          "shell.execute_reply": "2023-03-12T13:36:22.609278Z"
        },
        "trusted": true,
        "id": "WBEJnfWRAsAt"
      },
      "execution_count": null,
      "outputs": []
    },
    {
      "cell_type": "code",
      "source": [
        "scaler = StandardScaler()\n",
        "X_train[num_vars] = scaler.fit_transform(X_train[num_vars])\n",
        "X_test[num_vars] = scaler.transform(X_test[num_vars])\n",
        "\n",
        "print(X_train.head())\n",
        "#Scaling"
      ],
      "metadata": {
        "execution": {
          "iopub.status.busy": "2023-03-12T13:36:22.611721Z",
          "iopub.execute_input": "2023-03-12T13:36:22.613069Z",
          "iopub.status.idle": "2023-03-12T13:36:22.648198Z",
          "shell.execute_reply.started": "2023-03-12T13:36:22.612994Z",
          "shell.execute_reply": "2023-03-12T13:36:22.647137Z"
        },
        "trusted": true,
        "id": "P4Ehaxg6AsAu"
      },
      "execution_count": null,
      "outputs": []
    },
    {
      "cell_type": "code",
      "source": [
        "X_train.head()"
      ],
      "metadata": {
        "execution": {
          "iopub.status.busy": "2023-03-12T13:36:22.650006Z",
          "iopub.execute_input": "2023-03-12T13:36:22.650783Z",
          "iopub.status.idle": "2023-03-12T13:36:22.672457Z",
          "shell.execute_reply.started": "2023-03-12T13:36:22.650736Z",
          "shell.execute_reply": "2023-03-12T13:36:22.670898Z"
        },
        "trusted": true,
        "id": "_GrouRQhAsAv"
      },
      "execution_count": null,
      "outputs": []
    },
    {
      "cell_type": "code",
      "source": [
        "# adding the Constant term\n",
        "X_train = sm.add_constant(X_train)\n",
        "print(X_train.head())\n",
        "\n",
        "X_test = sm.add_constant(X_test)\n",
        "#X_test.head()"
      ],
      "metadata": {
        "execution": {
          "iopub.status.busy": "2023-03-12T13:36:22.674311Z",
          "iopub.execute_input": "2023-03-12T13:36:22.67506Z",
          "iopub.status.idle": "2023-03-12T13:36:22.705279Z",
          "shell.execute_reply.started": "2023-03-12T13:36:22.675013Z",
          "shell.execute_reply": "2023-03-12T13:36:22.703841Z"
        },
        "trusted": true,
        "id": "uWh9rV2NAsAw"
      },
      "execution_count": null,
      "outputs": []
    },
    {
      "cell_type": "code",
      "source": [
        "y_train[:5] #snapshot of Y train"
      ],
      "metadata": {
        "execution": {
          "iopub.status.busy": "2023-03-12T13:36:22.706856Z",
          "iopub.execute_input": "2023-03-12T13:36:22.70723Z",
          "iopub.status.idle": "2023-03-12T13:36:22.716139Z",
          "shell.execute_reply.started": "2023-03-12T13:36:22.707183Z",
          "shell.execute_reply": "2023-03-12T13:36:22.714911Z"
        },
        "trusted": true,
        "id": "aBypQKM7AsAw"
      },
      "execution_count": null,
      "outputs": []
    },
    {
      "cell_type": "markdown",
      "source": [
        "performing preprocessing steps on test data-customers1"
      ],
      "metadata": {
        "id": "Kp1_RVilAsAx"
      }
    },
    {
      "cell_type": "code",
      "source": [
        "customers1.head()"
      ],
      "metadata": {
        "execution": {
          "iopub.status.busy": "2023-03-12T13:36:22.717802Z",
          "iopub.execute_input": "2023-03-12T13:36:22.718146Z",
          "iopub.status.idle": "2023-03-12T13:36:22.73832Z",
          "shell.execute_reply.started": "2023-03-12T13:36:22.718112Z",
          "shell.execute_reply": "2023-03-12T13:36:22.736862Z"
        },
        "trusted": true,
        "id": "s764rwtJAsAy"
      },
      "execution_count": null,
      "outputs": []
    },
    {
      "cell_type": "code",
      "source": [
        "customers1.shape"
      ],
      "metadata": {
        "execution": {
          "iopub.status.busy": "2023-03-12T13:36:22.740461Z",
          "iopub.execute_input": "2023-03-12T13:36:22.740887Z",
          "iopub.status.idle": "2023-03-12T13:36:22.754547Z",
          "shell.execute_reply.started": "2023-03-12T13:36:22.740811Z",
          "shell.execute_reply": "2023-03-12T13:36:22.753248Z"
        },
        "trusted": true,
        "id": "j2j8N7qhAsAz"
      },
      "execution_count": null,
      "outputs": []
    },
    {
      "cell_type": "code",
      "source": [
        "customers1.describe() # summary to understand the data, prints the summary only for numeric attributes by default"
      ],
      "metadata": {
        "execution": {
          "iopub.status.busy": "2023-03-12T13:36:22.756753Z",
          "iopub.execute_input": "2023-03-12T13:36:22.757382Z",
          "iopub.status.idle": "2023-03-12T13:36:22.789206Z",
          "shell.execute_reply.started": "2023-03-12T13:36:22.757346Z",
          "shell.execute_reply": "2023-03-12T13:36:22.787824Z"
        },
        "trusted": true,
        "id": "b1uf559AAsAz"
      },
      "execution_count": null,
      "outputs": []
    },
    {
      "cell_type": "code",
      "source": [
        "customers1.info() # To understand the data type for each of the variables"
      ],
      "metadata": {
        "execution": {
          "iopub.status.busy": "2023-03-12T13:36:22.79092Z",
          "iopub.execute_input": "2023-03-12T13:36:22.791407Z",
          "iopub.status.idle": "2023-03-12T13:36:22.830081Z",
          "shell.execute_reply.started": "2023-03-12T13:36:22.79137Z",
          "shell.execute_reply": "2023-03-12T13:36:22.828723Z"
        },
        "trusted": true,
        "id": "-mfZNYdAAsA0"
      },
      "execution_count": null,
      "outputs": []
    },
    {
      "cell_type": "code",
      "source": [
        "customers1.describe(include=['O'])"
      ],
      "metadata": {
        "execution": {
          "iopub.status.busy": "2023-03-12T13:36:22.831843Z",
          "iopub.execute_input": "2023-03-12T13:36:22.833102Z",
          "iopub.status.idle": "2023-03-12T13:36:22.908389Z",
          "shell.execute_reply.started": "2023-03-12T13:36:22.83305Z",
          "shell.execute_reply": "2023-03-12T13:36:22.907303Z"
        },
        "trusted": true,
        "id": "aDKr1tOsAsA1"
      },
      "execution_count": null,
      "outputs": []
    },
    {
      "cell_type": "code",
      "source": [
        "customers1 = customers1.drop(columns = ['id'],axis=1)\n",
        "#dropping unneccessary variables such as unique values"
      ],
      "metadata": {
        "execution": {
          "iopub.status.busy": "2023-03-12T13:36:22.910121Z",
          "iopub.execute_input": "2023-03-12T13:36:22.910521Z",
          "iopub.status.idle": "2023-03-12T13:36:22.921044Z",
          "shell.execute_reply.started": "2023-03-12T13:36:22.910468Z",
          "shell.execute_reply": "2023-03-12T13:36:22.919509Z"
        },
        "trusted": true,
        "id": "btiqFGBrAsA1"
      },
      "execution_count": null,
      "outputs": []
    },
    {
      "cell_type": "code",
      "source": [
        "customers1.dtypes"
      ],
      "metadata": {
        "execution": {
          "iopub.status.busy": "2023-03-12T13:36:22.923102Z",
          "iopub.execute_input": "2023-03-12T13:36:22.923676Z",
          "iopub.status.idle": "2023-03-12T13:36:22.934323Z",
          "shell.execute_reply.started": "2023-03-12T13:36:22.92364Z",
          "shell.execute_reply": "2023-03-12T13:36:22.93264Z"
        },
        "trusted": true,
        "id": "7zysjHOjAsA2"
      },
      "execution_count": null,
      "outputs": []
    },
    {
      "cell_type": "code",
      "source": [
        "customers1.columns"
      ],
      "metadata": {
        "execution": {
          "iopub.status.busy": "2023-03-12T13:36:22.936599Z",
          "iopub.execute_input": "2023-03-12T13:36:22.937108Z",
          "iopub.status.idle": "2023-03-12T13:36:22.947209Z",
          "shell.execute_reply.started": "2023-03-12T13:36:22.93706Z",
          "shell.execute_reply": "2023-03-12T13:36:22.945873Z"
        },
        "trusted": true,
        "id": "mrcA-JDQAsA3"
      },
      "execution_count": null,
      "outputs": []
    },
    {
      "cell_type": "code",
      "source": [
        "cat=['gender', 'area', 'qualification', 'income', 'marital_status','vintage', 'num_policies', 'policy', 'type_of_policy']"
      ],
      "metadata": {
        "execution": {
          "iopub.status.busy": "2023-03-12T13:36:22.949403Z",
          "iopub.execute_input": "2023-03-12T13:36:22.95245Z",
          "iopub.status.idle": "2023-03-12T13:36:22.959161Z",
          "shell.execute_reply.started": "2023-03-12T13:36:22.952385Z",
          "shell.execute_reply": "2023-03-12T13:36:22.957952Z"
        },
        "trusted": true,
        "id": "h9WwpZL0AsA4"
      },
      "execution_count": null,
      "outputs": []
    },
    {
      "cell_type": "code",
      "source": [
        "num=['claim_amount']"
      ],
      "metadata": {
        "execution": {
          "iopub.status.busy": "2023-03-12T13:36:22.961408Z",
          "iopub.execute_input": "2023-03-12T13:36:22.961976Z",
          "iopub.status.idle": "2023-03-12T13:36:22.970976Z",
          "shell.execute_reply.started": "2023-03-12T13:36:22.961925Z",
          "shell.execute_reply": "2023-03-12T13:36:22.969939Z"
        },
        "trusted": true,
        "id": "7yc6fX5fAsA4"
      },
      "execution_count": null,
      "outputs": []
    },
    {
      "cell_type": "code",
      "source": [
        "customers1[cat] = customers1[cat].astype('category')"
      ],
      "metadata": {
        "execution": {
          "iopub.status.busy": "2023-03-12T13:36:22.972653Z",
          "iopub.execute_input": "2023-03-12T13:36:22.973006Z",
          "iopub.status.idle": "2023-03-12T13:36:23.047834Z",
          "shell.execute_reply.started": "2023-03-12T13:36:22.972972Z",
          "shell.execute_reply": "2023-03-12T13:36:23.046314Z"
        },
        "trusted": true,
        "id": "ql0LYDl9AsA5"
      },
      "execution_count": null,
      "outputs": []
    },
    {
      "cell_type": "code",
      "source": [
        "customers1.dtypes"
      ],
      "metadata": {
        "execution": {
          "iopub.status.busy": "2023-03-12T13:36:23.050643Z",
          "iopub.execute_input": "2023-03-12T13:36:23.051152Z",
          "iopub.status.idle": "2023-03-12T13:36:23.062803Z",
          "shell.execute_reply.started": "2023-03-12T13:36:23.051105Z",
          "shell.execute_reply": "2023-03-12T13:36:23.061089Z"
        },
        "trusted": true,
        "id": "fVYMpJ3CAsA6"
      },
      "execution_count": null,
      "outputs": []
    },
    {
      "cell_type": "code",
      "source": [
        "customers1=pd.get_dummies(customers1,columns=cat,drop_first=True)"
      ],
      "metadata": {
        "execution": {
          "iopub.status.busy": "2023-03-12T13:36:23.064423Z",
          "iopub.execute_input": "2023-03-12T13:36:23.064777Z",
          "iopub.status.idle": "2023-03-12T13:36:23.083448Z",
          "shell.execute_reply.started": "2023-03-12T13:36:23.064744Z",
          "shell.execute_reply": "2023-03-12T13:36:23.081957Z"
        },
        "trusted": true,
        "id": "1LfBQElFAsA7"
      },
      "execution_count": null,
      "outputs": []
    },
    {
      "cell_type": "code",
      "source": [
        "customers1.head()"
      ],
      "metadata": {
        "execution": {
          "iopub.status.busy": "2023-03-12T13:36:23.085499Z",
          "iopub.execute_input": "2023-03-12T13:36:23.085855Z",
          "iopub.status.idle": "2023-03-12T13:36:23.107321Z",
          "shell.execute_reply.started": "2023-03-12T13:36:23.085824Z",
          "shell.execute_reply": "2023-03-12T13:36:23.105973Z"
        },
        "trusted": true,
        "id": "wAIDA6QtAsA7"
      },
      "execution_count": null,
      "outputs": []
    },
    {
      "cell_type": "code",
      "source": [
        "from sklearn.preprocessing import MinMaxScaler, StandardScaler\n",
        "scaler = StandardScaler() #importing Scaler"
      ],
      "metadata": {
        "execution": {
          "iopub.status.busy": "2023-03-12T13:36:23.108779Z",
          "iopub.execute_input": "2023-03-12T13:36:23.109643Z",
          "iopub.status.idle": "2023-03-12T13:36:23.116582Z",
          "shell.execute_reply.started": "2023-03-12T13:36:23.10958Z",
          "shell.execute_reply": "2023-03-12T13:36:23.114992Z"
        },
        "trusted": true,
        "id": "Z2vyLaG-AsA8"
      },
      "execution_count": null,
      "outputs": []
    },
    {
      "cell_type": "code",
      "source": [
        "num_vars1= ['claim_amount'] #defining Numerical variable"
      ],
      "metadata": {
        "execution": {
          "iopub.status.busy": "2023-03-12T13:36:23.119675Z",
          "iopub.execute_input": "2023-03-12T13:36:23.120454Z",
          "iopub.status.idle": "2023-03-12T13:36:23.130497Z",
          "shell.execute_reply.started": "2023-03-12T13:36:23.120211Z",
          "shell.execute_reply": "2023-03-12T13:36:23.128601Z"
        },
        "trusted": true,
        "id": "w9ZUOUCGAsA9"
      },
      "execution_count": null,
      "outputs": []
    },
    {
      "cell_type": "code",
      "source": [
        "# transform data\n",
        "customers1[num_vars1]= scaler.fit_transform(customers1[num_vars1])"
      ],
      "metadata": {
        "execution": {
          "iopub.status.busy": "2023-03-12T13:36:23.132536Z",
          "iopub.execute_input": "2023-03-12T13:36:23.133001Z",
          "iopub.status.idle": "2023-03-12T13:36:23.148712Z",
          "shell.execute_reply.started": "2023-03-12T13:36:23.132955Z",
          "shell.execute_reply": "2023-03-12T13:36:23.14743Z"
        },
        "trusted": true,
        "id": "h1rys4qhAsA9"
      },
      "execution_count": null,
      "outputs": []
    },
    {
      "cell_type": "code",
      "source": [
        "customers1.head()"
      ],
      "metadata": {
        "execution": {
          "iopub.status.busy": "2023-03-12T13:36:23.15098Z",
          "iopub.execute_input": "2023-03-12T13:36:23.151422Z",
          "iopub.status.idle": "2023-03-12T13:36:23.175629Z",
          "shell.execute_reply.started": "2023-03-12T13:36:23.151383Z",
          "shell.execute_reply": "2023-03-12T13:36:23.174074Z"
        },
        "trusted": true,
        "id": "qSwWwbOEAsA-"
      },
      "execution_count": null,
      "outputs": []
    },
    {
      "cell_type": "code",
      "source": [
        "import statsmodels.api as sm # import stats model o/p : R model"
      ],
      "metadata": {
        "execution": {
          "iopub.status.busy": "2023-03-12T13:36:23.17972Z",
          "iopub.execute_input": "2023-03-12T13:36:23.180173Z",
          "iopub.status.idle": "2023-03-12T13:36:23.185665Z",
          "shell.execute_reply.started": "2023-03-12T13:36:23.180135Z",
          "shell.execute_reply": "2023-03-12T13:36:23.184616Z"
        },
        "trusted": true,
        "id": "znjjUmp9AsA_"
      },
      "execution_count": null,
      "outputs": []
    },
    {
      "cell_type": "code",
      "source": [
        "customers1.head()"
      ],
      "metadata": {
        "execution": {
          "iopub.status.busy": "2023-03-12T13:36:23.186779Z",
          "iopub.execute_input": "2023-03-12T13:36:23.187077Z",
          "iopub.status.idle": "2023-03-12T13:36:23.214358Z",
          "shell.execute_reply.started": "2023-03-12T13:36:23.187045Z",
          "shell.execute_reply": "2023-03-12T13:36:23.213441Z"
        },
        "trusted": true,
        "id": "JQSD3i0MAsA_"
      },
      "execution_count": null,
      "outputs": []
    },
    {
      "cell_type": "markdown",
      "source": [
        "## Training the Model\n",
        "\n",
        "Now its time to train our model on our training data!\n",
        "\n"
      ],
      "metadata": {
        "id": "aN4xSblUAsBA"
      }
    },
    {
      "cell_type": "markdown",
      "source": [
        "`## Simple Regression model - R style`"
      ],
      "metadata": {
        "id": "OelDK49qAsBB"
      }
    },
    {
      "cell_type": "code",
      "source": [
        "model = sm.OLS(y_train, X_train[['const','claim_amount']])\n",
        "results = model.fit()\n",
        "print(results.summary())"
      ],
      "metadata": {
        "execution": {
          "iopub.status.busy": "2023-03-12T13:36:23.215672Z",
          "iopub.execute_input": "2023-03-12T13:36:23.216862Z",
          "iopub.status.idle": "2023-03-12T13:36:23.267824Z",
          "shell.execute_reply.started": "2023-03-12T13:36:23.21681Z",
          "shell.execute_reply": "2023-03-12T13:36:23.266162Z"
        },
        "trusted": true,
        "id": "-_8ODFpDAsBB"
      },
      "execution_count": null,
      "outputs": []
    },
    {
      "cell_type": "markdown",
      "source": [
        "# Errors metrics to evaluate the model\n",
        "Let's evaluate our model performance by calculating the residual sum of squares and the explained variance score (R^2).\n",
        "\n",
        "** Calculate the Mean Absolute Error, Mean Squared Error, and the Root Mean Squared Error. Refer to the lecture or to Wikipedia for the formulas**"
      ],
      "metadata": {
        "id": "xHvkpwdDAsBC"
      }
    },
    {
      "cell_type": "code",
      "source": [
        "def mean_absolute_percentage_error(y_true, y_pred):\n",
        "    y_true, y_pred = np.array(y_true), np.array(y_pred)\n",
        "    return np.mean(np.abs((y_true - y_pred) / y_true)) * 100\n",
        "#defining MAPE"
      ],
      "metadata": {
        "execution": {
          "iopub.status.busy": "2023-03-12T13:36:23.270041Z",
          "iopub.execute_input": "2023-03-12T13:36:23.271838Z",
          "iopub.status.idle": "2023-03-12T13:36:23.286256Z",
          "shell.execute_reply.started": "2023-03-12T13:36:23.271768Z",
          "shell.execute_reply": "2023-03-12T13:36:23.283867Z"
        },
        "trusted": true,
        "id": "Cx83u0YFAsBD"
      },
      "execution_count": null,
      "outputs": []
    },
    {
      "cell_type": "code",
      "source": [
        "from sklearn import metrics\n",
        "import numpy as np\n",
        "scores = pd.DataFrame(columns=['Model','MAE_Train','MSE_Train','RMSE_Train','MAPE_Train','MAE_Test','MSE_Test','RMSE_Test','MAPE_Test','R^2'])\n",
        "\n",
        "\n",
        "#definition of error metrics function\n",
        "def get_metrics(train_act,train_pred,test_act,test_pred,model_description,dataframe):\n",
        "    MAE_Train = metrics.mean_absolute_error(train_act,train_pred)\n",
        "    MSE_Train = metrics.mean_squared_error(train_act,train_pred)\n",
        "    RMSE_Train = np.sqrt(metrics.mean_squared_error(train_act,train_pred))\n",
        "    MAPE_Train = mean_absolute_percentage_error(train_act,train_pred)\n",
        "    MAE_Test = metrics.mean_absolute_error(test_act,test_pred)\n",
        "    MSE_Test = metrics.mean_squared_error(test_act,test_pred)\n",
        "    RMSE_Test = np.sqrt(metrics.mean_squared_error(test_act,test_pred))\n",
        "    MAPE_Test = mean_absolute_percentage_error(test_act,test_pred)\n",
        "    R2=metrics.r2_score(train_act,train_pred)\n",
        "    s1=pd.Series([model_description,MAE_Train,MSE_Train,RMSE_Train,MAPE_Train,MAE_Test,MSE_Test,RMSE_Test,MAPE_Test,R2],\n",
        "                                           index=scores.columns)\n",
        "    dataframe = dataframe.append(s1, ignore_index=True)\n",
        "    return(dataframe)"
      ],
      "metadata": {
        "execution": {
          "iopub.status.busy": "2023-03-12T13:36:23.296141Z",
          "iopub.execute_input": "2023-03-12T13:36:23.300863Z",
          "iopub.status.idle": "2023-03-12T13:36:23.329331Z",
          "shell.execute_reply.started": "2023-03-12T13:36:23.300756Z",
          "shell.execute_reply": "2023-03-12T13:36:23.32677Z"
        },
        "trusted": true,
        "id": "g1GfHp91AsBD"
      },
      "execution_count": null,
      "outputs": []
    },
    {
      "cell_type": "markdown",
      "source": [
        "Coefficients"
      ],
      "metadata": {
        "id": "2-qZHnXUAsBE"
      }
    },
    {
      "cell_type": "code",
      "source": [
        "#definition of coefficient function\n",
        "def coeff(model_title,modelparams):\n",
        "    tempdf=pd.DataFrame(modelparams)\n",
        "    tempdf.rename(columns = {0:model_title},inplace = True)\n",
        "    DF=pd.concat([coefficients,tempdf],axis=1)\n",
        "    return(DF)"
      ],
      "metadata": {
        "execution": {
          "iopub.status.busy": "2023-03-12T13:36:23.340343Z",
          "iopub.execute_input": "2023-03-12T13:36:23.345196Z",
          "iopub.status.idle": "2023-03-12T13:36:23.359642Z",
          "shell.execute_reply.started": "2023-03-12T13:36:23.345093Z",
          "shell.execute_reply": "2023-03-12T13:36:23.357784Z"
        },
        "trusted": true,
        "id": "cndlesKlAsBF"
      },
      "execution_count": null,
      "outputs": []
    },
    {
      "cell_type": "code",
      "source": [
        "coeff"
      ],
      "metadata": {
        "execution": {
          "iopub.status.busy": "2023-03-12T13:36:23.369815Z",
          "iopub.execute_input": "2023-03-12T13:36:23.37287Z",
          "iopub.status.idle": "2023-03-12T13:36:23.38109Z",
          "shell.execute_reply.started": "2023-03-12T13:36:23.372808Z",
          "shell.execute_reply": "2023-03-12T13:36:23.379475Z"
        },
        "trusted": true,
        "id": "sIrhYx7VAsBG"
      },
      "execution_count": null,
      "outputs": []
    },
    {
      "cell_type": "code",
      "source": [
        "#get coefficients\n",
        "coefficients=pd.DataFrame(results.params)\n",
        "coefficients.rename(columns = {0:\"Simple_Linear_Regression\"},inplace = True)\n",
        "coefficients"
      ],
      "metadata": {
        "execution": {
          "iopub.status.busy": "2023-03-12T13:36:23.383634Z",
          "iopub.execute_input": "2023-03-12T13:36:23.384874Z",
          "iopub.status.idle": "2023-03-12T13:36:23.400043Z",
          "shell.execute_reply.started": "2023-03-12T13:36:23.384824Z",
          "shell.execute_reply": "2023-03-12T13:36:23.398425Z"
        },
        "trusted": true,
        "id": "PMzYMarGAsBG"
      },
      "execution_count": null,
      "outputs": []
    },
    {
      "cell_type": "markdown",
      "source": [
        "Building dataframe to see the scores of every model and comparing the model performance"
      ],
      "metadata": {
        "id": "yr3XgHKOAsBH"
      }
    },
    {
      "cell_type": "code",
      "source": [
        "#Get error metrics\n",
        "scores = get_metrics(y_train,\n",
        "                     results.predict(X_train[['const','claim_amount']]),\n",
        "                     y_test,results.predict(X_test[['const','claim_amount']]),\n",
        "                     \"Simple_Linear_Regression\",scores)\n",
        "scores"
      ],
      "metadata": {
        "execution": {
          "iopub.status.busy": "2023-03-12T13:36:23.402365Z",
          "iopub.execute_input": "2023-03-12T13:36:23.403297Z",
          "iopub.status.idle": "2023-03-12T13:36:23.459205Z",
          "shell.execute_reply.started": "2023-03-12T13:36:23.403243Z",
          "shell.execute_reply": "2023-03-12T13:36:23.457722Z"
        },
        "trusted": true,
        "id": "zh3P_CnkAsBI"
      },
      "execution_count": null,
      "outputs": []
    },
    {
      "cell_type": "markdown",
      "source": [
        "Multiple Regression model - R style"
      ],
      "metadata": {
        "id": "5zGYCqcRAsBJ"
      }
    },
    {
      "cell_type": "code",
      "source": [
        "X_train.columns  #columns of X train"
      ],
      "metadata": {
        "execution": {
          "iopub.status.busy": "2023-03-12T13:36:23.461456Z",
          "iopub.execute_input": "2023-03-12T13:36:23.462303Z",
          "iopub.status.idle": "2023-03-12T13:36:23.473Z",
          "shell.execute_reply.started": "2023-03-12T13:36:23.46224Z",
          "shell.execute_reply": "2023-03-12T13:36:23.471325Z"
        },
        "trusted": true,
        "id": "lJgSr7OLAsBJ"
      },
      "execution_count": null,
      "outputs": []
    },
    {
      "cell_type": "code",
      "source": [
        "multiple_reg = sm.OLS(y_train, X_train[['const', 'area_Urban',\n",
        "       'qualification_High School', 'qualification_Others', 'income_5L-10L',\n",
        "       'income_<=2L', 'income_More than 10L', 'marital_status_1', 'vintage_1',\n",
        "       'vintage_2', 'vintage_3', 'vintage_4', 'vintage_5']]).fit()\n",
        "print(multiple_reg.summary()) #build a model using few of the attributes"
      ],
      "metadata": {
        "execution": {
          "iopub.status.busy": "2023-03-12T13:36:23.475772Z",
          "iopub.execute_input": "2023-03-12T13:36:23.476835Z",
          "iopub.status.idle": "2023-03-12T13:36:23.598872Z",
          "shell.execute_reply.started": "2023-03-12T13:36:23.47678Z",
          "shell.execute_reply": "2023-03-12T13:36:23.59748Z"
        },
        "trusted": true,
        "id": "Jh2PM0feAsBK"
      },
      "execution_count": null,
      "outputs": []
    },
    {
      "cell_type": "code",
      "source": [
        "#get error metrocs\n",
        "scores = get_metrics(y_train,multiple_reg.predict(X_train[['const', 'area_Urban',\n",
        "       'qualification_High School', 'qualification_Others', 'income_5L-10L',\n",
        "       'income_<=2L', 'income_More than 10L', 'marital_status_1', 'vintage_1',\n",
        "       'vintage_2', 'vintage_3', 'vintage_4', 'vintage_5']]),y_test,multiple_reg.predict(X_test[['const', 'area_Urban',\n",
        "       'qualification_High School', 'qualification_Others', 'income_5L-10L',\n",
        "       'income_<=2L', 'income_More than 10L', 'marital_status_1', 'vintage_1',\n",
        "       'vintage_2', 'vintage_3', 'vintage_4', 'vintage_5']]),\"Multiple_Linear_Regression\",scores)\n",
        "scores"
      ],
      "metadata": {
        "execution": {
          "iopub.status.busy": "2023-03-12T13:36:23.600814Z",
          "iopub.execute_input": "2023-03-12T13:36:23.601595Z",
          "iopub.status.idle": "2023-03-12T13:36:23.671419Z",
          "shell.execute_reply.started": "2023-03-12T13:36:23.601546Z",
          "shell.execute_reply": "2023-03-12T13:36:23.670016Z"
        },
        "trusted": true,
        "id": "p4zaNJhkAsBL"
      },
      "execution_count": null,
      "outputs": []
    },
    {
      "cell_type": "code",
      "source": [
        "#get coefficients\n",
        "coefficients=coeff(\"Multiple_Linear_Regression\",multiple_reg.params)\n",
        "coefficients"
      ],
      "metadata": {
        "execution": {
          "iopub.status.busy": "2023-03-12T13:36:23.67357Z",
          "iopub.execute_input": "2023-03-12T13:36:23.674332Z",
          "iopub.status.idle": "2023-03-12T13:36:23.6997Z",
          "shell.execute_reply.started": "2023-03-12T13:36:23.674281Z",
          "shell.execute_reply": "2023-03-12T13:36:23.698321Z"
        },
        "trusted": true,
        "id": "yg7BA4n7AsBM"
      },
      "execution_count": null,
      "outputs": []
    },
    {
      "cell_type": "code",
      "source": [
        "multiple_reg1 = sm.OLS(y_train, X_train).fit()\n",
        "print(multiple_reg1.summary()) #build a model using all attributes"
      ],
      "metadata": {
        "execution": {
          "iopub.status.busy": "2023-03-12T13:36:23.701884Z",
          "iopub.execute_input": "2023-03-12T13:36:23.702694Z",
          "iopub.status.idle": "2023-03-12T13:36:23.917277Z",
          "shell.execute_reply.started": "2023-03-12T13:36:23.702641Z",
          "shell.execute_reply": "2023-03-12T13:36:23.915966Z"
        },
        "trusted": true,
        "id": "TcTsmPRcAsBN"
      },
      "execution_count": null,
      "outputs": []
    },
    {
      "cell_type": "code",
      "source": [
        "#get Coefficients\n",
        "coefficients=coeff(\"MLR_with_all_attributes\",multiple_reg1.params)\n",
        "coefficients"
      ],
      "metadata": {
        "execution": {
          "iopub.status.busy": "2023-03-12T13:36:23.919291Z",
          "iopub.execute_input": "2023-03-12T13:36:23.920004Z",
          "iopub.status.idle": "2023-03-12T13:36:23.947419Z",
          "shell.execute_reply.started": "2023-03-12T13:36:23.919955Z",
          "shell.execute_reply": "2023-03-12T13:36:23.946165Z"
        },
        "trusted": true,
        "id": "IXCt0wFFAsBN"
      },
      "execution_count": null,
      "outputs": []
    },
    {
      "cell_type": "code",
      "source": [
        "#get error metrics\n",
        "scores = get_metrics(y_train,multiple_reg1.predict(X_train),y_test,multiple_reg1.predict(X_test),\"MLR_with_all_attributes\",scores)\n",
        "scores"
      ],
      "metadata": {
        "execution": {
          "iopub.status.busy": "2023-03-12T13:36:23.949313Z",
          "iopub.execute_input": "2023-03-12T13:36:23.950006Z",
          "iopub.status.idle": "2023-03-12T13:36:24.008496Z",
          "shell.execute_reply.started": "2023-03-12T13:36:23.949959Z",
          "shell.execute_reply": "2023-03-12T13:36:24.007049Z"
        },
        "trusted": true,
        "id": "u3fI19GhAsBO"
      },
      "execution_count": null,
      "outputs": []
    },
    {
      "cell_type": "markdown",
      "source": [
        "Check for Linearity"
      ],
      "metadata": {
        "id": "KESERWzQAsBP"
      }
    },
    {
      "cell_type": "markdown",
      "source": [
        "##from scipy import stats"
      ],
      "metadata": {
        "id": "MrRcrDroAsBP"
      }
    },
    {
      "cell_type": "markdown",
      "source": [
        "#definition of residual plots function\n",
        "def residual_plots(results):\n",
        "    import matplotlib.pyplot as plt\n",
        "    import statsmodels.formula.api as smf\n",
        "    from statsmodels.nonparametric.smoothers_lowess import lowess\n",
        "    from scipy import stats\n",
        "    import statsmodels.api as sm\n",
        "    \n",
        "    \n",
        "    fig, ax = plt.subplots(2,2,figsize=(14,10))\n",
        "    ########## Residuals vs fitted  ##########\n",
        "    residuals = results.resid\n",
        "    fitted = results.fittedvalues\n",
        "    smoothed = lowess(residuals,fitted)\n",
        "    top3 = abs(residuals).sort_values(ascending = False)[:3]\n",
        "\n",
        "    plt.rcParams.update({'font.size': 16})\n",
        "    plt.rcParams[\"figure.figsize\"] = (8,7)\n",
        "    \n",
        "    ax[0,0].scatter(fitted, residuals, edgecolors = 'k', facecolors = 'none')\n",
        "    ax[0,0].plot(smoothed[:,0],smoothed[:,1],color = 'r')\n",
        "    ax[0,0].set_ylabel('Residuals')\n",
        "    ax[0,0].set_xlabel('Fitted Values')\n",
        "    ax[0,0].set_title('Residuals vs. Fitted')\n",
        "    ax[0,0].plot([min(fitted),max(fitted)],[0,0],color = 'k',linestyle = ':', alpha = .3)\n",
        "\n",
        "    for i in top3.index:\n",
        "        ax[0,0].annotate(i,xy=(fitted[i],residuals[i]))\n",
        "\n",
        "    #plt.show()\n",
        "    \n",
        "    \n",
        "    ######### Normal qq plot ###########\n",
        "    sorted_student_residuals = pd.Series(results.get_influence().resid_studentized_internal)\n",
        "    sorted_student_residuals.index = results.resid.index\n",
        "    sorted_student_residuals = sorted_student_residuals.sort_values(ascending = True)\n",
        "    df = pd.DataFrame(sorted_student_residuals)\n",
        "    df.columns = ['sorted_student_residuals']\n",
        "    df['theoretical_quantiles'] = stats.probplot(df['sorted_student_residuals'], dist = 'norm', fit = False)[0]\n",
        "    rankings = abs(df['sorted_student_residuals']).sort_values(ascending = False)\n",
        "    top3 = rankings[:3]\n",
        "\n",
        "    #fig, ax = plt.subplots()\n",
        "    x = df['theoretical_quantiles']\n",
        "    y = df['sorted_student_residuals']\n",
        "    ax[0,1].scatter(x,y, edgecolor = 'k',facecolor = 'none')\n",
        "    ax[0,1].set_title('Normal Q-Q')\n",
        "    ax[0,1].set_ylabel('Standardized Residuals')\n",
        "    ax[0,1].set_xlabel('Theoretical Quantiles')\n",
        "    ax[0,1].plot([np.min([x,y]),np.max([x,y])],[np.min([x,y]),np.max([x,y])], color = 'r', ls = '--')\n",
        "    for val in top3.index:\n",
        "        ax[0,1].annotate(val,xy=(df['theoretical_quantiles'].loc[val],df['sorted_student_residuals'].loc[val]))\n",
        "    #plt.show()\n",
        "    \n",
        "    \n",
        "    ######### Homoscedasticity ############\n",
        "    student_residuals = results.get_influence().resid_studentized_internal\n",
        "    sqrt_student_residuals = pd.Series(np.sqrt(np.abs(student_residuals)))\n",
        "    sqrt_student_residuals.index = results.resid.index\n",
        "    smoothed = lowess(sqrt_student_residuals,fitted)\n",
        "    top3 = abs(sqrt_student_residuals).sort_values(ascending = False)[:3]\n",
        "\n",
        "    #fig, ax = plt.subplots()\n",
        "    ax[1,0].scatter(fitted, sqrt_student_residuals, edgecolors = 'k', facecolors = 'none')\n",
        "    ax[1,0].plot(smoothed[:,0],smoothed[:,1],color = 'r')\n",
        "    ax[1,0].set_ylabel('$\\sqrt{|Studentized \\ Residuals|}$')\n",
        "    ax[1,0].set_xlabel('Fitted Values')\n",
        "    ax[1,0].set_title('Scale-Location')\n",
        "    ax[1,0].set_ylim(0,max(sqrt_student_residuals)+0.1)\n",
        "    for i in top3.index:\n",
        "        ax[1,0].annotate(i,xy=(fitted[i],sqrt_student_residuals[i]))\n",
        "    #plt.show()\n",
        "    \n",
        "    \n",
        "    ######### Cooks distance  ###########\n",
        "    student_residuals = pd.Series(results.get_influence().resid_studentized_internal)\n",
        "    student_residuals.index = results.resid.index\n",
        "    df = pd.DataFrame(student_residuals)\n",
        "    df.columns = ['student_residuals']\n",
        "    df['leverage'] = results.get_influence().hat_matrix_diag\n",
        "    smoothed = lowess(df['student_residuals'],df['leverage'])\n",
        "    sorted_student_residuals = abs(df['student_residuals']).sort_values(ascending = False)\n",
        "    top3 = sorted_student_residuals[:3]\n",
        "\n",
        "    #fig, ax = plt.subplots()\n",
        "    x = df['leverage']\n",
        "    y = df['student_residuals']\n",
        "    xpos = max(x)+max(x)*0.01  \n",
        "    ax[1,1].scatter(x, y, edgecolors = 'k', facecolors = 'none')\n",
        "    ax[1,1].plot(smoothed[:,0],smoothed[:,1],color = 'r')\n",
        "    ax[1,1].set_ylabel('Studentized Residuals')\n",
        "    ax[1,1].set_xlabel('Leverage')\n",
        "    ax[1,1].set_title('Residuals vs. Leverage')\n",
        "    ax[1,1].set_ylim(min(y)-min(y)*0.15,max(y)+max(y)*0.15)\n",
        "    ax[1,1].set_xlim(-0.01,max(x)+max(x)*0.05)\n",
        "    plt.tight_layout()\n",
        "    for val in top3.index:\n",
        "        ax[1,1].annotate(val,xy=(x.loc[val],y.loc[val]))\n",
        "\n",
        "    cooksx = np.linspace(min(x), xpos, 50)\n",
        "    p = len(results.params)\n",
        "    poscooks1y = np.sqrt((p*(1-cooksx))/cooksx)\n",
        "    poscooks05y = np.sqrt(0.5*(p*(1-cooksx))/cooksx)\n",
        "    negcooks1y = -np.sqrt((p*(1-cooksx))/cooksx)\n",
        "    negcooks05y = -np.sqrt(0.5*(p*(1-cooksx))/cooksx)\n",
        "\n",
        "    ax[1,1].plot(cooksx,poscooks1y,label = \"Cook's Distance\", ls = ':', color = 'r')\n",
        "    ax[1,1].plot(cooksx,poscooks05y, ls = ':', color = 'r')\n",
        "    ax[1,1].plot(cooksx,negcooks1y, ls = ':', color = 'r')\n",
        "    ax[1,1].plot(cooksx,negcooks05y, ls = ':', color = 'r')\n",
        "    ax[1,1].plot([0,0],ax[1,1].get_ylim(), ls=\":\", alpha = .3, color = 'k')\n",
        "    ax[1,1].plot(ax[1,1].get_xlim(), [0,0], ls=\":\", alpha = .3, color = 'k')\n",
        "    ax[1,1].annotate('1.0', xy = (xpos, poscooks1y[-1]), color = 'r')\n",
        "    ax[1,1].annotate('0.5', xy = (xpos, poscooks05y[-1]), color = 'r')\n",
        "    ax[1,1].annotate('1.0', xy = (xpos, negcooks1y[-1]), color = 'r')\n",
        "    ax[1,1].annotate('0.5', xy = (xpos, negcooks05y[-1]), color = 'r')\n",
        "    ax[1,1].legend()\n",
        "    plt.show()"
      ],
      "metadata": {
        "id": "L9yxykUnAsBQ"
      }
    },
    {
      "cell_type": "markdown",
      "source": [
        "# Residuals - QQ Plot\n",
        "\n",
        "You should have gotten a very good model with a good fit. Let's quickly explore the residuals to make sure everything was okay with our data.\n",
        "\n",
        "**Plot a histogram of the residuals and make sure it looks normally distributed. Use either seaborn distplot, or just plt.hist().**"
      ],
      "metadata": {
        "id": "Dr1IC0RVAsBS"
      }
    },
    {
      "cell_type": "code",
      "source": [
        "#residual_plots(multiple_reg1) #get residual plots of model"
      ],
      "metadata": {
        "execution": {
          "iopub.status.busy": "2023-03-12T13:36:24.010441Z",
          "iopub.execute_input": "2023-03-12T13:36:24.011131Z",
          "iopub.status.idle": "2023-03-12T13:36:24.016493Z",
          "shell.execute_reply.started": "2023-03-12T13:36:24.011084Z",
          "shell.execute_reply": "2023-03-12T13:36:24.015276Z"
        },
        "trusted": true,
        "id": "utGLlJRBAsBT"
      },
      "execution_count": null,
      "outputs": []
    },
    {
      "cell_type": "markdown",
      "source": [
        "Influential points"
      ],
      "metadata": {
        "id": "_y5xiT6BAsBT"
      }
    },
    {
      "cell_type": "markdown",
      "source": [
        "#from statsmodels.stats.outliers_influence import OLSInfluence"
      ],
      "metadata": {
        "id": "skYvmTDGAsBU"
      }
    },
    {
      "cell_type": "markdown",
      "source": [
        "influence_points= OLSInfluence(results) # results is output from the lm model built earlier\n",
        "\n",
        "pd.DataFrame(influence_points.influence).describe()"
      ],
      "metadata": {
        "id": "k0gQ28utAsBV"
      }
    },
    {
      "cell_type": "code",
      "source": [
        "#removal of influence points using influence value\n",
        "#influence_data = pd.DataFrame(influence_points.influence[influence_points.influence>=1])\n",
        "#customers_clean['influence_value']= influence_points.influence\n",
        "#customers_clean.loc[influence_data.index,].sort_values(['influence_value'], ascending = False).head(10)\n"
      ],
      "metadata": {
        "execution": {
          "iopub.status.busy": "2023-03-12T13:36:24.018457Z",
          "iopub.execute_input": "2023-03-12T13:36:24.01921Z",
          "iopub.status.idle": "2023-03-12T13:36:24.030512Z",
          "shell.execute_reply.started": "2023-03-12T13:36:24.019152Z",
          "shell.execute_reply": "2023-03-12T13:36:24.028331Z"
        },
        "trusted": true,
        "id": "bm2uUdbbAsBV"
      },
      "execution_count": null,
      "outputs": []
    },
    {
      "cell_type": "code",
      "source": [
        "# leverage vs residual plot\n",
        "#from statsmodels.graphics.regressionplots import plot_leverage_resid2\n",
        "#fig, ax = plt.subplots(figsize=(19, 10))\n",
        "#fig = plot_leverage_resid2(results, ax=ax)"
      ],
      "metadata": {
        "execution": {
          "iopub.status.busy": "2023-03-12T13:36:24.032978Z",
          "iopub.execute_input": "2023-03-12T13:36:24.034012Z",
          "iopub.status.idle": "2023-03-12T13:36:24.040658Z",
          "shell.execute_reply.started": "2023-03-12T13:36:24.033787Z",
          "shell.execute_reply": "2023-03-12T13:36:24.038884Z"
        },
        "trusted": true,
        "id": "K20HItkKAsBW"
      },
      "execution_count": null,
      "outputs": []
    },
    {
      "cell_type": "code",
      "source": [
        "#customers.loc[[85337, 79622, 29160, 81291, 29810, 81722, 27429, 53888, 44319, 10555, 47713, 18602, 632, 33042, 46166]] #looking at Influential points"
      ],
      "metadata": {
        "execution": {
          "iopub.status.busy": "2023-03-12T13:36:24.043106Z",
          "iopub.execute_input": "2023-03-12T13:36:24.04397Z",
          "iopub.status.idle": "2023-03-12T13:36:24.057394Z",
          "shell.execute_reply.started": "2023-03-12T13:36:24.043922Z",
          "shell.execute_reply": "2023-03-12T13:36:24.055323Z"
        },
        "trusted": true,
        "id": "zljjEz3IAsBX"
      },
      "execution_count": null,
      "outputs": []
    },
    {
      "cell_type": "code",
      "source": [
        "#fig_without_outliers = px.scatter(customers, x=\"claim_amount\", y=\"cltv\",trendline=\"ols\")\n",
        "#fig_without_outliers.show() #plot sactter plot between \"Length of Membership\",\"Yearly Amount Spent\""
      ],
      "metadata": {
        "execution": {
          "iopub.status.busy": "2023-03-12T13:36:24.060415Z",
          "iopub.execute_input": "2023-03-12T13:36:24.0613Z",
          "iopub.status.idle": "2023-03-12T13:36:24.067523Z",
          "shell.execute_reply.started": "2023-03-12T13:36:24.061239Z",
          "shell.execute_reply": "2023-03-12T13:36:24.065763Z"
        },
        "trusted": true,
        "id": "vuQ4yjN4AsBY"
      },
      "execution_count": null,
      "outputs": []
    },
    {
      "cell_type": "code",
      "source": [
        "X_train.columns  #get columns of X train"
      ],
      "metadata": {
        "execution": {
          "iopub.status.busy": "2023-03-12T13:36:24.069874Z",
          "iopub.execute_input": "2023-03-12T13:36:24.070714Z",
          "iopub.status.idle": "2023-03-12T13:36:24.0821Z",
          "shell.execute_reply.started": "2023-03-12T13:36:24.070665Z",
          "shell.execute_reply": "2023-03-12T13:36:24.080148Z"
        },
        "trusted": true,
        "id": "nUHz0j74AsBZ"
      },
      "execution_count": null,
      "outputs": []
    },
    {
      "cell_type": "code",
      "source": [
        "multiple_reg2 = sm.OLS(y_train, X_train[['const', 'claim_amount', 'gender_Male', 'area_Urban',\n",
        "       'qualification_High School', 'qualification_Others', 'income_5L-10L',\n",
        "       'income_<=2L', 'income_More than 10L', 'marital_status_1', 'vintage_1',\n",
        "       'vintage_2', 'vintage_3', 'vintage_4', 'vintage_5', 'vintage_6',\n",
        "       'vintage_7', 'vintage_8', 'num_policies_More than 1', 'policy_B',\n",
        "       'policy_C', 'type_of_policy_Platinum', 'type_of_policy_Silver']]).fit()\n",
        "\n",
        "print(multiple_reg2.summary())  #build a regression model"
      ],
      "metadata": {
        "execution": {
          "iopub.status.busy": "2023-03-12T13:36:24.084593Z",
          "iopub.execute_input": "2023-03-12T13:36:24.085696Z",
          "iopub.status.idle": "2023-03-12T13:36:24.247002Z",
          "shell.execute_reply.started": "2023-03-12T13:36:24.085647Z",
          "shell.execute_reply": "2023-03-12T13:36:24.245587Z"
        },
        "trusted": true,
        "id": "kLg6izCMAsBZ"
      },
      "execution_count": null,
      "outputs": []
    },
    {
      "cell_type": "markdown",
      "source": [
        "after removing outliers"
      ],
      "metadata": {
        "id": "SUW88-GsAsBa"
      }
    },
    {
      "cell_type": "code",
      "source": [
        "#get error metrics\n",
        "scores = get_metrics(y_train,multiple_reg2.predict(X_train[['const', 'claim_amount', 'gender_Male', 'area_Urban',\n",
        "       'qualification_High School', 'qualification_Others', 'income_5L-10L',\n",
        "       'income_<=2L', 'income_More than 10L', 'marital_status_1', 'vintage_1',\n",
        "       'vintage_2', 'vintage_3', 'vintage_4', 'vintage_5', 'vintage_6',\n",
        "       'vintage_7', 'vintage_8', 'num_policies_More than 1', 'policy_B',\n",
        "       'policy_C', 'type_of_policy_Platinum', 'type_of_policy_Silver']]),y_test,multiple_reg2.predict(X_test[['const', 'claim_amount', 'gender_Male', 'area_Urban',\n",
        "       'qualification_High School', 'qualification_Others', 'income_5L-10L',\n",
        "       'income_<=2L', 'income_More than 10L', 'marital_status_1', 'vintage_1',\n",
        "       'vintage_2', 'vintage_3', 'vintage_4', 'vintage_5', 'vintage_6',\n",
        "       'vintage_7', 'vintage_8', 'num_policies_More than 1', 'policy_B',\n",
        "       'policy_C', 'type_of_policy_Platinum', 'type_of_policy_Silver']]),\"MLR_without_outliers\",scores)\n",
        "scores"
      ],
      "metadata": {
        "execution": {
          "iopub.status.busy": "2023-03-12T13:36:24.248947Z",
          "iopub.execute_input": "2023-03-12T13:36:24.249734Z",
          "iopub.status.idle": "2023-03-12T13:36:24.324567Z",
          "shell.execute_reply.started": "2023-03-12T13:36:24.249675Z",
          "shell.execute_reply": "2023-03-12T13:36:24.323265Z"
        },
        "trusted": true,
        "id": "07M276pgAsBb"
      },
      "execution_count": null,
      "outputs": []
    },
    {
      "cell_type": "code",
      "source": [
        "#get coefficients\n",
        "coefficients=coeff(\"MLR_without_outliers\",multiple_reg2.params)\n",
        "coefficients"
      ],
      "metadata": {
        "execution": {
          "iopub.status.busy": "2023-03-12T13:36:24.32647Z",
          "iopub.execute_input": "2023-03-12T13:36:24.327198Z",
          "iopub.status.idle": "2023-03-12T13:36:24.358795Z",
          "shell.execute_reply.started": "2023-03-12T13:36:24.32715Z",
          "shell.execute_reply": "2023-03-12T13:36:24.357468Z"
        },
        "trusted": true,
        "id": "muPIl5h2AsBc"
      },
      "execution_count": null,
      "outputs": []
    },
    {
      "cell_type": "markdown",
      "source": [
        "## Model refinement - Using Sequential Feature selection\n"
      ],
      "metadata": {
        "id": "vLMNw_o7AsBd"
      }
    },
    {
      "cell_type": "code",
      "source": [
        "# Python style of Linear Regression model\n",
        "from sklearn.linear_model import LinearRegression\n",
        "lm = LinearRegression()"
      ],
      "metadata": {
        "execution": {
          "iopub.status.busy": "2023-03-12T13:36:24.360622Z",
          "iopub.execute_input": "2023-03-12T13:36:24.361395Z",
          "iopub.status.idle": "2023-03-12T13:36:24.368457Z",
          "shell.execute_reply.started": "2023-03-12T13:36:24.361347Z",
          "shell.execute_reply": "2023-03-12T13:36:24.36703Z"
        },
        "trusted": true,
        "id": "Z3OA09bLAsBd"
      },
      "execution_count": null,
      "outputs": []
    },
    {
      "cell_type": "code",
      "source": [
        "lin_model=lm.fit(X_train,y_train)"
      ],
      "metadata": {
        "execution": {
          "iopub.status.busy": "2023-03-12T13:36:24.370364Z",
          "iopub.execute_input": "2023-03-12T13:36:24.371098Z",
          "iopub.status.idle": "2023-03-12T13:36:24.438503Z",
          "shell.execute_reply.started": "2023-03-12T13:36:24.371052Z",
          "shell.execute_reply": "2023-03-12T13:36:24.436274Z"
        },
        "trusted": true,
        "id": "CRxCGwO_AsBe"
      },
      "execution_count": null,
      "outputs": []
    },
    {
      "cell_type": "code",
      "source": [
        "train_pred = lin_model.predict(X_train)\n",
        "test_pred = lin_model.predict(X_test)"
      ],
      "metadata": {
        "execution": {
          "iopub.status.busy": "2023-03-12T13:36:24.440653Z",
          "iopub.execute_input": "2023-03-12T13:36:24.441476Z",
          "iopub.status.idle": "2023-03-12T13:36:24.463484Z",
          "shell.execute_reply.started": "2023-03-12T13:36:24.44143Z",
          "shell.execute_reply": "2023-03-12T13:36:24.461786Z"
        },
        "trusted": true,
        "id": "n5S4cj4zAsBf"
      },
      "execution_count": null,
      "outputs": []
    },
    {
      "cell_type": "code",
      "source": [
        "#get error metrics\n",
        "scores = get_metrics(y_train,lin_model.predict(X_train),y_test,lin_model.predict(X_test),\"linear_regression\",scores)\n",
        "scores"
      ],
      "metadata": {
        "execution": {
          "iopub.status.busy": "2023-03-12T13:36:24.465397Z",
          "iopub.execute_input": "2023-03-12T13:36:24.466098Z",
          "iopub.status.idle": "2023-03-12T13:36:24.528028Z",
          "shell.execute_reply.started": "2023-03-12T13:36:24.466051Z",
          "shell.execute_reply": "2023-03-12T13:36:24.526799Z"
        },
        "trusted": true,
        "id": "9cKcPrdaAsBg"
      },
      "execution_count": null,
      "outputs": []
    },
    {
      "cell_type": "markdown",
      "source": [
        "\n",
        "## Multi-collinearity"
      ],
      "metadata": {
        "id": "PNpEWQ3SAsBg"
      }
    },
    {
      "cell_type": "code",
      "source": [
        "customers.head() #get snapshot of clean data"
      ],
      "metadata": {
        "execution": {
          "iopub.status.busy": "2023-03-12T13:36:24.568939Z",
          "iopub.execute_input": "2023-03-12T13:36:24.569891Z",
          "iopub.status.idle": "2023-03-12T13:36:24.603255Z",
          "shell.execute_reply.started": "2023-03-12T13:36:24.569837Z",
          "shell.execute_reply": "2023-03-12T13:36:24.602018Z"
        },
        "trusted": true,
        "id": "iv0HIKxNAsBh"
      },
      "execution_count": null,
      "outputs": []
    },
    {
      "cell_type": "code",
      "source": [
        "customers.dtypes"
      ],
      "metadata": {
        "execution": {
          "iopub.status.busy": "2023-03-12T13:36:24.605575Z",
          "iopub.execute_input": "2023-03-12T13:36:24.606438Z",
          "iopub.status.idle": "2023-03-12T13:36:24.616547Z",
          "shell.execute_reply.started": "2023-03-12T13:36:24.606392Z",
          "shell.execute_reply": "2023-03-12T13:36:24.615161Z"
        },
        "trusted": true,
        "id": "p2ilZfIcAsBi"
      },
      "execution_count": null,
      "outputs": []
    },
    {
      "cell_type": "code",
      "source": [
        "from statsmodels.stats.outliers_influence import variance_inflation_factor #import VIF"
      ],
      "metadata": {
        "execution": {
          "iopub.status.busy": "2023-03-12T13:36:24.618387Z",
          "iopub.execute_input": "2023-03-12T13:36:24.618804Z",
          "iopub.status.idle": "2023-03-12T13:36:24.627384Z",
          "shell.execute_reply.started": "2023-03-12T13:36:24.618769Z",
          "shell.execute_reply": "2023-03-12T13:36:24.625674Z"
        },
        "trusted": true,
        "id": "Kca_KFatAsBi"
      },
      "execution_count": null,
      "outputs": []
    },
    {
      "cell_type": "code",
      "source": [
        "customers=pd.get_dummies(customers,drop_first=True,dtype='int8') #dummification"
      ],
      "metadata": {
        "execution": {
          "iopub.status.busy": "2023-03-12T13:36:24.629098Z",
          "iopub.execute_input": "2023-03-12T13:36:24.629493Z",
          "iopub.status.idle": "2023-03-12T13:36:24.658363Z",
          "shell.execute_reply.started": "2023-03-12T13:36:24.629459Z",
          "shell.execute_reply": "2023-03-12T13:36:24.65688Z"
        },
        "trusted": true,
        "id": "HQtjYuS-AsBj"
      },
      "execution_count": null,
      "outputs": []
    },
    {
      "cell_type": "code",
      "source": [
        "customers.isnull().sum()"
      ],
      "metadata": {
        "execution": {
          "iopub.status.busy": "2023-03-12T13:36:24.659927Z",
          "iopub.execute_input": "2023-03-12T13:36:24.660337Z",
          "iopub.status.idle": "2023-03-12T13:36:24.677799Z",
          "shell.execute_reply.started": "2023-03-12T13:36:24.6603Z",
          "shell.execute_reply": "2023-03-12T13:36:24.676583Z"
        },
        "trusted": true,
        "id": "72vb9C-QAsBk"
      },
      "execution_count": null,
      "outputs": []
    },
    {
      "cell_type": "code",
      "source": [
        "vif_data = pd.DataFrame()\n",
        "vif_data[\"feature\"] = customers.columns\n",
        "\n",
        "# calculating VIF for each feature\n",
        "vif_data[\"VIF\"] = [variance_inflation_factor(customers.values, i)\n",
        "                          for i in range(len(customers.columns))]\n",
        "\n",
        "print(vif_data) #print VIF data"
      ],
      "metadata": {
        "execution": {
          "iopub.status.busy": "2023-03-12T13:36:24.679132Z",
          "iopub.execute_input": "2023-03-12T13:36:24.679507Z",
          "iopub.status.idle": "2023-03-12T13:36:32.858309Z",
          "shell.execute_reply.started": "2023-03-12T13:36:24.679466Z",
          "shell.execute_reply": "2023-03-12T13:36:32.856555Z"
        },
        "trusted": true,
        "id": "pvxRXl0HAsBl"
      },
      "execution_count": null,
      "outputs": []
    },
    {
      "cell_type": "code",
      "source": [
        "vif_data.sort_values(by='VIF',ascending=False) #sort VIF data"
      ],
      "metadata": {
        "execution": {
          "iopub.status.busy": "2023-03-12T13:36:32.86611Z",
          "iopub.execute_input": "2023-03-12T13:36:32.870468Z",
          "iopub.status.idle": "2023-03-12T13:36:32.903831Z",
          "shell.execute_reply.started": "2023-03-12T13:36:32.870386Z",
          "shell.execute_reply": "2023-03-12T13:36:32.902174Z"
        },
        "trusted": true,
        "id": "eccyBsX_AsBl"
      },
      "execution_count": null,
      "outputs": []
    },
    {
      "cell_type": "code",
      "source": [
        "import seaborn as sns\n",
        "import matplotlib.pyplot as plt\n",
        "\n",
        "fig, ax = plt.subplots(figsize=(30, 10))\n",
        "\n",
        "sns.heatmap(customers.corr(), ax=ax, annot=True)"
      ],
      "metadata": {
        "execution": {
          "iopub.status.busy": "2023-03-12T13:36:32.911453Z",
          "iopub.execute_input": "2023-03-12T13:36:32.915592Z",
          "iopub.status.idle": "2023-03-12T13:36:36.408569Z",
          "shell.execute_reply.started": "2023-03-12T13:36:32.915516Z",
          "shell.execute_reply": "2023-03-12T13:36:36.407047Z"
        },
        "trusted": true,
        "id": "OiBfArKoAsBm"
      },
      "execution_count": null,
      "outputs": []
    },
    {
      "cell_type": "code",
      "source": [
        "customers_VIF=customers.drop([\"claim_amount\",\"area_Urban\",\"num_policies_More than 1\",\"income_5L-10L\"],axis=1) # drop highly correlated attributes\n"
      ],
      "metadata": {
        "execution": {
          "iopub.status.busy": "2023-03-12T13:36:36.410406Z",
          "iopub.execute_input": "2023-03-12T13:36:36.410886Z",
          "iopub.status.idle": "2023-03-12T13:36:36.418839Z",
          "shell.execute_reply.started": "2023-03-12T13:36:36.41085Z",
          "shell.execute_reply": "2023-03-12T13:36:36.417843Z"
        },
        "trusted": true,
        "id": "L9EMHG0FAsBn"
      },
      "execution_count": null,
      "outputs": []
    },
    {
      "cell_type": "code",
      "source": [
        "X_VIF = customers_VIF.drop(['cltv'],axis=1)\n",
        "y_VIF = customers_VIF['cltv']\n",
        "\n",
        "import statsmodels.api as sm\n",
        "from sklearn.model_selection import train_test_split\n",
        "\n",
        "# ** Use model_selection.train_test_split from sklearn to split the data into training and testing sets. Set test_size=0.3 and random_state=101**\n",
        "\n",
        "## Spilit the data into Training and Testing Data\n",
        "X_train_VIF, X_test_VIF, y_train_VIF, y_test_VIF = train_test_split(X_VIF, y_VIF, test_size=0.2, random_state=101)\n",
        "\n",
        "len(y_train)\n",
        "print('Y Target Size:', len(y_train_VIF))\n",
        "print('X Train Size:', len(X_train_VIF))\n",
        "print('X Test  Size:', len(X_test_VIF))\n",
        "print('Y Target Size:', len(y_test_VIF))\n",
        "\n",
        "\n",
        "# adding the Constant term\n",
        "X_train_VIF= sm.add_constant(X_train_VIF)\n",
        "X_test_VIF= sm.add_constant(X_test_VIF)\n"
      ],
      "metadata": {
        "execution": {
          "iopub.status.busy": "2023-03-12T13:36:36.420555Z",
          "iopub.execute_input": "2023-03-12T13:36:36.4209Z",
          "iopub.status.idle": "2023-03-12T13:36:36.468285Z",
          "shell.execute_reply.started": "2023-03-12T13:36:36.420865Z",
          "shell.execute_reply": "2023-03-12T13:36:36.466468Z"
        },
        "trusted": true,
        "id": "_nuEQKc_AsBo"
      },
      "execution_count": null,
      "outputs": []
    },
    {
      "cell_type": "code",
      "source": [
        "X_train_VIF.head()"
      ],
      "metadata": {
        "execution": {
          "iopub.status.busy": "2023-03-12T13:36:36.469918Z",
          "iopub.execute_input": "2023-03-12T13:36:36.47038Z",
          "iopub.status.idle": "2023-03-12T13:36:36.490911Z",
          "shell.execute_reply.started": "2023-03-12T13:36:36.470343Z",
          "shell.execute_reply": "2023-03-12T13:36:36.489099Z"
        },
        "trusted": true,
        "id": "iUafS-nYAsBo"
      },
      "execution_count": null,
      "outputs": []
    },
    {
      "cell_type": "code",
      "source": [
        "multiple_reg_VIF= sm.OLS(y_train_VIF, X_train_VIF).fit()\n",
        "print(multiple_reg_VIF.summary())#build regression model"
      ],
      "metadata": {
        "execution": {
          "iopub.status.busy": "2023-03-12T13:36:36.492475Z",
          "iopub.execute_input": "2023-03-12T13:36:36.492793Z",
          "iopub.status.idle": "2023-03-12T13:36:37.04517Z",
          "shell.execute_reply.started": "2023-03-12T13:36:36.492763Z",
          "shell.execute_reply": "2023-03-12T13:36:37.043735Z"
        },
        "trusted": true,
        "id": "txAbC0vkAsBp"
      },
      "execution_count": null,
      "outputs": []
    },
    {
      "cell_type": "code",
      "source": [
        "#get error metrics\n",
        "scores = get_metrics(y_train_VIF,multiple_reg_VIF.predict( X_train_VIF),y_test_VIF,multiple_reg_VIF.predict(X_test_VIF),\"MLR_using_VIF\",scores)\n",
        "scores"
      ],
      "metadata": {
        "execution": {
          "iopub.status.busy": "2023-03-12T13:36:37.047089Z",
          "iopub.execute_input": "2023-03-12T13:36:37.047486Z",
          "iopub.status.idle": "2023-03-12T13:36:37.114024Z",
          "shell.execute_reply.started": "2023-03-12T13:36:37.047449Z",
          "shell.execute_reply": "2023-03-12T13:36:37.111436Z"
        },
        "trusted": true,
        "id": "GUskxlpxAsBq"
      },
      "execution_count": null,
      "outputs": []
    },
    {
      "cell_type": "code",
      "source": [
        "#get coefficients\n",
        "coefficients=coeff(\"MLR_using_VIF\",multiple_reg_VIF.params)\n",
        "coefficients"
      ],
      "metadata": {
        "execution": {
          "iopub.status.busy": "2023-03-12T13:36:37.116167Z",
          "iopub.execute_input": "2023-03-12T13:36:37.116838Z",
          "iopub.status.idle": "2023-03-12T13:36:37.169858Z",
          "shell.execute_reply.started": "2023-03-12T13:36:37.11677Z",
          "shell.execute_reply": "2023-03-12T13:36:37.167845Z"
        },
        "trusted": true,
        "id": "ACPqwnt4AsBr"
      },
      "execution_count": null,
      "outputs": []
    },
    {
      "cell_type": "markdown",
      "source": [
        "## Recursive Feature Elimination"
      ],
      "metadata": {
        "id": "tyZdkoqPAsBs"
      }
    },
    {
      "cell_type": "code",
      "source": [
        "from sklearn.feature_selection import RFE #import RFE"
      ],
      "metadata": {
        "execution": {
          "iopub.status.busy": "2023-03-12T13:36:37.173014Z",
          "iopub.execute_input": "2023-03-12T13:36:37.173619Z",
          "iopub.status.idle": "2023-03-12T13:36:37.180805Z",
          "shell.execute_reply.started": "2023-03-12T13:36:37.17356Z",
          "shell.execute_reply": "2023-03-12T13:36:37.178833Z"
        },
        "trusted": true,
        "id": "ZbUScUTeAsBs"
      },
      "execution_count": null,
      "outputs": []
    },
    {
      "cell_type": "code",
      "source": [
        "indp_vars = X\n",
        "min_aic = 10**100 # initiailizing AIC to a very large value\n",
        "for i in range(indp_vars.shape[1],0,-1):\n",
        "    regression_model = LinearRegression()\n",
        "    rfe = RFE(regression_model, n_features_to_select=i)\n",
        "    rfe = rfe.fit(X_train, y_train)\n",
        "    chk = X_train.loc[:,list(rfe.support_)]\n",
        "    print(chk.columns)\n",
        "    regression_model=sm.OLS(y_train,chk)\n",
        "    result=regression_model.fit()\n",
        "    current_aic = result.aic\n",
        "    print(current_aic)\n",
        "    if(current_aic <= min_aic):\n",
        "        min_aic = current_aic\n",
        "        bestmodel = chk.columns\n",
        "    else:\n",
        "        print(\"Break !\")\n",
        "        break"
      ],
      "metadata": {
        "execution": {
          "iopub.status.busy": "2023-03-12T13:36:37.183771Z",
          "iopub.execute_input": "2023-03-12T13:36:37.184766Z",
          "iopub.status.idle": "2023-03-12T13:36:38.748345Z",
          "shell.execute_reply.started": "2023-03-12T13:36:37.184726Z",
          "shell.execute_reply": "2023-03-12T13:36:38.746614Z"
        },
        "trusted": true,
        "id": "_JsyIKDcAsBt"
      },
      "execution_count": null,
      "outputs": []
    },
    {
      "cell_type": "code",
      "source": [
        "bestmodel_data = X_train.loc[:,bestmodel]\n",
        "bestmodel_data_test = X_test.loc[:,bestmodel]\n",
        "bestmodel_data['const'] =1\n",
        "bestmodel_data_test['const'] =1\n",
        "bestmodel_data.head() #splitt data using bestmodel data"
      ],
      "metadata": {
        "execution": {
          "iopub.status.busy": "2023-03-12T13:36:38.751318Z",
          "iopub.execute_input": "2023-03-12T13:36:38.752602Z",
          "iopub.status.idle": "2023-03-12T13:36:38.790476Z",
          "shell.execute_reply.started": "2023-03-12T13:36:38.752531Z",
          "shell.execute_reply": "2023-03-12T13:36:38.788837Z"
        },
        "trusted": true,
        "id": "GW_dHiMoAsBu"
      },
      "execution_count": null,
      "outputs": []
    },
    {
      "cell_type": "code",
      "source": [
        "y_test.shape #shape of Y test"
      ],
      "metadata": {
        "execution": {
          "iopub.status.busy": "2023-03-12T13:36:38.793356Z",
          "iopub.execute_input": "2023-03-12T13:36:38.794575Z",
          "iopub.status.idle": "2023-03-12T13:36:38.804837Z",
          "shell.execute_reply.started": "2023-03-12T13:36:38.794507Z",
          "shell.execute_reply": "2023-03-12T13:36:38.80328Z"
        },
        "trusted": true,
        "id": "jI7DE-mzAsBv"
      },
      "execution_count": null,
      "outputs": []
    },
    {
      "cell_type": "code",
      "source": [
        "regression_model=sm.OLS(y_train,bestmodel_data).fit()\n",
        "print(regression_model.summary2()) #build a regression model"
      ],
      "metadata": {
        "execution": {
          "iopub.status.busy": "2023-03-12T13:36:38.807738Z",
          "iopub.execute_input": "2023-03-12T13:36:38.809113Z",
          "iopub.status.idle": "2023-03-12T13:36:38.933001Z",
          "shell.execute_reply.started": "2023-03-12T13:36:38.809046Z",
          "shell.execute_reply": "2023-03-12T13:36:38.931296Z"
        },
        "trusted": true,
        "id": "Ugdkx8bNAsBw"
      },
      "execution_count": null,
      "outputs": []
    },
    {
      "cell_type": "code",
      "source": [
        "#get error metrics\n",
        "scores = get_metrics(y_train,regression_model.predict(bestmodel_data),y_test,regression_model.predict(bestmodel_data_test),\"MLR_after_RFE\",scores)\n",
        "scores"
      ],
      "metadata": {
        "execution": {
          "iopub.status.busy": "2023-03-12T13:36:38.935838Z",
          "iopub.execute_input": "2023-03-12T13:36:38.937044Z",
          "iopub.status.idle": "2023-03-12T13:36:38.995571Z",
          "shell.execute_reply.started": "2023-03-12T13:36:38.936976Z",
          "shell.execute_reply": "2023-03-12T13:36:38.993914Z"
        },
        "trusted": true,
        "id": "O3mVPLvMAsBw"
      },
      "execution_count": null,
      "outputs": []
    },
    {
      "cell_type": "code",
      "source": [
        "customers.head()"
      ],
      "metadata": {
        "execution": {
          "iopub.status.busy": "2023-03-12T13:36:38.998417Z",
          "iopub.execute_input": "2023-03-12T13:36:38.999662Z",
          "iopub.status.idle": "2023-03-12T13:36:39.038449Z",
          "shell.execute_reply.started": "2023-03-12T13:36:38.999594Z",
          "shell.execute_reply": "2023-03-12T13:36:39.036758Z"
        },
        "trusted": true,
        "id": "SZmsBP7cAsBx"
      },
      "execution_count": null,
      "outputs": []
    },
    {
      "cell_type": "code",
      "source": [
        "scaler=StandardScaler()\n",
        "scaler.fit(customers[num_vars1])"
      ],
      "metadata": {
        "execution": {
          "iopub.status.busy": "2023-03-12T13:36:39.041293Z",
          "iopub.execute_input": "2023-03-12T13:36:39.042467Z",
          "iopub.status.idle": "2023-03-12T13:36:39.061382Z",
          "shell.execute_reply.started": "2023-03-12T13:36:39.0424Z",
          "shell.execute_reply": "2023-03-12T13:36:39.059739Z"
        },
        "trusted": true,
        "id": "0-wLpizUAsBy"
      },
      "execution_count": null,
      "outputs": []
    },
    {
      "cell_type": "code",
      "source": [
        "customers.head()"
      ],
      "metadata": {
        "execution": {
          "iopub.status.busy": "2023-03-12T13:36:39.06418Z",
          "iopub.execute_input": "2023-03-12T13:36:39.06539Z",
          "iopub.status.idle": "2023-03-12T13:36:39.088872Z",
          "shell.execute_reply.started": "2023-03-12T13:36:39.065323Z",
          "shell.execute_reply": "2023-03-12T13:36:39.08762Z"
        },
        "trusted": true,
        "id": "uv3oJfFYAsBy"
      },
      "execution_count": null,
      "outputs": []
    },
    {
      "cell_type": "code",
      "source": [
        "X = customers.drop('cltv',axis=1)\n",
        "y = customers['cltv']\n",
        "\n",
        "X_train, X_test, y_train, y_test = train_test_split(X, y, test_size=0.2, random_state=123)"
      ],
      "metadata": {
        "execution": {
          "iopub.status.busy": "2023-03-12T13:36:39.090689Z",
          "iopub.execute_input": "2023-03-12T13:36:39.091029Z",
          "iopub.status.idle": "2023-03-12T13:36:39.1124Z",
          "shell.execute_reply.started": "2023-03-12T13:36:39.090995Z",
          "shell.execute_reply": "2023-03-12T13:36:39.110913Z"
        },
        "trusted": true,
        "id": "FpZXwEWNAsBz"
      },
      "execution_count": null,
      "outputs": []
    },
    {
      "cell_type": "code",
      "source": [
        "scaler = StandardScaler()\n",
        "X_train[num_vars] = scaler.fit_transform(X_train[num_vars])\n",
        "X_test[num_vars] = scaler.transform(X_test[num_vars])\n",
        "\n",
        "print(X_train.head())\n",
        "#Scaling"
      ],
      "metadata": {
        "execution": {
          "iopub.status.busy": "2023-03-12T13:36:39.114542Z",
          "iopub.execute_input": "2023-03-12T13:36:39.114894Z",
          "iopub.status.idle": "2023-03-12T13:36:39.140154Z",
          "shell.execute_reply.started": "2023-03-12T13:36:39.114845Z",
          "shell.execute_reply": "2023-03-12T13:36:39.138602Z"
        },
        "trusted": true,
        "id": "aJC4D9oTAsB0"
      },
      "execution_count": null,
      "outputs": []
    },
    {
      "cell_type": "code",
      "source": [
        "# Python style of Linear Regression model\n",
        "from sklearn.linear_model import Ridge\n",
        "model2 = Ridge(alpha=100,solver=\"lbfgs\",positive=True,max_iter=500)"
      ],
      "metadata": {
        "execution": {
          "iopub.status.busy": "2023-03-12T13:36:39.141626Z",
          "iopub.execute_input": "2023-03-12T13:36:39.141982Z",
          "iopub.status.idle": "2023-03-12T13:36:39.149821Z",
          "shell.execute_reply.started": "2023-03-12T13:36:39.141949Z",
          "shell.execute_reply": "2023-03-12T13:36:39.148167Z"
        },
        "trusted": true,
        "id": "njG2YztTAsB0"
      },
      "execution_count": null,
      "outputs": []
    },
    {
      "cell_type": "code",
      "source": [
        "lin_model2=model2.fit(X_train,y_train)"
      ],
      "metadata": {
        "execution": {
          "iopub.status.busy": "2023-03-12T13:36:39.151571Z",
          "iopub.execute_input": "2023-03-12T13:36:39.152542Z",
          "iopub.status.idle": "2023-03-12T13:36:39.194182Z",
          "shell.execute_reply.started": "2023-03-12T13:36:39.152505Z",
          "shell.execute_reply": "2023-03-12T13:36:39.191947Z"
        },
        "trusted": true,
        "id": "1yJG4yjhAsB1"
      },
      "execution_count": null,
      "outputs": []
    },
    {
      "cell_type": "code",
      "source": [
        "train_pred2 = lin_model2.predict(customers1)\n",
        "test_pred2 = lin_model2.predict(customers1)"
      ],
      "metadata": {
        "execution": {
          "iopub.status.busy": "2023-03-12T13:36:39.197207Z",
          "iopub.execute_input": "2023-03-12T13:36:39.197851Z",
          "iopub.status.idle": "2023-03-12T13:36:39.224615Z",
          "shell.execute_reply.started": "2023-03-12T13:36:39.197789Z",
          "shell.execute_reply": "2023-03-12T13:36:39.222439Z"
        },
        "trusted": true,
        "id": "XVpw5b57AsB2"
      },
      "execution_count": null,
      "outputs": []
    },
    {
      "cell_type": "code",
      "source": [
        "#get error metrics\n",
        "scores = get_metrics(y_train,lin_model2.predict( X_train),y_test,lin_model2.predict(X_test),\"linear_regression_Ridge\",scores)\n",
        "scores"
      ],
      "metadata": {
        "execution": {
          "iopub.status.busy": "2023-03-12T13:36:39.227294Z",
          "iopub.execute_input": "2023-03-12T13:36:39.228864Z",
          "iopub.status.idle": "2023-03-12T13:36:39.297214Z",
          "shell.execute_reply.started": "2023-03-12T13:36:39.228779Z",
          "shell.execute_reply": "2023-03-12T13:36:39.295816Z"
        },
        "trusted": true,
        "id": "vvxdWjOfAsB2"
      },
      "execution_count": null,
      "outputs": []
    },
    {
      "cell_type": "code",
      "source": [
        "# Python style of Linear Regression model\n",
        "from sklearn.linear_model import Ridge\n",
        "model3= Ridge(alpha=100,solver=\"sparse_cg\",max_iter=500)"
      ],
      "metadata": {
        "execution": {
          "iopub.status.busy": "2023-03-12T13:36:39.299299Z",
          "iopub.execute_input": "2023-03-12T13:36:39.300273Z",
          "iopub.status.idle": "2023-03-12T13:36:39.308852Z",
          "shell.execute_reply.started": "2023-03-12T13:36:39.300201Z",
          "shell.execute_reply": "2023-03-12T13:36:39.30696Z"
        },
        "trusted": true,
        "id": "_iHNePQDAsB3"
      },
      "execution_count": null,
      "outputs": []
    },
    {
      "cell_type": "code",
      "source": [
        "lin_model3=model3.fit(X_train,y_train)"
      ],
      "metadata": {
        "execution": {
          "iopub.status.busy": "2023-03-12T13:36:39.311203Z",
          "iopub.execute_input": "2023-03-12T13:36:39.312049Z",
          "iopub.status.idle": "2023-03-12T13:36:39.37342Z",
          "shell.execute_reply.started": "2023-03-12T13:36:39.311999Z",
          "shell.execute_reply": "2023-03-12T13:36:39.371507Z"
        },
        "trusted": true,
        "id": "fDLNb5KWAsB4"
      },
      "execution_count": null,
      "outputs": []
    },
    {
      "cell_type": "code",
      "source": [
        "train_pred3= lin_model3.predict(customers1)\n",
        "test_pred3= lin_model3.predict(customers1)"
      ],
      "metadata": {
        "execution": {
          "iopub.status.busy": "2023-03-12T13:36:39.376082Z",
          "iopub.execute_input": "2023-03-12T13:36:39.377026Z",
          "iopub.status.idle": "2023-03-12T13:36:39.403748Z",
          "shell.execute_reply.started": "2023-03-12T13:36:39.376972Z",
          "shell.execute_reply": "2023-03-12T13:36:39.40173Z"
        },
        "trusted": true,
        "id": "rf-QoSBzAsB4"
      },
      "execution_count": null,
      "outputs": []
    },
    {
      "cell_type": "code",
      "source": [
        "#get error metrics\n",
        "scores = get_metrics(y_train,lin_model3.predict( X_train),y_test,lin_model3.predict(X_test),\"linear_regression_Ridge(sparse_cg)_2\",scores)\n",
        "scores"
      ],
      "metadata": {
        "execution": {
          "iopub.status.busy": "2023-03-12T13:36:39.406278Z",
          "iopub.execute_input": "2023-03-12T13:36:39.407171Z",
          "iopub.status.idle": "2023-03-12T13:36:39.478645Z",
          "shell.execute_reply.started": "2023-03-12T13:36:39.407122Z",
          "shell.execute_reply": "2023-03-12T13:36:39.477132Z"
        },
        "trusted": true,
        "id": "w0SIrxMSAsB5"
      },
      "execution_count": null,
      "outputs": []
    },
    {
      "cell_type": "markdown",
      "source": [
        "#Building RandomForestRegressor Model"
      ],
      "metadata": {
        "id": "pT6OhbPhAsB6"
      }
    },
    {
      "cell_type": "code",
      "source": [
        "from sklearn.ensemble import RandomForestRegressor\n",
        "model4= RandomForestRegressor()"
      ],
      "metadata": {
        "execution": {
          "iopub.status.busy": "2023-03-12T13:36:39.481354Z",
          "iopub.execute_input": "2023-03-12T13:36:39.482375Z",
          "iopub.status.idle": "2023-03-12T13:36:39.489713Z",
          "shell.execute_reply.started": "2023-03-12T13:36:39.482317Z",
          "shell.execute_reply": "2023-03-12T13:36:39.487962Z"
        },
        "trusted": true,
        "id": "EW-ScCULAsB7"
      },
      "execution_count": null,
      "outputs": []
    },
    {
      "cell_type": "code",
      "source": [
        "lin_model4=model4.fit(X_train,y_train)"
      ],
      "metadata": {
        "execution": {
          "iopub.status.busy": "2023-03-12T13:36:39.492354Z",
          "iopub.execute_input": "2023-03-12T13:36:39.493309Z",
          "iopub.status.idle": "2023-03-12T13:37:07.782568Z",
          "shell.execute_reply.started": "2023-03-12T13:36:39.493255Z",
          "shell.execute_reply": "2023-03-12T13:37:07.781313Z"
        },
        "trusted": true,
        "id": "kGvUOhM1AsB7"
      },
      "execution_count": null,
      "outputs": []
    },
    {
      "cell_type": "code",
      "source": [
        "train_pred4= lin_model4.predict(customers1)\n",
        "test_pred4= lin_model4.predict(customers1)"
      ],
      "metadata": {
        "execution": {
          "iopub.status.busy": "2023-03-12T13:37:07.784929Z",
          "iopub.execute_input": "2023-03-12T13:37:07.785986Z",
          "iopub.status.idle": "2023-03-12T13:37:12.406126Z",
          "shell.execute_reply.started": "2023-03-12T13:37:07.785916Z",
          "shell.execute_reply": "2023-03-12T13:37:12.404685Z"
        },
        "trusted": true,
        "id": "OH-718M4AsB8"
      },
      "execution_count": null,
      "outputs": []
    },
    {
      "cell_type": "code",
      "source": [
        "#get error metrics\n",
        "scores = get_metrics(y_train,lin_model4.predict(X_train),y_test,lin_model4.predict(X_test),\"RandomForestRegressor\",scores)\n",
        "scores"
      ],
      "metadata": {
        "execution": {
          "iopub.status.busy": "2023-03-12T13:37:12.407751Z",
          "iopub.execute_input": "2023-03-12T13:37:12.40806Z",
          "iopub.status.idle": "2023-03-12T13:37:16.015998Z",
          "shell.execute_reply.started": "2023-03-12T13:37:12.408029Z",
          "shell.execute_reply": "2023-03-12T13:37:16.01466Z"
        },
        "trusted": true,
        "id": "ZEnxiQpmAsB9"
      },
      "execution_count": null,
      "outputs": []
    },
    {
      "cell_type": "markdown",
      "source": [
        "we can see above the model is performing less comparing to test data the model is underfitted,."
      ],
      "metadata": {
        "id": "RN9ctBjtAsB9"
      }
    },
    {
      "cell_type": "markdown",
      "source": [
        "Hyper-parameter tuning using Grid Search and Cross Validation"
      ],
      "metadata": {
        "id": "_8NCXT6zAsB_"
      }
    },
    {
      "cell_type": "markdown",
      "source": [
        "Parameters to test"
      ],
      "metadata": {
        "id": "j-oqjHGnAsCA"
      }
    },
    {
      "cell_type": "code",
      "source": [
        "#param_grid= {\"n_estimators\" : [50,60,80,90,100,120],\n",
        "              #\"max_depth\" : [1,5,6,8],\n",
        "              #\"max_features\" : [3, 5,7,10,11,12],\n",
        "              #\"min_samples_leaf\" : [1, 2, 3,4,5,6]}"
      ],
      "metadata": {
        "execution": {
          "iopub.status.busy": "2023-03-12T13:37:16.017344Z",
          "iopub.execute_input": "2023-03-12T13:37:16.017631Z",
          "iopub.status.idle": "2023-03-12T13:37:16.022776Z",
          "shell.execute_reply.started": "2023-03-12T13:37:16.017603Z",
          "shell.execute_reply": "2023-03-12T13:37:16.021838Z"
        },
        "trusted": true,
        "id": "0WV2fSbFAsCB"
      },
      "execution_count": null,
      "outputs": []
    },
    {
      "cell_type": "markdown",
      "source": [
        "Instantiate RandomForestRegressor"
      ],
      "metadata": {
        "id": "uxmME3W4AsCC"
      }
    },
    {
      "cell_type": "code",
      "source": [
        "#rf= RandomForestRegressor()"
      ],
      "metadata": {
        "execution": {
          "iopub.status.busy": "2023-03-12T13:37:16.024279Z",
          "iopub.execute_input": "2023-03-12T13:37:16.025087Z",
          "iopub.status.idle": "2023-03-12T13:37:16.041989Z",
          "shell.execute_reply.started": "2023-03-12T13:37:16.025049Z",
          "shell.execute_reply": "2023-03-12T13:37:16.040973Z"
        },
        "trusted": true,
        "id": "aXjntrbPAsCC"
      },
      "execution_count": null,
      "outputs": []
    },
    {
      "cell_type": "markdown",
      "source": [
        "Instantiate GridSearchCV"
      ],
      "metadata": {
        "id": "df7b-cA6AsCD"
      }
    },
    {
      "cell_type": "code",
      "source": [
        "#from sklearn.model_selection import GridSearchCV\n",
        "#rf_grid = GridSearchCV(rf,param_grid,cv=10)"
      ],
      "metadata": {
        "execution": {
          "iopub.status.busy": "2023-03-12T13:37:16.043701Z",
          "iopub.execute_input": "2023-03-12T13:37:16.044918Z",
          "iopub.status.idle": "2023-03-12T13:37:16.055048Z",
          "shell.execute_reply.started": "2023-03-12T13:37:16.044868Z",
          "shell.execute_reply": "2023-03-12T13:37:16.053445Z"
        },
        "trusted": true,
        "id": "xppfJpdBAsCE"
      },
      "execution_count": null,
      "outputs": []
    },
    {
      "cell_type": "markdown",
      "source": [
        "Train DT using GridSearchCV"
      ],
      "metadata": {
        "id": "dFLYdyKDAsCE"
      }
    },
    {
      "cell_type": "code",
      "source": [
        "#rf_grid=rf_grid.fit(X_train, y_train)"
      ],
      "metadata": {
        "execution": {
          "iopub.status.busy": "2023-03-12T13:37:16.057413Z",
          "iopub.execute_input": "2023-03-12T13:37:16.058204Z",
          "iopub.status.idle": "2023-03-12T13:37:16.067423Z",
          "shell.execute_reply.started": "2023-03-12T13:37:16.058164Z",
          "shell.execute_reply": "2023-03-12T13:37:16.066308Z"
        },
        "trusted": true,
        "id": "18U74d5tAsCF"
      },
      "execution_count": null,
      "outputs": []
    },
    {
      "cell_type": "code",
      "source": [
        "#rf_grid.best_params_"
      ],
      "metadata": {
        "execution": {
          "iopub.status.busy": "2023-03-12T13:37:16.068932Z",
          "iopub.execute_input": "2023-03-12T13:37:16.069311Z",
          "iopub.status.idle": "2023-03-12T13:37:16.075974Z",
          "shell.execute_reply.started": "2023-03-12T13:37:16.069274Z",
          "shell.execute_reply": "2023-03-12T13:37:16.075129Z"
        },
        "trusted": true,
        "id": "f7TGnbtFAsCG"
      },
      "execution_count": null,
      "outputs": []
    },
    {
      "cell_type": "code",
      "source": [
        "#train_pred0 = rf_grid.predict(customers1)\n",
        "#test_pred0= rf_grid.predict(customers1)"
      ],
      "metadata": {
        "execution": {
          "iopub.status.busy": "2023-03-12T13:37:16.077207Z",
          "iopub.execute_input": "2023-03-12T13:37:16.078616Z",
          "iopub.status.idle": "2023-03-12T13:37:16.0875Z",
          "shell.execute_reply.started": "2023-03-12T13:37:16.078505Z",
          "shell.execute_reply": "2023-03-12T13:37:16.086274Z"
        },
        "trusted": true,
        "id": "t6B632E5AsCG"
      },
      "execution_count": null,
      "outputs": []
    },
    {
      "cell_type": "code",
      "source": [
        "#get error metrics\n",
        "#scores = get_metrics(y_train,rf_grid.predict(X_train),y_test,rf_grid.predict(X_test),\"RandomForestRegressor(GridSearchCV)\",scores)\n",
        "#scores"
      ],
      "metadata": {
        "execution": {
          "iopub.status.busy": "2023-03-12T13:37:16.089058Z",
          "iopub.execute_input": "2023-03-12T13:37:16.089432Z",
          "iopub.status.idle": "2023-03-12T13:37:16.098896Z",
          "shell.execute_reply.started": "2023-03-12T13:37:16.089398Z",
          "shell.execute_reply": "2023-03-12T13:37:16.097967Z"
        },
        "trusted": true,
        "id": "Y6xJcnPQAsCH"
      },
      "execution_count": null,
      "outputs": []
    },
    {
      "cell_type": "markdown",
      "source": [
        "with this huge data GridSearchCV takes time but try other  Regression models\n",
        "we can model best model and  decrease the errors Definitely."
      ],
      "metadata": {
        "id": "4aD5w3DxAsCI"
      }
    },
    {
      "cell_type": "code",
      "source": [],
      "metadata": {
        "id": "6eWeIuOsAsCI"
      },
      "execution_count": null,
      "outputs": []
    }
  ]
}