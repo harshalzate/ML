{
  "nbformat": 4,
  "nbformat_minor": 0,
  "metadata": {
    "colab": {
      "private_outputs": true,
      "provenance": [],
      "authorship_tag": "ABX9TyO+wMkhCWXG/ewc9zyt2ofC",
      "include_colab_link": true
    },
    "kernelspec": {
      "name": "python3",
      "display_name": "Python 3"
    },
    "language_info": {
      "name": "python"
    }
  },
  "cells": [
    {
      "cell_type": "markdown",
      "metadata": {
        "id": "view-in-github",
        "colab_type": "text"
      },
      "source": [
        "<a href=\"https://colab.research.google.com/github/harshalzate/ML/blob/main/Another_copy_of_k.ipynb\" target=\"_parent\"><img src=\"https://colab.research.google.com/assets/colab-badge.svg\" alt=\"Open In Colab\"/></a>"
      ]
    },
    {
      "cell_type": "code",
      "source": [
        "# Step 1: Upload your Kaggle API key (kaggle.json)\n",
        "from google.colab import files\n",
        "files.upload()\n",
        "\n",
        "# Step 2: Set up Kaggle API credentials\n",
        "!mkdir -p ~/.kaggle\n",
        "!cp kaggle.json ~/.kaggle/\n",
        "!chmod 600 ~/.kaggle/kaggle.json\n",
        "\n",
        "# Step 3: Install the Kaggle library (if not already installed)\n",
        "!pip install kaggle\n",
        "\n",
        "# Step 4: Download the Playground Series S4E12 competition dataset\n",
        "!kaggle competitions download -c playground-series-s4e12\n",
        "\n",
        "# Step 5: Extract the downloaded zip file (if it's in a zip format)\n",
        "import zipfile\n",
        "with zipfile.ZipFile(\"playground-series-s4e12.zip\", 'r') as zip_ref:\n",
        "    zip_ref.extractall(\"playground-series-s4e12\")\n",
        "\n",
        "# Step 6: List the extracted files to confirm 'train.csv' is present\n",
        "!ls playground-series-s4e12\n",
        "\n",
        "# Step 7: Load the 'train.csv' file into a Pandas DataFrame\n",
        "import pandas as pd\n",
        "ds = pd.read_csv(\"playground-series-s4e12/train.csv\")"
      ],
      "metadata": {
        "id": "vf0VFWjUXmsj"
      },
      "execution_count": null,
      "outputs": []
    },
    {
      "cell_type": "code",
      "source": [
        "ds.memory_usage(deep=True)"
      ],
      "metadata": {
        "id": "81kfEdEqY6c6"
      },
      "execution_count": null,
      "outputs": []
    },
    {
      "cell_type": "code",
      "source": [
        "ds.shape"
      ],
      "metadata": {
        "id": "cbG9DpwMaAGb"
      },
      "execution_count": null,
      "outputs": []
    },
    {
      "cell_type": "code",
      "source": [
        "df=ds.sample(10000)"
      ],
      "metadata": {
        "id": "v7mh9vgeaU_5"
      },
      "execution_count": null,
      "outputs": []
    },
    {
      "cell_type": "code",
      "source": [
        "from sklearn.model_selection import train_test_split\n",
        "from sklearn.compose import ColumnTransformer\n",
        "from sklearn.impute import SimpleImputer\n",
        "from sklearn.preprocessing import OneHotEncoder\n",
        "from sklearn.linear_model import LinearRegression\n",
        "from sklearn.pipeline import Pipeline"
      ],
      "metadata": {
        "id": "v-cSHR_Gah8W"
      },
      "execution_count": null,
      "outputs": []
    },
    {
      "cell_type": "code",
      "source": [
        "df.info()"
      ],
      "metadata": {
        "id": "B9ET9ZDvdWR0"
      },
      "execution_count": null,
      "outputs": []
    },
    {
      "cell_type": "code",
      "source": [
        "df=df.drop(columns='Policy Start Date')"
      ],
      "metadata": {
        "id": "wAUMQXOuIUP6"
      },
      "execution_count": null,
      "outputs": []
    },
    {
      "cell_type": "code",
      "source": [
        "pd.set_option('display.max_columns', None)"
      ],
      "metadata": {
        "id": "K73aNWUoq0gu"
      },
      "execution_count": null,
      "outputs": []
    },
    {
      "cell_type": "code",
      "source": [
        "X=df.iloc[:,:-1]\n",
        "y=df.iloc[:,-1]"
      ],
      "metadata": {
        "id": "bqbIZxODbp22"
      },
      "execution_count": null,
      "outputs": []
    },
    {
      "cell_type": "code",
      "source": [
        "X_train,x_test,y_train,y_test = train_test_split(X,y,test_size=0.2)"
      ],
      "metadata": {
        "id": "2UX_3ucEbHFn"
      },
      "execution_count": null,
      "outputs": []
    },
    {
      "cell_type": "code",
      "source": [
        "X_train.head(2)"
      ],
      "metadata": {
        "id": "H5JlsWWIfLZE"
      },
      "execution_count": null,
      "outputs": []
    },
    {
      "cell_type": "code",
      "source": [
        "ar[1]"
      ],
      "metadata": {
        "id": "ADwW4GDOIJAJ"
      },
      "execution_count": null,
      "outputs": []
    },
    {
      "cell_type": "code",
      "source": [
        "categorical_columns = ['Gender','Marital Status','Education Level','Occupation','Location','Policy Type','Customer Feedback','Smoking Status','Exercise Frequency','Property Type']\n",
        "\n",
        "X_train[categorical_columns] = X_train[categorical_columns].apply(lambda x: x.astype('category'))"
      ],
      "metadata": {
        "id": "pFJXQXPgKP0V"
      },
      "execution_count": null,
      "outputs": []
    },
    {
      "cell_type": "code",
      "source": [
        "X_train.info()"
      ],
      "metadata": {
        "id": "llnbuizKK3zS"
      },
      "execution_count": null,
      "outputs": []
    },
    {
      "cell_type": "code",
      "source": [
        "tr = ColumnTransformer(\n",
        "    transformers=[\n",
        "        ('age',SimpleImputer(strategy='mean'),['Age','Annual Income','Health Score','Vehicle Age','Credit Score','Insurance Duration']),\n",
        "        ('cate',SimpleImputer(strategy='most_frequent'),['Gender','Marital Status','Number of Dependents','Education Level','Occupation','Location','Policy Type','Previous Claims','Customer Feedback','Smoking Status','Exercise Frequency','Property Type']),\n",
        "        ('ohe',OneHotEncoder(drop='first',sparse_output=False),['Gender','Marital Status','Education Level','Occupation','Location','Policy Type','Customer Feedback','Smoking Status','Exercise Frequency','Property Type'])\n",
        "\n",
        "    ],\n",
        "    remainder='passthrough'\n",
        ")\n",
        "ar = tr.fit_transform(X_train)"
      ],
      "metadata": {
        "id": "rOPbffTJoswl"
      },
      "execution_count": null,
      "outputs": []
    },
    {
      "cell_type": "code",
      "source": [
        "preprocessor = ColumnTransformer(\n",
        "    transformers=[\n",
        "        # Impute missing values for numeric columns\n",
        "        ('num', Pipeline(steps=[\n",
        "            ('imputer', SimpleImputer(strategy='mean'))\n",
        "        ]), ['Age', 'Annual Income', 'Health Score', 'Vehicle Age', 'Credit Score', 'Insurance Duration']),\n",
        "\n",
        "        # Impute missing values for categorical columns, then apply OneHotEncoder\n",
        "        ('cat', Pipeline(steps=[\n",
        "            ('imputer', SimpleImputer(strategy='most_frequent')),\n",
        "            ('onehot', OneHotEncoder(drop='first', sparse_output=False))\n",
        "        ]), ['Gender', 'Marital Status', 'Education Level', 'Occupation', 'Location', 'Policy Type',\n",
        "             'Customer Feedback', 'Smoking Status', 'Exercise Frequency', 'Property Type'])\n",
        "    ],\n",
        "    remainder='passthrough'\n",
        ")\n",
        "\n",
        "# Apply transformations\n"
      ],
      "metadata": {
        "id": "6197_6_mL4u0"
      },
      "execution_count": null,
      "outputs": []
    },
    {
      "cell_type": "code",
      "source": [
        "import psutil\n",
        "\n",
        "# Check memory usage\n",
        "memory = psutil.virtual_memory()\n",
        "\n",
        "# Show total, available, and used memory\n",
        "total_memory = memory.total / (1024 ** 3)  # in GB\n",
        "available_memory = memory.available / (1024 ** 3)  # in GB\n",
        "used_memory = memory.used / (1024 ** 3)  # in GB\n",
        "memory_percent = memory.percent  # percentage used\n",
        "\n",
        "print(f\"Total Memory: {total_memory:.2f} GB\")\n",
        "print(f\"Available Memory: {available_memory:.2f} GB\")\n",
        "print(f\"Used Memory: {used_memory:.2f} GB\")\n",
        "print(f\"Memory Usage: {memory_percent}%\")\n"
      ],
      "metadata": {
        "id": "SyMiGlkpS8T7"
      },
      "execution_count": null,
      "outputs": []
    },
    {
      "cell_type": "code",
      "source": [
        "X_train_transformed.shape"
      ],
      "metadata": {
        "id": "uX8FDRUERPzX"
      },
      "execution_count": null,
      "outputs": []
    },
    {
      "cell_type": "code",
      "source": [
        "import numpy as np\n",
        "np.isnan(X_train_transformed).sum()"
      ],
      "metadata": {
        "id": "rYKpHiYNPBwd"
      },
      "execution_count": null,
      "outputs": []
    },
    {
      "cell_type": "code",
      "source": [
        "np.isnan(x_test__transformed).sum()"
      ],
      "metadata": {
        "id": "UdMfwwDQQbBn"
      },
      "execution_count": null,
      "outputs": []
    },
    {
      "cell_type": "code",
      "source": [
        "lr = LinearRegression()\n",
        "lr.fit(X_train_transformed,y_train)"
      ],
      "metadata": {
        "id": "1o_Ok3j_xmzu"
      },
      "execution_count": null,
      "outputs": []
    },
    {
      "cell_type": "code",
      "source": [
        "from sklearn.metrics import r2_score,mean_absolute_error,root_mean_squared_error"
      ],
      "metadata": {
        "id": "xMW9Lhv2N-oR"
      },
      "execution_count": null,
      "outputs": []
    },
    {
      "cell_type": "code",
      "source": [
        "x_test__transformed"
      ],
      "metadata": {
        "id": "A7qajsv6Q61w"
      },
      "execution_count": null,
      "outputs": []
    },
    {
      "cell_type": "code",
      "source": [
        "y_pred = lr.predict(x_test__transformed)\n",
        "r2_score(y_test,y_pred)"
      ],
      "metadata": {
        "id": "XqFqNarhOPbL"
      },
      "execution_count": null,
      "outputs": []
    },
    {
      "cell_type": "code",
      "source": [
        "pd.DataFrame(ar,columns=df.columns).isnull().sum()"
      ],
      "metadata": {
        "id": "XoS5yrFvv4wy"
      },
      "execution_count": null,
      "outputs": []
    },
    {
      "cell_type": "code",
      "source": [
        "pd.DataFrame(ar,columns=df.columns)"
      ],
      "metadata": {
        "id": "9Z9PMuZQwVad"
      },
      "execution_count": null,
      "outputs": []
    },
    {
      "cell_type": "code",
      "source": [
        "df.columns"
      ],
      "metadata": {
        "id": "R-D1nsnTqX3U"
      },
      "execution_count": null,
      "outputs": []
    },
    {
      "cell_type": "code",
      "source": [
        "  df['Age']= df['Age'].fillna(df['Age'].mean())"
      ],
      "metadata": {
        "id": "bp_LMwAvhXeJ"
      },
      "execution_count": null,
      "outputs": []
    },
    {
      "cell_type": "code",
      "source": [
        "df['Gender'].isnull().sum()"
      ],
      "metadata": {
        "id": "58tFLG4boE6d"
      },
      "execution_count": null,
      "outputs": []
    },
    {
      "cell_type": "code",
      "source": [
        "df.describe()"
      ],
      "metadata": {
        "id": "5ZSRILredZlm"
      },
      "execution_count": null,
      "outputs": []
    },
    {
      "cell_type": "code",
      "source": [
        "X_train"
      ],
      "metadata": {
        "id": "1XekTnobcSPU"
      },
      "execution_count": null,
      "outputs": []
    },
    {
      "cell_type": "code",
      "source": [],
      "metadata": {
        "id": "fVpNrcFfdPhE"
      },
      "execution_count": null,
      "outputs": []
    },
    {
      "cell_type": "code",
      "source": [
        "from sklearn.compose import ColumnTransformer\n",
        "from sklearn.preprocessing import OneHotEncoder\n",
        "from sklearn.impute import SimpleImputer\n",
        "from sklearn.linear_model import LinearRegression\n",
        "from sklearn.model_selection import train_test_split\n",
        "import pandas as pd\n",
        "\n",
        "# Example dataset (replace this with your actual data)\n",
        "data = {\n",
        "    'Age': [25, 30, None, 40],\n",
        "    'Annual Income': [50000, 60000, 55000, None],\n",
        "    'Health Score': [75, 80, 70, 85],\n",
        "    'Vehicle Age': [5, 3, 7, 4],\n",
        "    'Credit Score': [700, 750, 720, 680],\n",
        "    'Insurance Duration': [3, 5, 2, 4],\n",
        "    'Gender': ['Male', 'Female', 'Female', 'Male'],\n",
        "    'Marital Status': ['Single', 'Married', 'Single', 'Married'],\n",
        "    'Number of Dependents': [0, 1, 2, 1],\n",
        "    'Education Level': ['Bachelors', 'Masters', 'PhD', 'Bachelors'],\n",
        "    'Occupation': ['Engineer', 'Doctor', 'Teacher', 'Artist'],\n",
        "    'Location': ['New York', 'California', 'Texas', 'New York'],\n",
        "    'Policy Type': ['Basic', 'Premium', 'Basic', 'Standard'],\n",
        "    'Previous Claims': [0, 1, 0, 1],\n",
        "    'Customer Feedback': ['Positive', 'Neutral', 'Negative', 'Positive'],\n",
        "    'Smoking Status': ['Non-Smoker', 'Smoker', 'Non-Smoker', 'Smoker'],\n",
        "    'Exercise Frequency': ['Never', 'Often', 'Sometimes', 'Rarely'],\n",
        "    'Property Type': ['House', 'Apartment', 'House', 'Apartment'],\n",
        "    'Income': [50000, 60000, 55000, 65000]  # Target variable\n",
        "}\n",
        "\n",
        "df = pd.DataFrame(data)\n",
        "\n",
        "X = df.drop(columns=['Income'])\n",
        "y = df['Income']\n",
        "\n",
        "# Split data into training and testing\n",
        "X_train, X_test, y_train, y_test = train_test_split(X, y, test_size=0.2, random_state=42)\n",
        "\n",
        "# Define ColumnTransformer\n",
        "tr = ColumnTransformer(\n",
        "    transformers=[\n",
        "        # Impute missing values for numeric columns\n",
        "        ('age', SimpleImputer(strategy='mean'), ['Age', 'Annual Income', 'Health Score', 'Vehicle Age', 'Credit Score', 'Insurance Duration']),\n",
        "\n",
        "        # Impute missing values for categorical columns\n",
        "        ('cate', SimpleImputer(strategy='most_frequent'), ['Gender', 'Marital Status', 'Number of Dependents', 'Education Level', 'Occupation', 'Location', 'Policy Type', 'Previous Claims', 'Customer Feedback', 'Smoking Status', 'Exercise Frequency', 'Property Type']),\n",
        "\n",
        "        # One-hot encoding for categorical columns\n",
        "        ('ohe', OneHotEncoder(drop='first', sparse_output=False), ['Gender', 'Marital Status', 'Education Level', 'Occupation', 'Location', 'Policy Type', 'Customer Feedback', 'Smoking Status', 'Exercise Frequency', 'Property Type'])\n",
        "    ],\n",
        "    remainder='passthrough'\n",
        ")\n",
        "\n",
        "# Apply transformations\n",
        "ar = tr.fit_transform(X_train)\n",
        "\n",
        "# Check the transformed data\n",
        "print(ar)\n",
        "\n",
        "# Initialize and fit the Linear Regression model\n",
        "lr = LinearRegression()\n",
        "lr.fit(ar, y_train)\n",
        "\n",
        "# Make predictions\n",
        "predictions = lr.predict(ar)\n",
        "print(predictions)\n",
        "\n"
      ],
      "metadata": {
        "id": "4GOph5ZQJX5E"
      },
      "execution_count": null,
      "outputs": []
    },
    {
      "cell_type": "code",
      "source": [
        "from sklearn.compose import ColumnTransformer\n",
        "from sklearn.preprocessing import OneHotEncoder\n",
        "from sklearn.impute import SimpleImputer\n",
        "from sklearn.linear_model import LinearRegression\n",
        "from sklearn.model_selection import train_test_split\n",
        "import pandas as pd\n",
        "\n",
        "# Example dataset (replace this with your actual data)\n",
        "data = {\n",
        "    'Age': [25, 30, None, 40],\n",
        "    'Annual Income': [50000, 60000, 55000, None],\n",
        "    'Health Score': [75, 80, 70, 85],\n",
        "    'Vehicle Age': [5, 3, 7, 4],\n",
        "    'Credit Score': [700, 750, 720, 680],\n",
        "    'Insurance Duration': [3, 5, 2, 4],\n",
        "    'Gender': ['Male', 'Female', 'Female', 'Male'],\n",
        "    'Marital Status': ['Single', 'Married', 'Single', 'Married'],\n",
        "    'Number of Dependents': [0, 1, 2, 1],\n",
        "    'Education Level': ['Bachelors', 'Masters', 'PhD', 'Bachelors'],\n",
        "    'Occupation': ['Engineer', 'Doctor', 'Teacher', 'Artist'],\n",
        "    'Location': ['New York', 'California', 'Texas', 'New York'],\n",
        "    'Policy Type': ['Basic', 'Premium', 'Basic', 'Standard'],\n",
        "    'Previous Claims': [0, 1, 0, 1],\n",
        "    'Customer Feedback': ['Positive', 'Neutral', 'Negative', 'Positive'],\n",
        "    'Smoking Status': ['Non-Smoker', 'Smoker', 'Non-Smoker', 'Smoker'],\n",
        "    'Exercise Frequency': ['Never', 'Often', 'Sometimes', 'Rarely'],\n",
        "    'Property Type': ['House', 'Apartment', 'House', 'Apartment'],\n",
        "    'Income': [50000, 60000, 55000, 65000]  # Target variable\n",
        "}\n",
        "\n",
        "df = pd.DataFrame(data)\n",
        "\n",
        "X = df.drop(columns=['Income'])\n",
        "y = df['Income']\n",
        "\n",
        "# Split data into training and testing\n",
        "X_train, X_test, y_train, y_test = train_test_split(X, y, test_size=0.2, random_state=42)\n",
        "\n",
        "# Ensure categorical columns are of type 'category'\n",
        "categorical_columns = ['Gender', 'Marital Status', 'Education Level', 'Occupation', 'Location', 'Policy Type',\n",
        "                        'Customer Feedback', 'Smoking Status', 'Exercise Frequency', 'Property Type']\n",
        "\n",
        "X_train[categorical_columns] = X_train[categorical_columns].apply(lambda x: x.astype('category'))\n",
        "\n",
        "# Define ColumnTransformer\n",
        "tr = ColumnTransformer(\n",
        "    transformers=[\n",
        "        ('age', SimpleImputer(strategy='mean'), ['Age', 'Annual Income', 'Health Score', 'Vehicle Age', 'Credit Score', 'Insurance Duration']),\n",
        "        ('cate', SimpleImputer(strategy='most_frequent'), ['Number of Dependents', 'Previous Claims']),\n",
        "\n",
        "        # OneHotEncoder for categorical columns\n",
        "        ('ohe', OneHotEncoder(drop='first', sparse_output=False), categorical_columns)\n",
        "    ],\n",
        "    remainder='passthrough'\n",
        ")\n",
        "\n",
        "# Apply transformations\n",
        "ar = tr.fit_transform(X_train)\n",
        "\n",
        "# Check the transformed data\n",
        "print(ar)\n",
        "\n",
        "# Initialize and fit the Linear Regression model\n",
        "lr = LinearRegression()\n",
        "lr.fit(ar, y_train)\n",
        "\n",
        "# Make predictions\n",
        "predictions = lr.predict(ar)\n",
        "print(predictions)\n"
      ],
      "metadata": {
        "id": "rj61WHSyJl-u"
      },
      "execution_count": null,
      "outputs": []
    }
  ]
}