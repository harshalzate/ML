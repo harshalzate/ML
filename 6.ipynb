{
  "nbformat": 4,
  "nbformat_minor": 0,
  "metadata": {
    "colab": {
      "private_outputs": true,
      "provenance": [],
      "authorship_tag": "ABX9TyPo8V/wCIigT5MION4/ht/W",
      "include_colab_link": true
    },
    "kernelspec": {
      "name": "python3",
      "display_name": "Python 3"
    },
    "language_info": {
      "name": "python"
    }
  },
  "cells": [
    {
      "cell_type": "markdown",
      "metadata": {
        "id": "view-in-github",
        "colab_type": "text"
      },
      "source": [
        "<a href=\"https://colab.research.google.com/github/harshalzate/ML/blob/main/6.ipynb\" target=\"_parent\"><img src=\"https://colab.research.google.com/assets/colab-badge.svg\" alt=\"Open In Colab\"/></a>"
      ]
    },
    {
      "cell_type": "code",
      "execution_count": null,
      "metadata": {
        "id": "2AuY0ER6zks1"
      },
      "outputs": [],
      "source": [
        "\n",
        "import numpy as np\n",
        "import pandas as pd"
      ]
    },
    {
      "cell_type": "code",
      "source": [
        "d= [\n",
        "    [1,2,3],\n",
        "    [4,5,6]\n",
        "]"
      ],
      "metadata": {
        "id": "9nAfh3zJzn0E"
      },
      "execution_count": null,
      "outputs": []
    },
    {
      "cell_type": "code",
      "source": [
        "df = pd.DataFrame(d,columns = ['f','s','t'])"
      ],
      "metadata": {
        "id": "wik3OpX0zubz"
      },
      "execution_count": null,
      "outputs": []
    },
    {
      "cell_type": "code",
      "source": [
        "df.rename(  columns = {'f':'H','s':'HH','t':'HHH' }  )"
      ],
      "metadata": {
        "id": "1OaTP9RKzyqt"
      },
      "execution_count": null,
      "outputs": []
    },
    {
      "cell_type": "code",
      "source": [
        "df=pd.DataFrame(d)\n",
        "df.rename(columns = {0 : 'i' , 1:'first',2:'seconf'},inplace = True)"
      ],
      "metadata": {
        "id": "tCDAGLnl0TNw"
      },
      "execution_count": null,
      "outputs": []
    },
    {
      "cell_type": "code",
      "source": [
        "df"
      ],
      "metadata": {
        "id": "qIf523t00yvF"
      },
      "execution_count": null,
      "outputs": []
    },
    {
      "cell_type": "code",
      "source": [
        "df.set_index('i')"
      ],
      "metadata": {
        "id": "0tI4SyI41c6Q"
      },
      "execution_count": null,
      "outputs": []
    },
    {
      "cell_type": "code",
      "source": [
        "df['first'].values"
      ],
      "metadata": {
        "id": "Li3QUBUv1n7D"
      },
      "execution_count": null,
      "outputs": []
    },
    {
      "cell_type": "code",
      "source": [
        "student_data=pd.DataFrame([[10,20,30],[50,60,70],[20,40,60]])\n",
        "p={'name':['nitish','ankit','rupesh','rishabh','amit','ankita'],'iq':[100,90,120,80,0,0],'marks':[80,70,100,50,0,0],'package':[10,7,14,2,0,0]}\n",
        "studebt_data=pd.DataFrame(p)\n",
        "studebt_data.set_index('iq',inplace=True)\n",
        "s = studebt_data[:]\n",
        "s"
      ],
      "metadata": {
        "id": "yFY0cPx82CGj"
      },
      "execution_count": null,
      "outputs": []
    },
    {
      "cell_type": "code",
      "source": [
        "s.duplicated().sum()"
      ],
      "metadata": {
        "id": "PH_daTtn4Juh"
      },
      "execution_count": null,
      "outputs": []
    },
    {
      "cell_type": "code",
      "source": [
        "s.loc[7] = (['nitish',99,35])\n",
        "s"
      ],
      "metadata": {
        "id": "te0nwvcc4Ptd"
      },
      "execution_count": null,
      "outputs": []
    },
    {
      "cell_type": "code",
      "source": [
        "pd.concat((df,pd.DataFrame(['n',89,90])))"
      ],
      "metadata": {
        "id": "aoQi8nYx4Wq6"
      },
      "execution_count": null,
      "outputs": []
    },
    {
      "cell_type": "code",
      "source": [],
      "metadata": {
        "id": "zndBvNjB7NTj"
      },
      "execution_count": null,
      "outputs": []
    }
  ]
}