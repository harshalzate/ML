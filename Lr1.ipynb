{
  "nbformat": 4,
  "nbformat_minor": 0,
  "metadata": {
    "colab": {
      "private_outputs": true,
      "provenance": [],
      "authorship_tag": "ABX9TyOLDjnK3XEaQiFRuirai/kw",
      "include_colab_link": true
    },
    "kernelspec": {
      "name": "python3",
      "display_name": "Python 3"
    },
    "language_info": {
      "name": "python"
    }
  },
  "cells": [
    {
      "cell_type": "markdown",
      "metadata": {
        "id": "view-in-github",
        "colab_type": "text"
      },
      "source": [
        "<a href=\"https://colab.research.google.com/github/harshalzate/ML/blob/main/Lr1.ipynb\" target=\"_parent\"><img src=\"https://colab.research.google.com/assets/colab-badge.svg\" alt=\"Open In Colab\"/></a>"
      ]
    },
    {
      "cell_type": "code",
      "execution_count": null,
      "metadata": {
        "id": "gLz0MV6v1Anz"
      },
      "outputs": [],
      "source": [
        "import seaborn as sns\n",
        "import pandas as pd\n",
        "import numpy as np\n",
        "from sklearn.model_selection import train_test_split\n",
        "from sklearn.preprocessing import LabelEncoder\n",
        "from sklearn.metrics import accuracy_score,confusion_matrix\n",
        "from sklearn.linear_model import LogisticRegression"
      ]
    },
    {
      "cell_type": "code",
      "source": [
        "df=sns.load_dataset('iris')\n",
        "df.sample(5)\n",
        "df_train = df[:]\n",
        "df_train"
      ],
      "metadata": {
        "id": "O-KZKZ-d1EyM"
      },
      "execution_count": null,
      "outputs": []
    },
    {
      "cell_type": "markdown",
      "source": [
        "# Preprocessing\n"
      ],
      "metadata": {
        "id": "QY8ckDb22ptr"
      }
    },
    {
      "cell_type": "code",
      "source": [
        "encoder = LabelEncoder()\n",
        "df_train['species'] = encoder.fit_transform(df['species'])\n",
        "X= df_train.iloc[:,:-1]\n",
        "y= df_train.iloc[:,-1]\n",
        "X_train,X_test, y_train,y_test = train_test_split(X,y,test_size=0.8)"
      ],
      "metadata": {
        "id": "X0RXQKMk1tXk"
      },
      "execution_count": null,
      "outputs": []
    },
    {
      "cell_type": "code",
      "source": [
        "Lr_ovr = LogisticRegression(multi_class = 'ovr')\n",
        "Lr_softmax = LogisticRegression(multi_class = 'multinomial')"
      ],
      "metadata": {
        "id": "IsewSPja2H9C"
      },
      "execution_count": null,
      "outputs": []
    },
    {
      "cell_type": "code",
      "source": [
        "Lr_ovr.fit(X_train,y_train)\n",
        "y_ovr_pred=Lr_ovr.predict(X_test)\n",
        "accuracy_ovr=accuracy_score(y_test,y_ovr_pred)\n",
        "acuracy_ovr=accuracy_score(y_ovr_pred,y_test)\n",
        "pd.DataFrame(confusion_matrix(y_test,y_ovr_pred))"
      ],
      "metadata": {
        "id": "fnRG1xHw3hL0"
      },
      "execution_count": null,
      "outputs": []
    },
    {
      "cell_type": "code",
      "source": [
        "a=np.array([5,3,2,1]).reshape(1,4)"
      ],
      "metadata": {
        "id": "AzxqOwiN4edY"
      },
      "execution_count": null,
      "outputs": []
    },
    {
      "cell_type": "code",
      "source": [
        "Lr_ovr.predict(a)"
      ],
      "metadata": {
        "id": "Zx1vvTd76sP7"
      },
      "execution_count": null,
      "outputs": []
    },
    {
      "cell_type": "code",
      "source": [
        "Lr_ovr.predict_proba(a)"
      ],
      "metadata": {
        "id": "tE2refeq6Lr_"
      },
      "execution_count": null,
      "outputs": []
    },
    {
      "cell_type": "code",
      "source": [
        "plot_decision_regions"
      ],
      "metadata": {
        "id": "herbbKmE8Aiy"
      },
      "execution_count": null,
      "outputs": []
    },
    {
      "cell_type": "code",
      "source": [
        "v=3\n",
        "w=4"
      ],
      "metadata": {
        "id": "_Zb-DRZ3-iDK"
      },
      "execution_count": null,
      "outputs": []
    },
    {
      "cell_type": "code",
      "source": [
        "from mlxtend.plotting import plot_decision_regions\n",
        "plot_decision_regions(X.values,y.values,clf=Lr_ovr,filler_feature_values={2:v , 3:v},filler_feature_ranges = {2:w , 3:w})"
      ],
      "metadata": {
        "id": "TcPlngzn6boh"
      },
      "execution_count": null,
      "outputs": []
    },
    {
      "cell_type": "code",
      "source": [
        "Lr_softmax.fit(X_train,y_train)\n",
        "y_pred = Lr_softmax.predict(X_test)\n",
        "accuracy = accuracy_score(y_pred,y_test)\n",
        "confusion_mx = pd.DataFrame(confusion_matrix(y_pred,y_test))"
      ],
      "metadata": {
        "id": "B6uZye3w7Q9v"
      },
      "execution_count": null,
      "outputs": []
    },
    {
      "cell_type": "code",
      "source": [
        "confusion_mx"
      ],
      "metadata": {
        "id": "7F1uB0sJB2Gu"
      },
      "execution_count": null,
      "outputs": []
    },
    {
      "cell_type": "code",
      "source": [
        "from mlxtend.plotting import plot_decision_regions\n",
        "plot_decision_regions(X.values,y.values,clf = Lr_softmax,filler_feature_values = {2:v,3:v}, filler_feature_ranges = {2:w, 3:w})"
      ],
      "metadata": {
        "id": "1paZeIbeAgQz"
      },
      "execution_count": null,
      "outputs": []
    },
    {
      "cell_type": "code",
      "source": [],
      "metadata": {
        "id": "jLQ7vhwcA-bC"
      },
      "execution_count": null,
      "outputs": []
    }
  ]
}