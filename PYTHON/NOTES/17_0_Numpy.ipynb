{
  "nbformat": 4,
  "nbformat_minor": 0,
  "metadata": {
    "colab": {
      "private_outputs": true,
      "provenance": [],
      "authorship_tag": "ABX9TyPgJO5xVwOrwmskpjye/8Zo",
      "include_colab_link": true
    },
    "kernelspec": {
      "name": "python3",
      "display_name": "Python 3"
    },
    "language_info": {
      "name": "python"
    }
  },
  "cells": [
    {
      "cell_type": "markdown",
      "metadata": {
        "id": "view-in-github",
        "colab_type": "text"
      },
      "source": [
        "<a href=\"https://colab.research.google.com/github/harshalzate/ML/blob/main/PYTHON/NOTES/17_0_Numpy.ipynb\" target=\"_parent\"><img src=\"https://colab.research.google.com/assets/colab-badge.svg\" alt=\"Open In Colab\"/></a>"
      ]
    },
    {
      "cell_type": "code",
      "execution_count": null,
      "metadata": {
        "id": "a1MesZ1lVFBY"
      },
      "outputs": [],
      "source": []
    },
    {
      "cell_type": "markdown",
      "source": [
        "# ndarray attributes"
      ],
      "metadata": {
        "id": "NKKSzQA-VPQS"
      }
    },
    {
      "cell_type": "code",
      "execution_count": null,
      "metadata": {
        "id": "Hk1waGVQoWai"
      },
      "outputs": [],
      "source": [
        "import numpy as np\n",
        "arr = np.array([[1, 2, 3], [4, 5, 6]])\n",
        "arr"
      ]
    },
    {
      "cell_type": "code",
      "source": [
        "# nditer is more efficient and productive way of iterating over an array.\n",
        "# there are two main features falgs and op_flags which provide extra features and methods of iteration"
      ],
      "metadata": {
        "id": "ZLHxyjy5vrB5"
      },
      "execution_count": null,
      "outputs": []
    },
    {
      "cell_type": "code",
      "source": [
        "# for flags\n",
        "# 1. bufferedd\n",
        "for i in np.nditer(arr,flags=['buffered'],op_dtypes=['float64']):\n",
        "  print(i,type(i))"
      ],
      "metadata": {
        "id": "BwodQULewPcJ"
      },
      "execution_count": null,
      "outputs": []
    },
    {
      "cell_type": "code",
      "source": [
        "arr"
      ],
      "metadata": {
        "id": "i7FqRdpQzSbY"
      },
      "execution_count": null,
      "outputs": []
    },
    {
      "cell_type": "code",
      "source": [
        "# 2 c_index = row wise index\n",
        "i=np.nditer(arr,flags = ['c_index'])\n",
        "for x in i:\n",
        "  print(x,i.index)"
      ],
      "metadata": {
        "id": "Ce8GuVX4z6K0"
      },
      "execution_count": null,
      "outputs": []
    },
    {
      "cell_type": "code",
      "source": [
        "#3 column wise index\n",
        "i=np.nditer(arr,flags = ['f_index'])\n",
        "for x in i:\n",
        "  print(x,i.index)"
      ],
      "metadata": {
        "id": "E47Na3PDoaru"
      },
      "execution_count": null,
      "outputs": []
    },
    {
      "cell_type": "code",
      "source": [
        "# multi_index\n",
        "i=np.nditer(arr,flags = ['multi_index'])\n",
        "for x in i:\n",
        "  print(x,i.multi_index)"
      ],
      "metadata": {
        "id": "o4_ysYrOzJaE"
      },
      "execution_count": null,
      "outputs": []
    },
    {
      "cell_type": "code",
      "source": [
        "# common_dtpes\n",
        "x = np.array([[1,2,3],[4,5,6]],dtype = np.int32)\n",
        "y = (x+1).astype('float64')\n",
        "for a,b in np.nditer([x,y]):\n",
        "  print(a,b)\n",
        "\n",
        "for x, y in np.nditer([arr1, arr2], flags=['common_dtype','buffered']):\n",
        "    print(f\"Integer: {x}, Float: {y}, Common Type: {x + y}\")"
      ],
      "metadata": {
        "id": "w6KeAYTi0fRb"
      },
      "execution_count": null,
      "outputs": []
    },
    {
      "cell_type": "code",
      "source": [
        "# Difference between flag and op_flag with the implication of the methods, is it sepcific to operand or gloabl\n",
        "# op_flag is about the treatment of the individual operand( what is oeprand : an array)\n",
        "\n",
        "\n",
        "# op_flag\n",
        "\n",
        "#1. readonly\n",
        "import numpy as np\n",
        "\n",
        "arr = np.array([[1, 2, 3], [4, 5, 6]])\n",
        "for x in np.nditer(arr, op_flags=['readonly']):\n",
        "    print(x, end=' ')\n",
        "# Output: 1 2 3 4 5 6"
      ],
      "metadata": {
        "id": "a7Q_L6QK3nxO"
      },
      "execution_count": null,
      "outputs": []
    },
    {
      "cell_type": "code",
      "source": [
        "arr"
      ],
      "metadata": {
        "id": "8rbsTMdQ8AZz"
      },
      "execution_count": null,
      "outputs": []
    },
    {
      "cell_type": "code",
      "source": [
        "for x in np.nditer(arr,op_flags =['readonly']):\n",
        "  x=x+1\n",
        "  print(x)"
      ],
      "metadata": {
        "id": "VG5Oo3aZ7lTB"
      },
      "execution_count": null,
      "outputs": []
    },
    {
      "cell_type": "code",
      "source": [
        "arr"
      ],
      "metadata": {
        "id": "-jhlZ7G-78Uw"
      },
      "execution_count": null,
      "outputs": []
    },
    {
      "cell_type": "code",
      "source": [
        "import numpy as np\n",
        "\n",
        "arr = np.array([[1, 2, 3], [4, 5, 6]])\n",
        "with np.nditer(arr, op_flags=['readwrite']) as it:\n",
        "    for x in it:\n",
        "        x[...] = x * 2  # Double each element\n",
        "print(arr)\n",
        "# Output: [[ 2  4  6]\n",
        "#          [ 8 10 12]]"
      ],
      "metadata": {
        "id": "Ghk-o5X78CpZ"
      },
      "execution_count": null,
      "outputs": []
    },
    {
      "cell_type": "code",
      "source": [],
      "metadata": {
        "id": "0_LTrQOe_Mhj"
      },
      "execution_count": null,
      "outputs": []
    },
    {
      "cell_type": "code",
      "source": [
        "import numpy as np\n",
        "\n",
        "arr = np.array([[1, 2, 3], [4, 5, 6]])\n",
        "\n",
        "for x in np.nditer(arr, op_flags=['readwrite']):\n",
        "  x[...] = x * 2  # Double each element\n",
        "print(arr)\n",
        "# Output: [[ 2  4  6]\n",
        "#          [ 8 10 12]]"
      ],
      "metadata": {
        "id": "cxO7Hvr68gI_"
      },
      "execution_count": null,
      "outputs": []
    },
    {
      "cell_type": "code",
      "source": [
        "# Ellipsis\n",
        "arr[...]"
      ],
      "metadata": {
        "id": "l_7actPN8gKM"
      },
      "execution_count": null,
      "outputs": []
    },
    {
      "cell_type": "code",
      "source": [
        "# 3 writeonly\n",
        "import numpy as np\n",
        "\n",
        "arr = np.array([[1, 2, 3], [4, 5, 6]])\n",
        "\n",
        "for x in np.nditer(arr, op_flags=['writeonly']):\n",
        "  x[...] = x * 2  # Double each element\n",
        "print(arr)\n",
        "# Output: [[ 2  4  6]\n",
        "#          [ 8 10 12]]"
      ],
      "metadata": {
        "id": "FNmdPGIm_X4n"
      },
      "execution_count": null,
      "outputs": []
    },
    {
      "cell_type": "code",
      "source": [],
      "metadata": {
        "id": "kdD96Unh_c7e"
      },
      "execution_count": null,
      "outputs": []
    }
  ]
}