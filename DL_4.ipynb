{
  "nbformat": 4,
  "nbformat_minor": 0,
  "metadata": {
    "colab": {
      "private_outputs": true,
      "provenance": [],
      "authorship_tag": "ABX9TyO+GiaNx0cXbT+DTo8/r8Hs",
      "include_colab_link": true
    },
    "kernelspec": {
      "name": "python3",
      "display_name": "Python 3"
    },
    "language_info": {
      "name": "python"
    }
  },
  "cells": [
    {
      "cell_type": "markdown",
      "metadata": {
        "id": "view-in-github",
        "colab_type": "text"
      },
      "source": [
        "<a href=\"https://colab.research.google.com/github/harshalzate/ML/blob/main/DL_4.ipynb\" target=\"_parent\"><img src=\"https://colab.research.google.com/assets/colab-badge.svg\" alt=\"Open In Colab\"/></a>"
      ]
    },
    {
      "cell_type": "code",
      "execution_count": null,
      "metadata": {
        "id": "3oJnq9SkSLG1"
      },
      "outputs": [],
      "source": [
        "import pandas as pd\n",
        "import numpy as np\n",
        "df = pd.read_csv('https://raw.githubusercontent.com/harshalzate/ML/refs/heads/main/DL/Data_Files/Churn_Modelling.csv')"
      ]
    },
    {
      "cell_type": "code",
      "source": [
        "df.head()"
      ],
      "metadata": {
        "id": "ROsLPY-USQF-"
      },
      "execution_count": null,
      "outputs": []
    },
    {
      "cell_type": "code",
      "source": [
        "df.drop(columns=['RowNumber','CustomerId','Surname'],inplace=True)"
      ],
      "metadata": {
        "id": "_9w6mPR8STlK"
      },
      "execution_count": null,
      "outputs": []
    },
    {
      "cell_type": "code",
      "source": [
        "df.head()"
      ],
      "metadata": {
        "id": "3-z7VXTiSbFP"
      },
      "execution_count": null,
      "outputs": []
    },
    {
      "cell_type": "code",
      "source": [
        "df['Geography'].value_counts()"
      ],
      "metadata": {
        "id": "V-oN0W_KSmgg"
      },
      "execution_count": null,
      "outputs": []
    },
    {
      "cell_type": "code",
      "source": [
        "df['Gender'].value_counts()"
      ],
      "metadata": {
        "execution": {
          "iopub.status.busy": "2022-03-06T03:33:45.385967Z",
          "iopub.execute_input": "2022-03-06T03:33:45.386793Z",
          "iopub.status.idle": "2022-03-06T03:33:45.39533Z",
          "shell.execute_reply.started": "2022-03-06T03:33:45.386756Z",
          "shell.execute_reply": "2022-03-06T03:33:45.394438Z"
        },
        "trusted": true,
        "id": "3DFPoHVz6a6W"
      },
      "execution_count": null,
      "outputs": []
    },
    {
      "cell_type": "code",
      "source": [
        "df = pd.get_dummies(df,columns=['Geography','Gender'],drop_first=True)"
      ],
      "metadata": {
        "id": "EVx1Q7IhSt7L"
      },
      "execution_count": null,
      "outputs": []
    },
    {
      "cell_type": "code",
      "source": [
        "df.head()"
      ],
      "metadata": {
        "id": "T6fi_RlvSwoc"
      },
      "execution_count": null,
      "outputs": []
    },
    {
      "cell_type": "code",
      "source": [
        "X=df.drop(columns=['Exited'])\n",
        "y=df['Exited']\n",
        "from sklearn.model_selection import train_test_split\n",
        "X_train,X_test,y_train,y_test = train_test_split(X,y,test_size=0.20)\n"
      ],
      "metadata": {
        "id": "wRbyL8oUS2-W"
      },
      "execution_count": null,
      "outputs": []
    },
    {
      "cell_type": "code",
      "source": [
        "from sklearn.preprocessing import StandardScaler\n",
        "scaler=StandardScaler()\n",
        "X_train_tr = scaler.fit_transform(X_train)\n",
        "X_test_tr = scaler.transform(X_test)"
      ],
      "metadata": {
        "id": "RiYpMgwlS6Dh"
      },
      "execution_count": null,
      "outputs": []
    },
    {
      "cell_type": "code",
      "source": [
        "from tensorflow.keras import Sequential\n",
        "from tensorflow.keras.layers import Dense"
      ],
      "metadata": {
        "id": "ZvLXZyWbTfLu"
      },
      "execution_count": null,
      "outputs": []
    },
    {
      "cell_type": "code",
      "source": [
        "model = Sequential()\n",
        "model.add(Dense(11,activation = 'sigmoid',input_dim = 11))\n",
        "model.add(Dense(11,activation = 'sigmoid' ))\n",
        "model.add(Dense(1,activation = 'sigmoid' ))"
      ],
      "metadata": {
        "id": "kZXqsPtvUPNU"
      },
      "execution_count": null,
      "outputs": []
    },
    {
      "cell_type": "code",
      "source": [
        "model.summary()"
      ],
      "metadata": {
        "id": "CF6APq8_UoOf"
      },
      "execution_count": null,
      "outputs": []
    },
    {
      "cell_type": "code",
      "source": [
        "\n",
        "model.compile(optimizer='Adam',loss='binary_crossentropy',metrics=['accuracy'])\n",
        "# Validation set sort of different purpose to test set where you use validation set to hyper parametere tuning, avoiding data leakage\n",
        " # (isolating testing set, model selectin and early stopping, basically it heps make model )"
      ],
      "metadata": {
        "id": "o_XgqsOGVjPx"
      },
      "execution_count": null,
      "outputs": []
    },
    {
      "cell_type": "code",
      "source": [
        "history = model.fit(X_train_tr,y_train,batch_size = 50, epochs = 100, validation_split = 0.8)"
      ],
      "metadata": {
        "id": "knJ9VPf5WDr0"
      },
      "execution_count": null,
      "outputs": []
    },
    {
      "cell_type": "code",
      "source": [
        "  # Weight and biases\n",
        "# returns a list with first index as weight array and second one is a array with biases\n",
        "model.layers[1].get_weights()"
      ],
      "metadata": {
        "id": "uEYo9qnHWQjG"
      },
      "execution_count": null,
      "outputs": []
    },
    {
      "cell_type": "code",
      "source": [
        "model.layers[1].get_weights()[0]"
      ],
      "metadata": {
        "id": "DtdTmmMuYcbF"
      },
      "execution_count": null,
      "outputs": []
    },
    {
      "cell_type": "code",
      "source": [
        "((model.layers[1].get_weights())[1])"
      ],
      "metadata": {
        "id": "lLNQC3yAVzZf"
      },
      "execution_count": null,
      "outputs": []
    },
    {
      "cell_type": "code",
      "source": [
        "y_test.iloc[:].sum()"
      ],
      "metadata": {
        "id": "pZFLIm52sCj4"
      },
      "execution_count": null,
      "outputs": []
    },
    {
      "cell_type": "code",
      "source": [
        "y_pred = model.predict(X_test)"
      ],
      "metadata": {
        "id": "GDtuAB7kWSgA"
      },
      "execution_count": null,
      "outputs": []
    },
    {
      "cell_type": "code",
      "source": [
        "import numpy as np"
      ],
      "metadata": {
        "id": "yIFLp60ttrXE"
      },
      "execution_count": null,
      "outputs": []
    },
    {
      "cell_type": "code",
      "source": [
        "y_pred = np.where (y_pred > 0.5, 1,0)\n",
        "y_pred.sum()"
      ],
      "metadata": {
        "id": "qY5jimmEtbUH"
      },
      "execution_count": null,
      "outputs": []
    },
    {
      "cell_type": "code",
      "source": [
        "from sklearn.metrics import accuracy_score\n",
        "accuracy_score(y_test,y_pred)"
      ],
      "metadata": {
        "id": "e34yKxERqlry"
      },
      "execution_count": null,
      "outputs": []
    },
    {
      "cell_type": "code",
      "source": [
        "import matplotlib.pyplot as plt"
      ],
      "metadata": {
        "id": "RniMwk-t4B_6"
      },
      "execution_count": null,
      "outputs": []
    },
    {
      "cell_type": "code",
      "source": [
        "history.history.keys()"
      ],
      "metadata": {
        "id": "gtqVQfTorW0Y"
      },
      "execution_count": null,
      "outputs": []
    },
    {
      "cell_type": "code",
      "source": [
        "plt.plot(history.history['accuracy'])\n",
        "plt.plot(history.history['val_accuracy'])"
      ],
      "metadata": {
        "id": "FeYhO2M93_ET"
      },
      "execution_count": null,
      "outputs": []
    },
    {
      "cell_type": "code",
      "source": [
        "plt.plot(history.history['loss'])\n",
        "plt.plot(history.history['val_loss'])"
      ],
      "metadata": {
        "id": "DnG0B48a4bTs"
      },
      "execution_count": null,
      "outputs": []
    },
    {
      "cell_type": "markdown",
      "source": [
        "# MultiClass Classification"
      ],
      "metadata": {
        "id": "mpvx4ry5FSFO"
      }
    },
    {
      "cell_type": "code",
      "source": [],
      "metadata": {
        "id": "mh0JEBg8FXzw"
      },
      "execution_count": null,
      "outputs": []
    },
    {
      "cell_type": "code",
      "execution_count": null,
      "metadata": {
        "id": "jrgbmXGc7W-B"
      },
      "outputs": [],
      "source": [
        "from tensorflow.keras import Sequential\n",
        "from tensorflow import keras\n",
        "from tensorflow.keras.layers import Dense,Flatten"
      ]
    },
    {
      "cell_type": "code",
      "source": [
        "(X_train, y_train), (X_test, y_test) = keras.datasets.mnist.load_data()"
      ],
      "metadata": {
        "id": "Suvkfz477isR"
      },
      "execution_count": null,
      "outputs": []
    },
    {
      "cell_type": "code",
      "source": [
        "X_train[0]"
      ],
      "metadata": {
        "id": "YNbx7ZwF9gVC"
      },
      "execution_count": null,
      "outputs": []
    },
    {
      "cell_type": "code",
      "source": [
        "import matplotlib.pyplot as plt"
      ],
      "metadata": {
        "id": "7mhMIC9s93Yi"
      },
      "execution_count": null,
      "outputs": []
    },
    {
      "cell_type": "code",
      "source": [
        "plt.imshow(X_test[0])"
      ],
      "metadata": {
        "id": "H96_A03c-Dr5"
      },
      "execution_count": null,
      "outputs": []
    },
    {
      "cell_type": "code",
      "source": [
        "X_test.shape"
      ],
      "metadata": {
        "id": "R1fYjexx8uWY"
      },
      "execution_count": null,
      "outputs": []
    },
    {
      "cell_type": "code",
      "source": [
        "y_train"
      ],
      "metadata": {
        "id": "wTUcnVwa9xzy"
      },
      "execution_count": null,
      "outputs": []
    },
    {
      "cell_type": "code",
      "source": [
        "y_train.shape"
      ],
      "metadata": {
        "id": "Wd3l9WzM8vZi"
      },
      "execution_count": null,
      "outputs": []
    },
    {
      "cell_type": "code",
      "source": [
        "y_test.shape"
      ],
      "metadata": {
        "id": "KHQB9f6l8wYC"
      },
      "execution_count": null,
      "outputs": []
    },
    {
      "cell_type": "code",
      "source": [
        "# Max Absolute Scaling\n",
        "X_train=X_train/255\n",
        "X_test = X_test/ 255"
      ],
      "metadata": {
        "id": "Wi78LXk98xhj"
      },
      "execution_count": null,
      "outputs": []
    },
    {
      "cell_type": "code",
      "source": [
        "# Model Creation\n",
        "model = Sequential ()\n",
        "\n",
        "model.add(Flatten(input_shape = (28,28)))\n",
        "model.add(Dense(128,activation = 'relu'))\n",
        "model.add(Dense(10,activation = 'softmax'))"
      ],
      "metadata": {
        "id": "gsb0XOPx-dvC"
      },
      "execution_count": null,
      "outputs": []
    },
    {
      "cell_type": "code",
      "source": [
        "model.summary()"
      ],
      "metadata": {
        "id": "BPFzu5mc_uqN"
      },
      "execution_count": null,
      "outputs": []
    },
    {
      "cell_type": "code",
      "source": [
        "model.compile(optimizer= 'adam',loss = 'sparse_categorical_crossentropy', metrics = ['accuracy'])"
      ],
      "metadata": {
        "id": "HLJ-2MK8_7jH"
      },
      "execution_count": null,
      "outputs": []
    },
    {
      "cell_type": "code",
      "source": [
        "history = model.fit(X_train,y_train,epochs = 10, validation_split=0.2)"
      ],
      "metadata": {
        "id": "HP20m5tjAcit"
      },
      "execution_count": null,
      "outputs": []
    },
    {
      "cell_type": "code",
      "source": [
        "y_pred = model.predict(X_test)"
      ],
      "metadata": {
        "id": "4GKMjzNRAzo1"
      },
      "execution_count": null,
      "outputs": []
    },
    {
      "cell_type": "code",
      "source": [
        "y_pred = y_pred.argmax(axis = 1)"
      ],
      "metadata": {
        "id": "P_Tj-bfDA-Km"
      },
      "execution_count": null,
      "outputs": []
    },
    {
      "cell_type": "code",
      "source": [
        "from sklearn.metrics import accuracy_score\n",
        "import matplotlib.pyplot as plt"
      ],
      "metadata": {
        "id": "gwoUsB2MBpkI"
      },
      "execution_count": null,
      "outputs": []
    },
    {
      "cell_type": "code",
      "source": [
        "accuracy_score(y_test, y_pred)"
      ],
      "metadata": {
        "id": "9xHMpQLrBsgB"
      },
      "execution_count": null,
      "outputs": []
    },
    {
      "cell_type": "code",
      "source": [
        "history.history.keys()"
      ],
      "metadata": {
        "id": "zdSkd6rzByvA"
      },
      "execution_count": null,
      "outputs": []
    },
    {
      "cell_type": "code",
      "source": [
        "plt.plot(history.history['accuracy'])\n",
        "plt.plot(history.history['val_accuracy'])\n",
        "plt.ylim ( 0.90,1)"
      ],
      "metadata": {
        "id": "gN5sc8qDCuqi"
      },
      "execution_count": null,
      "outputs": []
    },
    {
      "cell_type": "code",
      "source": [
        "plt.plot(history.history['loss'])\n",
        "plt.plot(history.history['val_loss'])"
      ],
      "metadata": {
        "id": "F9n32IpWDQC6"
      },
      "execution_count": null,
      "outputs": []
    },
    {
      "cell_type": "markdown",
      "source": [
        "# Regression\n",
        "\n"
      ],
      "metadata": {
        "id": "8G287q6iV8kG"
      }
    },
    {
      "cell_type": "code",
      "source": [
        "import pandas as pd\n",
        "import numpy as np"
      ],
      "metadata": {
        "id": "rDOlifxmL2yZ"
      },
      "execution_count": null,
      "outputs": []
    },
    {
      "cell_type": "code",
      "source": [
        "df = pd.read_csv('https://raw.githubusercontent.com/harshalzate/ML/refs/heads/main/DL/Data_Files/Admission_Predict_Ver1.1.csv')"
      ],
      "metadata": {
        "execution": {
          "iopub.status.busy": "2022-03-11T05:05:26.373655Z",
          "iopub.execute_input": "2022-03-11T05:05:26.375034Z",
          "iopub.status.idle": "2022-03-11T05:05:26.398026Z",
          "shell.execute_reply.started": "2022-03-11T05:05:26.374978Z",
          "shell.execute_reply": "2022-03-11T05:05:26.397001Z"
        },
        "trusted": true,
        "id": "OqjAsOorL038"
      },
      "outputs": [],
      "execution_count": null
    },
    {
      "cell_type": "code",
      "source": [
        "df.head()"
      ],
      "metadata": {
        "execution": {
          "iopub.status.busy": "2022-03-11T05:05:30.064474Z",
          "iopub.execute_input": "2022-03-11T05:05:30.065585Z",
          "iopub.status.idle": "2022-03-11T05:05:30.087804Z",
          "shell.execute_reply.started": "2022-03-11T05:05:30.065528Z",
          "shell.execute_reply": "2022-03-11T05:05:30.08718Z"
        },
        "trusted": true,
        "id": "72ZdLpuDL039"
      },
      "outputs": [],
      "execution_count": null
    },
    {
      "cell_type": "code",
      "source": [
        "df.shape"
      ],
      "metadata": {
        "execution": {
          "iopub.status.busy": "2022-03-11T05:05:36.243744Z",
          "iopub.execute_input": "2022-03-11T05:05:36.244306Z",
          "iopub.status.idle": "2022-03-11T05:05:36.249924Z",
          "shell.execute_reply.started": "2022-03-11T05:05:36.244272Z",
          "shell.execute_reply": "2022-03-11T05:05:36.249029Z"
        },
        "trusted": true,
        "id": "OiwcoFnvL03-"
      },
      "outputs": [],
      "execution_count": null
    },
    {
      "cell_type": "code",
      "source": [
        "df.info()"
      ],
      "metadata": {
        "execution": {
          "iopub.status.busy": "2022-03-11T05:05:53.354653Z",
          "iopub.execute_input": "2022-03-11T05:05:53.355216Z",
          "iopub.status.idle": "2022-03-11T05:05:53.378103Z",
          "shell.execute_reply.started": "2022-03-11T05:05:53.355181Z",
          "shell.execute_reply": "2022-03-11T05:05:53.377419Z"
        },
        "trusted": true,
        "id": "oj_94GKrL03-"
      },
      "outputs": [],
      "execution_count": null
    },
    {
      "cell_type": "code",
      "source": [
        "df.duplicated().sum()"
      ],
      "metadata": {
        "execution": {
          "iopub.status.busy": "2022-03-11T05:06:37.153668Z",
          "iopub.execute_input": "2022-03-11T05:06:37.153942Z",
          "iopub.status.idle": "2022-03-11T05:06:37.165901Z",
          "shell.execute_reply.started": "2022-03-11T05:06:37.153916Z",
          "shell.execute_reply": "2022-03-11T05:06:37.165031Z"
        },
        "trusted": true,
        "id": "OFLt-57DL03_"
      },
      "outputs": [],
      "execution_count": null
    },
    {
      "cell_type": "code",
      "source": [
        "df.drop(columns=['Serial No.'],inplace=True)"
      ],
      "metadata": {
        "execution": {
          "iopub.status.busy": "2022-03-11T05:18:17.549549Z",
          "iopub.execute_input": "2022-03-11T05:18:17.550508Z",
          "iopub.status.idle": "2022-03-11T05:18:17.579524Z",
          "shell.execute_reply.started": "2022-03-11T05:18:17.550421Z",
          "shell.execute_reply": "2022-03-11T05:18:17.577948Z"
        },
        "trusted": true,
        "id": "-421EFUqL04A"
      },
      "outputs": [],
      "execution_count": null
    },
    {
      "cell_type": "code",
      "source": [
        "df.head()"
      ],
      "metadata": {
        "execution": {
          "iopub.status.busy": "2022-03-11T05:18:20.78127Z",
          "iopub.execute_input": "2022-03-11T05:18:20.781776Z",
          "iopub.status.idle": "2022-03-11T05:18:20.809417Z",
          "shell.execute_reply.started": "2022-03-11T05:18:20.781721Z",
          "shell.execute_reply": "2022-03-11T05:18:20.808715Z"
        },
        "trusted": true,
        "id": "QyZgEJW3L04B"
      },
      "outputs": [],
      "execution_count": null
    },
    {
      "cell_type": "code",
      "source": [
        "X = df.iloc[:,0:-1]\n",
        "y = df.iloc[:,-1]"
      ],
      "metadata": {
        "execution": {
          "iopub.status.busy": "2022-03-11T05:18:53.834844Z",
          "iopub.execute_input": "2022-03-11T05:18:53.83574Z",
          "iopub.status.idle": "2022-03-11T05:18:53.842654Z",
          "shell.execute_reply.started": "2022-03-11T05:18:53.835694Z",
          "shell.execute_reply": "2022-03-11T05:18:53.841492Z"
        },
        "trusted": true,
        "id": "eEjB4FtsL04B"
      },
      "outputs": [],
      "execution_count": null
    },
    {
      "cell_type": "code",
      "source": [
        "X"
      ],
      "metadata": {
        "execution": {
          "iopub.status.busy": "2022-03-11T05:18:55.561051Z",
          "iopub.execute_input": "2022-03-11T05:18:55.561371Z",
          "iopub.status.idle": "2022-03-11T05:18:55.586856Z",
          "shell.execute_reply.started": "2022-03-11T05:18:55.561338Z",
          "shell.execute_reply": "2022-03-11T05:18:55.585688Z"
        },
        "trusted": true,
        "id": "Br2vqKdEL04C"
      },
      "outputs": [],
      "execution_count": null
    },
    {
      "cell_type": "code",
      "source": [
        "y"
      ],
      "metadata": {
        "execution": {
          "iopub.status.busy": "2022-03-11T05:19:01.453822Z",
          "iopub.execute_input": "2022-03-11T05:19:01.454126Z",
          "iopub.status.idle": "2022-03-11T05:19:01.465052Z",
          "shell.execute_reply.started": "2022-03-11T05:19:01.454096Z",
          "shell.execute_reply": "2022-03-11T05:19:01.463876Z"
        },
        "trusted": true,
        "id": "yqJ_GUoJL04C"
      },
      "outputs": [],
      "execution_count": null
    },
    {
      "cell_type": "code",
      "source": [
        "from sklearn.model_selection import train_test_split\n",
        "X_train,X_test,y_train,y_test = train_test_split(X,y,test_size=0.2,random_state=1)"
      ],
      "metadata": {
        "execution": {
          "iopub.status.busy": "2022-03-11T05:19:48.103438Z",
          "iopub.execute_input": "2022-03-11T05:19:48.103753Z",
          "iopub.status.idle": "2022-03-11T05:19:48.114293Z",
          "shell.execute_reply.started": "2022-03-11T05:19:48.103724Z",
          "shell.execute_reply": "2022-03-11T05:19:48.11353Z"
        },
        "trusted": true,
        "id": "i5tHZgk9L04C"
      },
      "outputs": [],
      "execution_count": null
    },
    {
      "cell_type": "code",
      "source": [
        "X_train"
      ],
      "metadata": {
        "execution": {
          "iopub.status.busy": "2022-03-11T05:19:51.552653Z",
          "iopub.execute_input": "2022-03-11T05:19:51.553709Z",
          "iopub.status.idle": "2022-03-11T05:19:51.574739Z",
          "shell.execute_reply.started": "2022-03-11T05:19:51.55366Z",
          "shell.execute_reply": "2022-03-11T05:19:51.573768Z"
        },
        "trusted": true,
        "id": "56Kr4g_FL04C"
      },
      "outputs": [],
      "execution_count": null
    },
    {
      "cell_type": "code",
      "source": [
        "from sklearn.preprocessing import MinMaxScaler\n",
        "scaler = MinMaxScaler()\n",
        "X_train_scaled = scaler.fit_transform(X_train)\n",
        "X_test_scaled = scaler.transform(X_test)"
      ],
      "metadata": {
        "execution": {
          "iopub.status.busy": "2022-03-11T05:20:46.395892Z",
          "iopub.execute_input": "2022-03-11T05:20:46.396197Z",
          "iopub.status.idle": "2022-03-11T05:20:46.408101Z",
          "shell.execute_reply.started": "2022-03-11T05:20:46.396162Z",
          "shell.execute_reply": "2022-03-11T05:20:46.407465Z"
        },
        "trusted": true,
        "id": "WGPCBkirL04D"
      },
      "outputs": [],
      "execution_count": null
    },
    {
      "cell_type": "code",
      "source": [
        "X_train_scaled"
      ],
      "metadata": {
        "execution": {
          "iopub.status.busy": "2022-03-11T05:20:55.453264Z",
          "iopub.execute_input": "2022-03-11T05:20:55.453673Z",
          "iopub.status.idle": "2022-03-11T05:20:55.46197Z",
          "shell.execute_reply.started": "2022-03-11T05:20:55.453633Z",
          "shell.execute_reply": "2022-03-11T05:20:55.460824Z"
        },
        "trusted": true,
        "id": "S8kF1daQL04D"
      },
      "outputs": [],
      "execution_count": null
    },
    {
      "cell_type": "code",
      "source": [
        "import tensorflow\n",
        "from tensorflow import keras\n",
        "from keras import Sequential\n",
        "from keras.layers import Dense"
      ],
      "metadata": {
        "execution": {
          "iopub.status.busy": "2022-03-11T05:21:52.940695Z",
          "iopub.execute_input": "2022-03-11T05:21:52.940999Z",
          "iopub.status.idle": "2022-03-11T05:21:53.689638Z",
          "shell.execute_reply.started": "2022-03-11T05:21:52.940968Z",
          "shell.execute_reply": "2022-03-11T05:21:53.688691Z"
        },
        "trusted": true,
        "id": "vq-y4vqLL04D"
      },
      "outputs": [],
      "execution_count": null
    },
    {
      "cell_type": "code",
      "source": [
        "model = Sequential()\n",
        "\n",
        "model.add(Dense(7,activation='relu',input_dim=7))\n",
        "model.add(Dense(7,activation='relu'))\n",
        "model.add(Dense(1,activation='linear'))"
      ],
      "metadata": {
        "execution": {
          "iopub.status.busy": "2022-03-11T05:28:05.020058Z",
          "iopub.execute_input": "2022-03-11T05:28:05.020529Z",
          "iopub.status.idle": "2022-03-11T05:28:05.05996Z",
          "shell.execute_reply.started": "2022-03-11T05:28:05.020494Z",
          "shell.execute_reply": "2022-03-11T05:28:05.059144Z"
        },
        "trusted": true,
        "id": "Q2ss1CyiL04D"
      },
      "outputs": [],
      "execution_count": null
    },
    {
      "cell_type": "code",
      "source": [
        "model.summary()"
      ],
      "metadata": {
        "execution": {
          "iopub.status.busy": "2022-03-11T05:28:08.804018Z",
          "iopub.execute_input": "2022-03-11T05:28:08.804505Z",
          "iopub.status.idle": "2022-03-11T05:28:08.813085Z",
          "shell.execute_reply.started": "2022-03-11T05:28:08.804471Z",
          "shell.execute_reply": "2022-03-11T05:28:08.811993Z"
        },
        "trusted": true,
        "id": "R_-cGuR2L04D"
      },
      "outputs": [],
      "execution_count": null
    },
    {
      "cell_type": "code",
      "source": [
        "model.compile(loss='mean_squared_error',optimizer='Adam')"
      ],
      "metadata": {
        "execution": {
          "iopub.status.busy": "2022-03-11T05:28:14.077813Z",
          "iopub.execute_input": "2022-03-11T05:28:14.07811Z",
          "iopub.status.idle": "2022-03-11T05:28:14.090885Z",
          "shell.execute_reply.started": "2022-03-11T05:28:14.078081Z",
          "shell.execute_reply": "2022-03-11T05:28:14.0902Z"
        },
        "trusted": true,
        "id": "MYlUqVZNL04E"
      },
      "outputs": [],
      "execution_count": null
    },
    {
      "cell_type": "code",
      "source": [
        "history = model.fit(X_train_scaled,y_train,epochs=100,validation_split=0.2)"
      ],
      "metadata": {
        "execution": {
          "iopub.status.busy": "2022-03-11T05:28:23.321197Z",
          "iopub.execute_input": "2022-03-11T05:28:23.321516Z",
          "iopub.status.idle": "2022-03-11T05:28:33.96788Z",
          "shell.execute_reply.started": "2022-03-11T05:28:23.321484Z",
          "shell.execute_reply": "2022-03-11T05:28:33.96691Z"
        },
        "trusted": true,
        "id": "T6uLJNY9L04E"
      },
      "outputs": [],
      "execution_count": null
    },
    {
      "cell_type": "code",
      "source": [
        "y_pred = model.predict(X_test_scaled)"
      ],
      "metadata": {
        "execution": {
          "iopub.status.busy": "2022-03-11T05:28:40.33217Z",
          "iopub.execute_input": "2022-03-11T05:28:40.332514Z",
          "iopub.status.idle": "2022-03-11T05:28:40.448046Z",
          "shell.execute_reply.started": "2022-03-11T05:28:40.332479Z",
          "shell.execute_reply": "2022-03-11T05:28:40.447015Z"
        },
        "trusted": true,
        "id": "nnXzijsUL04E"
      },
      "outputs": [],
      "execution_count": null
    },
    {
      "cell_type": "code",
      "source": [
        "from sklearn.metrics import r2_score\n",
        "r2_score(y_test,y_pred)"
      ],
      "metadata": {
        "execution": {
          "iopub.status.busy": "2022-03-11T05:28:46.414662Z",
          "iopub.execute_input": "2022-03-11T05:28:46.414981Z",
          "iopub.status.idle": "2022-03-11T05:28:46.423778Z",
          "shell.execute_reply.started": "2022-03-11T05:28:46.414947Z",
          "shell.execute_reply": "2022-03-11T05:28:46.422401Z"
        },
        "trusted": true,
        "id": "8umNGyk8L04E"
      },
      "outputs": [],
      "execution_count": null
    },
    {
      "cell_type": "code",
      "source": [
        "import matplotlib.pyplot as plt\n",
        "plt.plot(history.history['loss'])\n",
        "plt.plot(history.history['val_loss'])"
      ],
      "metadata": {
        "execution": {
          "iopub.status.busy": "2022-03-11T05:30:49.89142Z",
          "iopub.execute_input": "2022-03-11T05:30:49.891819Z",
          "iopub.status.idle": "2022-03-11T05:30:50.160472Z",
          "shell.execute_reply.started": "2022-03-11T05:30:49.891779Z",
          "shell.execute_reply": "2022-03-11T05:30:50.159294Z"
        },
        "trusted": true,
        "id": "kupc5AgsL04E"
      },
      "outputs": [],
      "execution_count": null
    },
    {
      "cell_type": "code",
      "source": [],
      "metadata": {
        "id": "WoBH90c5L04E"
      },
      "outputs": [],
      "execution_count": null
    }
  ]
}