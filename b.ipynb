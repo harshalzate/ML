{
  "nbformat": 4,
  "nbformat_minor": 0,
  "metadata": {
    "colab": {
      "private_outputs": true,
      "provenance": [],
      "authorship_tag": "ABX9TyNv0IeFnSQZ8PIKvRZkc7rG",
      "include_colab_link": true
    },
    "kernelspec": {
      "name": "python3",
      "display_name": "Python 3"
    },
    "language_info": {
      "name": "python"
    }
  },
  "cells": [
    {
      "cell_type": "markdown",
      "metadata": {
        "id": "view-in-github",
        "colab_type": "text"
      },
      "source": [
        "<a href=\"https://colab.research.google.com/github/harshalzate/ML/blob/main/b.ipynb\" target=\"_parent\"><img src=\"https://colab.research.google.com/assets/colab-badge.svg\" alt=\"Open In Colab\"/></a>"
      ]
    },
    {
      "cell_type": "code",
      "execution_count": null,
      "metadata": {
        "id": "rlwBZBfo-_7U"
      },
      "outputs": [],
      "source": [
        "class ATM:\n",
        "  def __init__(self):\n",
        "    self.pin=7588\n",
        "    self.balance=100000000000000\n",
        "    self.menu()\n",
        "  def menu(self):\n",
        "    user_input=int(input(\n",
        "        ''' select from below options:\n",
        "             1. Select 1 to change pin.\n",
        "             2. Select 2 to check account balance.\n",
        "             3. Select 3 to withdraw.\n",
        "             4. Select 4 to deposit\n",
        "        '''\n",
        "    ))\n",
        "    if user_input==1:\n",
        "      self.pin_change()\n",
        "    elif user_input==2:\n",
        "      self.account_balance\n",
        "    elif user_input==3:\n",
        "      self.withdraw()\n",
        "    elif user_input==4:\n",
        "      self.deposite()\n",
        "\n",
        "  def pin_change(self):\n",
        "    old_pin = int(input('Enter your older pin '))\n",
        "    if old_pin==self.pin:\n",
        "      new_pin = int(input('Enter your older pin '))\n",
        "      new_pin2 = int(input ('Enter you new pin one more time'))\n",
        "      if new_pin==new_pin2:\n",
        "        self.pin = new_pin\n",
        "        print('Pin change successful')\n",
        "      else:\n",
        "        print('You have not enterd the same pin second time')\n",
        "    else:\n",
        "      print(\"Pin you have entered is not matching\")\n",
        "\n",
        "  def account_balance(self):\n",
        "    old_pin= int(input('Enter your older pin '))\n",
        "    if old_pin==self.pin:\n",
        "      print('Your current balance is {}'.format(self.balance))\n",
        "    else:\n",
        "      print(\"You have entered a wrong pin please check your pin\")\n",
        "\n",
        "\n",
        "  def withdraw(self):\n",
        "    old_pin=int(input('Enter your pin'))\n",
        "    if old_pin==self.pin:\n",
        "      withdrawn_amount = int(input('Enter the amount you want to withdraw'))\n",
        "      if withdrawn_amount< self.balance:\n",
        "        print('Amount of {} withdrawn sucsessfuly and your current balance is {}'.format(withdrawn_amount,self.balance-withdrawn_amount))\n",
        "      else:\n",
        "        print('Sale chor, bhak jaa paise daal ke aaja ')\n",
        "    else:\n",
        "      print('Dumb ass you forgot your pin or what ?')\n",
        "\n",
        "  def deposite(self):\n",
        "    old_pin = int(input('Enter your older pin '))\n",
        "    if old_pin==self.pin:\n",
        "      deposit = int(input('Enter your amount to deposite'))\n",
        "      if deposit > 0 :\n",
        "        self.balance = self.balance + deposit\n",
        "        print('Your new Balance is {}'.format(self.balance))\n",
        "      else:\n",
        "        print('Enter valid amount you bitch')\n",
        "\n",
        "    else:\n",
        "      print('You short memory go get your correct pin and then come back')\n"
      ]
    },
    {
      "cell_type": "code",
      "source": [
        "a=ATM()\n"
      ],
      "metadata": {
        "id": "IycYymDG_D18"
      },
      "execution_count": null,
      "outputs": []
    },
    {
      "cell_type": "code",
      "source": [
        "\n",
        "id(a)"
      ],
      "metadata": {
        "id": "UL7dG-nsHaob"
      },
      "execution_count": null,
      "outputs": []
    },
    {
      "cell_type": "code",
      "source": [
        "t=ATM()\n",
        "id(t)"
      ],
      "metadata": {
        "id": "laVc_xqWN27m"
      },
      "execution_count": null,
      "outputs": []
    },
    {
      "cell_type": "code",
      "source": [
        "tt=ATM()\n",
        "id(tt)"
      ],
      "metadata": {
        "id": "tV-11ewXN4aj"
      },
      "execution_count": null,
      "outputs": []
    },
    {
      "cell_type": "code",
      "source": [
        "class Fraction:\n",
        "\n",
        "  # parameterized constructor   ### takes arguments   #####\n",
        "  def __init__(self,x,y):\n",
        "    self.num = x\n",
        "    self.den = y\n",
        "\n",
        "  def __str__(self):\n",
        "    return '{}/{}'.format(self.num,self.den)\n",
        "\n",
        "  def __add__(self,other):\n",
        "    new_num = self.num*other.den + other.num*self.den\n",
        "    new_den = self.den*other.den\n",
        "    return 'Harshal'\n",
        "    # return '{}/{}'.format(new_num,new_den)\n",
        "\n",
        "  def __sub__(self,other):\n",
        "    new_num = self.num*other.den - other.num*self.den\n",
        "    new_den = self.den*other.den\n",
        "\n",
        "    return '{}/{}'.format(new_num,new_den)\n",
        "\n",
        "  def __mul__(self,other):\n",
        "    new_num = self.num*other.num\n",
        "    new_den = self.den*other.den\n",
        "\n",
        "    return '{}/{}'.format(new_num,new_den)\n",
        "\n",
        "  def __truediv__(self,other):\n",
        "    new_num = self.num*other.den\n",
        "    new_den = self.den*other.num\n",
        "\n",
        "    return '{}/{}'.format(new_num,new_den)\n",
        "\n",
        "  def convert_to_decimal(self):\n",
        "    return self.num/self.den\n",
        "\n"
      ],
      "metadata": {
        "id": "MWh72LYBOFj9"
      },
      "execution_count": null,
      "outputs": []
    },
    {
      "cell_type": "code",
      "source": [
        "class Fraction :\n",
        "  def __init__(self,x,y):\n",
        "    self.num=x\n",
        "    self.den=y\n",
        "\n",
        "  def __str__(self):\n",
        "    return(\"{}/{}\".format(self.num,self.den))\n",
        "\n",
        "  def __add__(self,other):\n",
        "    num = (self.num * other.den) + (self.den * other.num)\n",
        "    den = self.den * other.den\n",
        "    return \"{}/{}\".format(num,den)\n",
        "\n",
        "  def __truediv__(self,other):\n",
        "    num = self.num * other.den\n",
        "    den= self.den * other.num\n",
        "    return \"{}/{}\".format(num,den)\n",
        "\n",
        "  def __mul__(self,other):\n",
        "    num = self.num * other.num\n",
        "    den = self.den * other.den\n",
        "    return \"{}/{}\".format(num,den)\n",
        "\n",
        "\n",
        "\n",
        "Fr1=Fraction(3,4)\n",
        "print(Fr1)\n"
      ],
      "metadata": {
        "id": "O3gbTOROPh-7"
      },
      "execution_count": null,
      "outputs": []
    },
    {
      "cell_type": "code",
      "source": [
        "Fr1=Fraction(3,4)\n",
        "Fr2 = Fraction(4,5)\n",
        "\n",
        "Fr1 / Fr2"
      ],
      "metadata": {
        "id": "668pzFtfRp8G"
      },
      "execution_count": null,
      "outputs": []
    },
    {
      "cell_type": "code",
      "source": [
        "class A:\n",
        "  def __init__(self):\n",
        "    self.a='harhal'\n",
        "\n",
        "\n",
        "  t=5\n",
        "  def m(self):\n",
        "    y= self.t + 6\n",
        "    return y\n",
        "aa=A()\n",
        "aa.a\n",
        "aa.t\n",
        "aa.m()"
      ],
      "metadata": {
        "id": "wHQu7_NbW2Vf"
      },
      "execution_count": null,
      "outputs": []
    },
    {
      "cell_type": "code",
      "source": [
        "class Fraction :\n",
        "  def __init__(self,x,y):\n",
        "    self.num=x\n",
        "    self.den=y\n",
        "\n",
        "F=Fraction(5,6)\n",
        "F.num"
      ],
      "metadata": {
        "id": "Vr2sfHzAZ57K"
      },
      "execution_count": null,
      "outputs": []
    },
    {
      "cell_type": "code",
      "source": [
        "class point :\n",
        "  def __init__(self,x,y):\n",
        "    self.x=x\n",
        "    self.y=y\n",
        "\n",
        "  def __str__(self):\n",
        "    return \"({},{})\".format(self.x,self.y)\n",
        "\n",
        "  def dist_org(self):\n",
        "    return ((self.x-0)**2 + (self.y-0))**0.5\n",
        "\n",
        "  def dist_points(self,other):\n",
        "    return ((self.x-other.x)**2 + (self.y-other.y)**2)**0.5"
      ],
      "metadata": {
        "id": "EoyIdqrPZ7C8"
      },
      "execution_count": null,
      "outputs": []
    },
    {
      "cell_type": "code",
      "source": [
        "a= point(3,4)\n",
        "b = point(4,5)\n",
        "print(a)"
      ],
      "metadata": {
        "id": "7PjjK57idzAl"
      },
      "execution_count": null,
      "outputs": []
    },
    {
      "cell_type": "code",
      "source": [
        "a.dist_org()"
      ],
      "metadata": {
        "id": "aK2QrIeyd1Q9"
      },
      "execution_count": null,
      "outputs": []
    },
    {
      "cell_type": "code",
      "source": [
        "a.dist_points(b)"
      ],
      "metadata": {
        "id": "dpBjk7vVe4VZ"
      },
      "execution_count": null,
      "outputs": []
    },
    {
      "cell_type": "code",
      "source": [],
      "metadata": {
        "id": "RE7gEBMAfDMH"
      },
      "execution_count": null,
      "outputs": []
    }
  ]
}