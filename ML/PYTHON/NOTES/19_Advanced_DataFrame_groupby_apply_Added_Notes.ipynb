{
  "nbformat": 4,
  "nbformat_minor": 0,
  "metadata": {
    "colab": {
      "private_outputs": true,
      "provenance": [],
      "authorship_tag": "ABX9TyP4iRSKKRoi7m+q6qICPXPU",
      "include_colab_link": true
    },
    "kernelspec": {
      "name": "python3",
      "display_name": "Python 3"
    },
    "language_info": {
      "name": "python"
    }
  },
  "cells": [
    {
      "cell_type": "markdown",
      "metadata": {
        "id": "view-in-github",
        "colab_type": "text"
      },
      "source": [
        "<a href=\"https://colab.research.google.com/github/harshalzate/ML/blob/main/ML/PYTHON/NOTES/19_Advanced_DataFrame_groupby_apply_Added_Notes.ipynb\" target=\"_parent\"><img src=\"https://colab.research.google.com/assets/colab-badge.svg\" alt=\"Open In Colab\"/></a>"
      ]
    },
    {
      "cell_type": "code",
      "execution_count": null,
      "metadata": {
        "id": "Z_rItART01xF"
      },
      "outputs": [],
      "source": [
        "#  When you iterate over a GroupBy object, it yields tuples where:\n",
        "# The first element is the group key (or keys if grouping by multiple columns)\n",
        "# The second element is the corresponding DataFrame for that group\n",
        "# i.e. when you iterate over the groupby object you get two element first one the name of the group and the second being the dataframe."
      ]
    },
    {
      "cell_type": "code",
      "source": [
        "movies = pd.read_csv('https://raw.githubusercontent.com/harshalzate/ML/refs/heads/main/COLAB_FILES_DATA/Python/DataFrames/imdb-top-1000.csv')"
      ],
      "metadata": {
        "id": "rdg7wNAI1MU3"
      },
      "execution_count": null,
      "outputs": []
    },
    {
      "cell_type": "code",
      "source": [
        "genre.min()\n",
        "# will return the min for all the columns in purticular genre for both numerical as well as categorical and not the min row, it is not the row, instead it return all the different values which belongs to each of the column."
      ],
      "metadata": {
        "id": "IgXQuVj31TZz"
      },
      "execution_count": null,
      "outputs": []
    },
    {
      "cell_type": "code",
      "source": [
        "# you can not any numerical functions directly as it applies that function on both numerical as well categorical ones, so you better only apply those function which works on both like min, max. And make sure you apply specific functions with filtering those columns;."
      ],
      "metadata": {
        "id": "t1mNPmhx12tW"
      },
      "execution_count": null,
      "outputs": []
    },
    {
      "cell_type": "code",
      "source": [
        "# looping on the groupby objects and split apply combine is similar stategy to the loops and recurion, like you can solve the problems with both but the looping is prefred for more intiutive and flexible approach.\n",
        "# Split apply combine the function has to be applied on the  groupby object so that the function gets applied on each group dataframes unlike passing a groupby object to function which does not as function won't get dataframe but a groupby object.\n",
        "# that is the best thing about the split apply combine where the function will be applied to all the group dataframes by it's own."
      ],
      "metadata": {
        "id": "hT640DnU6_sA"
      },
      "execution_count": null,
      "outputs": []
    },
    {
      "cell_type": "code",
      "source": [
        "# every group question can be solved by three methods, one with iterating over the unique elements of the to be grouped column where as other two are\n",
        "# group options which includes grouping and then loop on groupby and split apply combine with functions on groupby object."
      ],
      "metadata": {
        "id": "81T7Iekl-LsI"
      },
      "execution_count": null,
      "outputs": []
    }
  ]
}