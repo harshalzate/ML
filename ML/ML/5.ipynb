{
  "nbformat": 4,
  "nbformat_minor": 0,
  "metadata": {
    "colab": {
      "private_outputs": true,
      "provenance": []
    },
    "kernelspec": {
      "name": "python3",
      "display_name": "Python 3"
    },
    "language_info": {
      "name": "python"
    }
  },
  "cells": [
    {
      "cell_type": "code",
      "execution_count": null,
      "metadata": {
        "id": "HTaicFAw8GvV"
      },
      "outputs": [],
      "source": []
    },
    {
      "cell_type": "code",
      "source": [
        "# Step 2: Set up Kaggle API credentials\n",
        "!mkdir -p ~/.kaggle\n",
        "!cp kaggle.json ~/.kaggle/\n",
        "!chmod 600 ~/.kaggle/kaggle.json\n",
        "\n",
        "# Step 3: Install the Kaggle library (if not already installed)\n",
        "!pip install kaggle\n",
        "\n",
        "# Step 4: Download the Customer Life Time Value dataset\n",
        "!kaggle datasets download shibumohapatra/customer-life-time-value\n",
        "\n",
        "# Step 5: Extract the downloaded zip file\n",
        "import zipfile\n",
        "with zipfile.ZipFile(\"customer-life-time-value.zip\", 'r') as zip_ref:\n",
        "    zip_ref.extractall(\"customer-life-time-value\")\n",
        "\n",
        "# Step 6: List the extracted files to confirm 'train_BRCpofr.csv' is present\n",
        "!ls customer-life-time-value\n",
        "\n",
        "# Step 7: Load the 'train_BRCpofr.csv' file into a Pandas DataFrame\n",
        "import pandas as pd\n",
        "ds = pd.read_csv(\"customer-life-time-value/train_BRCpofr.csv\")\n"
      ],
      "metadata": {
        "id": "hu8lenWlix1R"
      },
      "execution_count": null,
      "outputs": []
    },
    {
      "cell_type": "code",
      "source": [
        "ds.shape"
      ],
      "metadata": {
        "id": "StDbXZcpi1df"
      },
      "execution_count": null,
      "outputs": []
    },
    {
      "cell_type": "code",
      "source": [
        "ds.sample(10)"
      ],
      "metadata": {
        "id": "l_875x1Pi2Cg"
      },
      "execution_count": null,
      "outputs": []
    },
    {
      "cell_type": "code",
      "source": [
        "ds.info()"
      ],
      "metadata": {
        "id": "PZp5nUuqjOLW"
      },
      "execution_count": null,
      "outputs": []
    },
    {
      "cell_type": "code",
      "source": [
        "ds.describe()"
      ],
      "metadata": {
        "id": "m3B0npTvkuKD"
      },
      "execution_count": null,
      "outputs": []
    },
    {
      "cell_type": "code",
      "source": [
        "ds.columns"
      ],
      "metadata": {
        "id": "d96euPvHk900"
      },
      "execution_count": null,
      "outputs": []
    },
    {
      "cell_type": "code",
      "source": [
        "ds['gender'].value_counts().plot(kind='bar')"
      ],
      "metadata": {
        "id": "ALYRqetHlPxv"
      },
      "execution_count": null,
      "outputs": []
    },
    {
      "cell_type": "code",
      "source": [
        "ds['area'].value_counts().plot(kind='bar')"
      ],
      "metadata": {
        "id": "DJwFRQVTlSSG"
      },
      "execution_count": null,
      "outputs": []
    },
    {
      "cell_type": "code",
      "source": [
        "ds['qualification'].value_counts()"
      ],
      "metadata": {
        "id": "CjRQ8QwFuxF3"
      },
      "execution_count": null,
      "outputs": []
    },
    {
      "cell_type": "code",
      "source": [
        "ds['income'].value_counts()"
      ],
      "metadata": {
        "id": "xBgOkk-Mu3PO"
      },
      "execution_count": null,
      "outputs": []
    },
    {
      "cell_type": "code",
      "source": [
        "ds['marital_status'].value_counts()"
      ],
      "metadata": {
        "id": "c7jJCn8EvDyS"
      },
      "execution_count": null,
      "outputs": []
    },
    {
      "cell_type": "code",
      "source": [
        "ds['vintage'].value_counts().plot(kind='bar')"
      ],
      "metadata": {
        "id": "QkMoiPKjv6bi"
      },
      "execution_count": null,
      "outputs": []
    },
    {
      "cell_type": "code",
      "source": [
        "ds['claim_amount'].plot(kind='kde')"
      ],
      "metadata": {
        "id": "ezxeAFKDwZo7"
      },
      "execution_count": null,
      "outputs": []
    },
    {
      "cell_type": "code",
      "source": [
        "ds[ds['claim_amount']==0].shape"
      ],
      "metadata": {
        "id": "IoE3M-XTwdzd"
      },
      "execution_count": null,
      "outputs": []
    },
    {
      "cell_type": "code",
      "source": [
        "ds[ds['claim_amount']!=0]['claim_amount'].mean()"
      ],
      "metadata": {
        "id": "3mmtQMmLw3yY"
      },
      "execution_count": null,
      "outputs": []
    },
    {
      "cell_type": "code",
      "source": [
        "ds[ds['claim_amount']!=0]['claim_amount'].median()"
      ],
      "metadata": {
        "id": "w8beIpaPxG5N"
      },
      "execution_count": null,
      "outputs": []
    },
    {
      "cell_type": "code",
      "source": [
        "ds['num_policies'].value_counts()"
      ],
      "metadata": {
        "id": "DDYJddL9xfDn"
      },
      "execution_count": null,
      "outputs": []
    },
    {
      "cell_type": "code",
      "source": [
        "ds['policy'].value_counts()"
      ],
      "metadata": {
        "id": "5UbUFo8Jxrpt"
      },
      "execution_count": null,
      "outputs": []
    },
    {
      "cell_type": "code",
      "source": [
        "ds['type_of_policy'].value_counts().plot(kind='pie',autopct='%1.1f%%')"
      ],
      "metadata": {
        "id": "drVfJ45Tx52o"
      },
      "execution_count": null,
      "outputs": []
    },
    {
      "cell_type": "code",
      "source": [
        "ds['cltv'].describe()"
      ],
      "metadata": {
        "id": "k6GxalGEyH0S"
      },
      "execution_count": null,
      "outputs": []
    },
    {
      "cell_type": "code",
      "source": [
        "ds['cltv'].plot(kind='kde')"
      ],
      "metadata": {
        "id": "46ArMXFtyen4"
      },
      "execution_count": null,
      "outputs": []
    },
    {
      "cell_type": "code",
      "source": [
        "ds.columns"
      ],
      "metadata": {
        "id": "uWtHSCNv2QS_"
      },
      "execution_count": null,
      "outputs": []
    },
    {
      "cell_type": "code",
      "source": [
        "# income column range inta single number\n",
        "# check for the relationships between the other column and estimate the close limit.\n",
        "#1. num_policies have the direct correlation between the income\n",
        "#2."
      ],
      "metadata": {
        "id": "vAi5YZHH5EX9"
      },
      "execution_count": null,
      "outputs": []
    },
    {
      "cell_type": "code",
      "source": [
        "ds[ds['income']=='More than 10L'][['num_policies']].value_counts()"
      ],
      "metadata": {
        "id": "JM8TruYY2sPP"
      },
      "execution_count": null,
      "outputs": []
    },
    {
      "cell_type": "code",
      "source": [
        "ds[['income','num_policies']].sample(30)"
      ],
      "metadata": {
        "id": "IUyiemDawJ83"
      },
      "execution_count": null,
      "outputs": []
    },
    {
      "cell_type": "code",
      "source": [
        "gender = ds.groupby('gender')"
      ],
      "metadata": {
        "id": "fzrh1AcEzasp"
      },
      "execution_count": null,
      "outputs": []
    },
    {
      "cell_type": "code",
      "source": [
        "gender['income'].value_counts()"
      ],
      "metadata": {
        "id": "UholGuPG5jwr"
      },
      "execution_count": null,
      "outputs": []
    },
    {
      "cell_type": "code",
      "source": [
        "(ds[ds['gender']=='Female']).shape"
      ],
      "metadata": {
        "id": "KahlEtGx7Ptv"
      },
      "execution_count": null,
      "outputs": []
    },
    {
      "cell_type": "code",
      "source": [
        "22220 + 9493 + 6144 + 1038"
      ],
      "metadata": {
        "id": "e2An6kR97bXP"
      },
      "execution_count": null,
      "outputs": []
    },
    {
      "cell_type": "code",
      "source": [
        "(gender['income'].value_counts()['Female']/38895).values.sum()"
      ],
      "metadata": {
        "id": "ebu55Gvo7k_5"
      },
      "execution_count": null,
      "outputs": []
    },
    {
      "cell_type": "code",
      "source": [
        "gender['income'].value_counts()['Female'].plot()\n",
        "gender['income'].value_counts()['Male'].plot()"
      ],
      "metadata": {
        "id": "2L5ptM_Q53Yf"
      },
      "execution_count": null,
      "outputs": []
    },
    {
      "cell_type": "code",
      "source": [],
      "metadata": {
        "id": "9qbO6Hmy6jza"
      },
      "execution_count": null,
      "outputs": []
    }
  ]
}