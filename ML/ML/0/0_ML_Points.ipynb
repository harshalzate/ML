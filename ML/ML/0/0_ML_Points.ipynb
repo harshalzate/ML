{
  "nbformat": 4,
  "nbformat_minor": 0,
  "metadata": {
    "colab": {
      "private_outputs": true,
      "provenance": [],
      "authorship_tag": "ABX9TyO2e5la2NULEDn8ViKOjHQJ",
      "include_colab_link": true
    },
    "kernelspec": {
      "name": "python3",
      "display_name": "Python 3"
    },
    "language_info": {
      "name": "python"
    }
  },
  "cells": [
    {
      "cell_type": "markdown",
      "metadata": {
        "id": "view-in-github",
        "colab_type": "text"
      },
      "source": [
        "<a href=\"https://colab.research.google.com/github/harshalzate/ML/blob/main/ML/ML/0/0_ML_Points.ipynb\" target=\"_parent\"><img src=\"https://colab.research.google.com/assets/colab-badge.svg\" alt=\"Open In Colab\"/></a>"
      ]
    },
    {
      "cell_type": "code",
      "execution_count": null,
      "metadata": {
        "id": "OErPoMfmIjTf"
      },
      "outputs": [],
      "source": [
        "# r2_score = 1 - (ssr/ssm)"
      ]
    },
    {
      "cell_type": "code",
      "source": [
        "# Inferance in statistic is predicting the population parameters from the sample data in hand where as\n",
        "# Inferance in Machine learning along with prediction is to understand the prediction and data patterns which caused the certain prediction.\n",
        "\n",
        "# Regression Analysis: we do regression analysis cause machine learning problems are statistical inferance problems. i.e. ML tries to estimate the\n",
        "# population parameters form the sample data in hand, so to check the validity of the those population parameters calculated from the sample data we use regression analysis. Mainly three questions are answered\n",
        "# 1. the  linear relationship between the overall X and Y.(is linear model better than mean model ?)        Fstat = MSR / MSE i.e. (ESS/k)/ (RSS/n-k-1) bigger the ESS higher the f-stat smaller the p-value and ultimately chances of selecting the alteranate hypothesis is more.\n",
        "# (ALternate you want make right)\n",
        "#  2. Degree of linear relationship between the overall X and Y\n",
        "# 3. Individual X and Y relationship (b1/b0 = 0) and alternate (b1/b0 !=0)\n",
        "# Throughtout the regresssion analysis, we have to have the alteranate hypothesis true ? why"
      ],
      "metadata": {
        "id": "iIxZFluuXbnk"
      },
      "execution_count": null,
      "outputs": []
    }
  ]
}