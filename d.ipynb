{
  "metadata": {
    "kernelspec": {
      "language": "python",
      "display_name": "Python 3",
      "name": "python3"
    },
    "language_info": {
      "pygments_lexer": "ipython3",
      "nbconvert_exporter": "python",
      "version": "3.6.4",
      "file_extension": ".py",
      "codemirror_mode": {
        "name": "ipython",
        "version": 3
      },
      "name": "python",
      "mimetype": "text/x-python"
    },
    "colab": {
      "name": "notebook8ad570467f",
      "provenance": [],
      "include_colab_link": true
    }
  },
  "nbformat_minor": 0,
  "nbformat": 4,
  "cells": [
    {
      "cell_type": "markdown",
      "metadata": {
        "id": "view-in-github",
        "colab_type": "text"
      },
      "source": [
        "<a href=\"https://colab.research.google.com/github/harshalzate/ML/blob/main/d.ipynb\" target=\"_parent\"><img src=\"https://colab.research.google.com/assets/colab-badge.svg\" alt=\"Open In Colab\"/></a>"
      ]
    },
    {
      "source": [
        "# IMPORTANT: RUN THIS CELL IN ORDER TO IMPORT YOUR KAGGLE DATA SOURCES,\n",
        "# THEN FEEL FREE TO DELETE THIS CELL.\n",
        "# NOTE: THIS NOTEBOOK ENVIRONMENT DIFFERS FROM KAGGLE'S PYTHON\n",
        "# ENVIRONMENT SO THERE MAY BE MISSING LIBRARIES USED BY YOUR\n",
        "# NOTEBOOK.\n",
        "import kagglehub\n",
        "rjmanoj_credit_card_customer_churn_prediction_path = kagglehub.dataset_download('rjmanoj/credit-card-customer-churn-prediction')\n",
        "\n",
        "print('Data source import complete.')\n"
      ],
      "metadata": {
        "id": "BssPoRcP3ptu",
        "outputId": "840b212a-ae1b-4372-8a80-56fe75b506b9",
        "colab": {
          "base_uri": "https://localhost:8080/"
        }
      },
      "cell_type": "code",
      "outputs": [
        {
          "output_type": "stream",
          "name": "stdout",
          "text": [
            "Warning: Looks like you're using an outdated `kagglehub` version, please consider updating (latest version: 0.3.4)\n",
            "Downloading from https://www.kaggle.com/api/v1/datasets/download/rjmanoj/credit-card-customer-churn-prediction?dataset_version_number=1...\n"
          ]
        },
        {
          "output_type": "stream",
          "name": "stderr",
          "text": [
            "100%|██████████| 262k/262k [00:00<00:00, 44.5MB/s]"
          ]
        },
        {
          "output_type": "stream",
          "name": "stdout",
          "text": [
            "Extracting model files...\n",
            "Data source import complete.\n"
          ]
        },
        {
          "output_type": "stream",
          "name": "stderr",
          "text": [
            "\n"
          ]
        }
      ],
      "execution_count": 1
    },
    {
      "cell_type": "code",
      "source": [
        "# This Python 3 environment comes with many helpful analytics libraries installed\n",
        "# It is defined by the kaggle/python Docker image: https://github.com/kaggle/docker-python\n",
        "# For example, here's several helpful packages to load\n",
        "\n",
        "import numpy as np # linear algebra\n",
        "import pandas as pd # data processing, CSV file I/O (e.g. pd.read_csv)\n",
        "\n",
        "# Input data files are available in the read-only \"../input/\" directory\n",
        "# For example, running this (by clicking run or pressing Shift+Enter) will list all files under the input directory\n",
        "\n",
        "import os\n",
        "for dirname, _, filenames in os.walk('/kaggle/input'):\n",
        "    for filename in filenames:\n",
        "        print(os.path.join(dirname, filename))\n",
        "\n",
        "# You can write up to 20GB to the current directory (/kaggle/working/) that gets preserved as output when you create a version using \"Save & Run All\"\n",
        "# You can also write temporary files to /kaggle/temp/, but they won't be saved outside of the current session"
      ],
      "metadata": {
        "_uuid": "8f2839f25d086af736a60e9eeb907d3b93b6e0e5",
        "_cell_guid": "b1076dfc-b9ad-4769-8c92-a6c4dae69d19",
        "execution": {
          "iopub.status.busy": "2022-03-06T03:32:33.905585Z",
          "iopub.execute_input": "2022-03-06T03:32:33.905991Z",
          "iopub.status.idle": "2022-03-06T03:32:33.939484Z",
          "shell.execute_reply.started": "2022-03-06T03:32:33.905892Z",
          "shell.execute_reply": "2022-03-06T03:32:33.93888Z"
        },
        "trusted": true,
        "id": "_i8Mq6Rk3ptz"
      },
      "execution_count": 2,
      "outputs": []
    },
    {
      "cell_type": "code",
      "source": [
        "df = pd.read_csv('/kaggle/input/credit-card-customer-churn-prediction/Churn_Modelling.csv')"
      ],
      "metadata": {
        "execution": {
          "iopub.status.busy": "2022-03-06T03:32:56.586618Z",
          "iopub.execute_input": "2022-03-06T03:32:56.586925Z",
          "iopub.status.idle": "2022-03-06T03:32:56.633466Z",
          "shell.execute_reply.started": "2022-03-06T03:32:56.586892Z",
          "shell.execute_reply": "2022-03-06T03:32:56.632634Z"
        },
        "trusted": true,
        "id": "gzupHc6c3pt1",
        "outputId": "39da4728-e57f-4ec7-f663-165aa0a9f4fb",
        "colab": {
          "base_uri": "https://localhost:8080/",
          "height": 321
        }
      },
      "execution_count": 3,
      "outputs": [
        {
          "output_type": "error",
          "ename": "FileNotFoundError",
          "evalue": "[Errno 2] No such file or directory: '/kaggle/input/credit-card-customer-churn-prediction/Churn_Modelling.csv'",
          "traceback": [
            "\u001b[0;31m---------------------------------------------------------------------------\u001b[0m",
            "\u001b[0;31mFileNotFoundError\u001b[0m                         Traceback (most recent call last)",
            "\u001b[0;32m<ipython-input-3-d5d401262880>\u001b[0m in \u001b[0;36m<cell line: 1>\u001b[0;34m()\u001b[0m\n\u001b[0;32m----> 1\u001b[0;31m \u001b[0mdf\u001b[0m \u001b[0;34m=\u001b[0m \u001b[0mpd\u001b[0m\u001b[0;34m.\u001b[0m\u001b[0mread_csv\u001b[0m\u001b[0;34m(\u001b[0m\u001b[0;34m'/kaggle/input/credit-card-customer-churn-prediction/Churn_Modelling.csv'\u001b[0m\u001b[0;34m)\u001b[0m\u001b[0;34m\u001b[0m\u001b[0;34m\u001b[0m\u001b[0m\n\u001b[0m",
            "\u001b[0;32m/usr/local/lib/python3.10/dist-packages/pandas/io/parsers/readers.py\u001b[0m in \u001b[0;36mread_csv\u001b[0;34m(filepath_or_buffer, sep, delimiter, header, names, index_col, usecols, dtype, engine, converters, true_values, false_values, skipinitialspace, skiprows, skipfooter, nrows, na_values, keep_default_na, na_filter, verbose, skip_blank_lines, parse_dates, infer_datetime_format, keep_date_col, date_parser, date_format, dayfirst, cache_dates, iterator, chunksize, compression, thousands, decimal, lineterminator, quotechar, quoting, doublequote, escapechar, comment, encoding, encoding_errors, dialect, on_bad_lines, delim_whitespace, low_memory, memory_map, float_precision, storage_options, dtype_backend)\u001b[0m\n\u001b[1;32m    946\u001b[0m     \u001b[0mkwds\u001b[0m\u001b[0;34m.\u001b[0m\u001b[0mupdate\u001b[0m\u001b[0;34m(\u001b[0m\u001b[0mkwds_defaults\u001b[0m\u001b[0;34m)\u001b[0m\u001b[0;34m\u001b[0m\u001b[0;34m\u001b[0m\u001b[0m\n\u001b[1;32m    947\u001b[0m \u001b[0;34m\u001b[0m\u001b[0m\n\u001b[0;32m--> 948\u001b[0;31m     \u001b[0;32mreturn\u001b[0m \u001b[0m_read\u001b[0m\u001b[0;34m(\u001b[0m\u001b[0mfilepath_or_buffer\u001b[0m\u001b[0;34m,\u001b[0m \u001b[0mkwds\u001b[0m\u001b[0;34m)\u001b[0m\u001b[0;34m\u001b[0m\u001b[0;34m\u001b[0m\u001b[0m\n\u001b[0m\u001b[1;32m    949\u001b[0m \u001b[0;34m\u001b[0m\u001b[0m\n\u001b[1;32m    950\u001b[0m \u001b[0;34m\u001b[0m\u001b[0m\n",
            "\u001b[0;32m/usr/local/lib/python3.10/dist-packages/pandas/io/parsers/readers.py\u001b[0m in \u001b[0;36m_read\u001b[0;34m(filepath_or_buffer, kwds)\u001b[0m\n\u001b[1;32m    609\u001b[0m \u001b[0;34m\u001b[0m\u001b[0m\n\u001b[1;32m    610\u001b[0m     \u001b[0;31m# Create the parser.\u001b[0m\u001b[0;34m\u001b[0m\u001b[0;34m\u001b[0m\u001b[0m\n\u001b[0;32m--> 611\u001b[0;31m     \u001b[0mparser\u001b[0m \u001b[0;34m=\u001b[0m \u001b[0mTextFileReader\u001b[0m\u001b[0;34m(\u001b[0m\u001b[0mfilepath_or_buffer\u001b[0m\u001b[0;34m,\u001b[0m \u001b[0;34m**\u001b[0m\u001b[0mkwds\u001b[0m\u001b[0;34m)\u001b[0m\u001b[0;34m\u001b[0m\u001b[0;34m\u001b[0m\u001b[0m\n\u001b[0m\u001b[1;32m    612\u001b[0m \u001b[0;34m\u001b[0m\u001b[0m\n\u001b[1;32m    613\u001b[0m     \u001b[0;32mif\u001b[0m \u001b[0mchunksize\u001b[0m \u001b[0;32mor\u001b[0m \u001b[0miterator\u001b[0m\u001b[0;34m:\u001b[0m\u001b[0;34m\u001b[0m\u001b[0;34m\u001b[0m\u001b[0m\n",
            "\u001b[0;32m/usr/local/lib/python3.10/dist-packages/pandas/io/parsers/readers.py\u001b[0m in \u001b[0;36m__init__\u001b[0;34m(self, f, engine, **kwds)\u001b[0m\n\u001b[1;32m   1446\u001b[0m \u001b[0;34m\u001b[0m\u001b[0m\n\u001b[1;32m   1447\u001b[0m         \u001b[0mself\u001b[0m\u001b[0;34m.\u001b[0m\u001b[0mhandles\u001b[0m\u001b[0;34m:\u001b[0m \u001b[0mIOHandles\u001b[0m \u001b[0;34m|\u001b[0m \u001b[0;32mNone\u001b[0m \u001b[0;34m=\u001b[0m \u001b[0;32mNone\u001b[0m\u001b[0;34m\u001b[0m\u001b[0;34m\u001b[0m\u001b[0m\n\u001b[0;32m-> 1448\u001b[0;31m         \u001b[0mself\u001b[0m\u001b[0;34m.\u001b[0m\u001b[0m_engine\u001b[0m \u001b[0;34m=\u001b[0m \u001b[0mself\u001b[0m\u001b[0;34m.\u001b[0m\u001b[0m_make_engine\u001b[0m\u001b[0;34m(\u001b[0m\u001b[0mf\u001b[0m\u001b[0;34m,\u001b[0m \u001b[0mself\u001b[0m\u001b[0;34m.\u001b[0m\u001b[0mengine\u001b[0m\u001b[0;34m)\u001b[0m\u001b[0;34m\u001b[0m\u001b[0;34m\u001b[0m\u001b[0m\n\u001b[0m\u001b[1;32m   1449\u001b[0m \u001b[0;34m\u001b[0m\u001b[0m\n\u001b[1;32m   1450\u001b[0m     \u001b[0;32mdef\u001b[0m \u001b[0mclose\u001b[0m\u001b[0;34m(\u001b[0m\u001b[0mself\u001b[0m\u001b[0;34m)\u001b[0m \u001b[0;34m->\u001b[0m \u001b[0;32mNone\u001b[0m\u001b[0;34m:\u001b[0m\u001b[0;34m\u001b[0m\u001b[0;34m\u001b[0m\u001b[0m\n",
            "\u001b[0;32m/usr/local/lib/python3.10/dist-packages/pandas/io/parsers/readers.py\u001b[0m in \u001b[0;36m_make_engine\u001b[0;34m(self, f, engine)\u001b[0m\n\u001b[1;32m   1703\u001b[0m                 \u001b[0;32mif\u001b[0m \u001b[0;34m\"b\"\u001b[0m \u001b[0;32mnot\u001b[0m \u001b[0;32min\u001b[0m \u001b[0mmode\u001b[0m\u001b[0;34m:\u001b[0m\u001b[0;34m\u001b[0m\u001b[0;34m\u001b[0m\u001b[0m\n\u001b[1;32m   1704\u001b[0m                     \u001b[0mmode\u001b[0m \u001b[0;34m+=\u001b[0m \u001b[0;34m\"b\"\u001b[0m\u001b[0;34m\u001b[0m\u001b[0;34m\u001b[0m\u001b[0m\n\u001b[0;32m-> 1705\u001b[0;31m             self.handles = get_handle(\n\u001b[0m\u001b[1;32m   1706\u001b[0m                 \u001b[0mf\u001b[0m\u001b[0;34m,\u001b[0m\u001b[0;34m\u001b[0m\u001b[0;34m\u001b[0m\u001b[0m\n\u001b[1;32m   1707\u001b[0m                 \u001b[0mmode\u001b[0m\u001b[0;34m,\u001b[0m\u001b[0;34m\u001b[0m\u001b[0;34m\u001b[0m\u001b[0m\n",
            "\u001b[0;32m/usr/local/lib/python3.10/dist-packages/pandas/io/common.py\u001b[0m in \u001b[0;36mget_handle\u001b[0;34m(path_or_buf, mode, encoding, compression, memory_map, is_text, errors, storage_options)\u001b[0m\n\u001b[1;32m    861\u001b[0m         \u001b[0;32mif\u001b[0m \u001b[0mioargs\u001b[0m\u001b[0;34m.\u001b[0m\u001b[0mencoding\u001b[0m \u001b[0;32mand\u001b[0m \u001b[0;34m\"b\"\u001b[0m \u001b[0;32mnot\u001b[0m \u001b[0;32min\u001b[0m \u001b[0mioargs\u001b[0m\u001b[0;34m.\u001b[0m\u001b[0mmode\u001b[0m\u001b[0;34m:\u001b[0m\u001b[0;34m\u001b[0m\u001b[0;34m\u001b[0m\u001b[0m\n\u001b[1;32m    862\u001b[0m             \u001b[0;31m# Encoding\u001b[0m\u001b[0;34m\u001b[0m\u001b[0;34m\u001b[0m\u001b[0m\n\u001b[0;32m--> 863\u001b[0;31m             handle = open(\n\u001b[0m\u001b[1;32m    864\u001b[0m                 \u001b[0mhandle\u001b[0m\u001b[0;34m,\u001b[0m\u001b[0;34m\u001b[0m\u001b[0;34m\u001b[0m\u001b[0m\n\u001b[1;32m    865\u001b[0m                 \u001b[0mioargs\u001b[0m\u001b[0;34m.\u001b[0m\u001b[0mmode\u001b[0m\u001b[0;34m,\u001b[0m\u001b[0;34m\u001b[0m\u001b[0;34m\u001b[0m\u001b[0m\n",
            "\u001b[0;31mFileNotFoundError\u001b[0m: [Errno 2] No such file or directory: '/kaggle/input/credit-card-customer-churn-prediction/Churn_Modelling.csv'"
          ]
        }
      ]
    },
    {
      "cell_type": "code",
      "source": [
        "df.head()"
      ],
      "metadata": {
        "execution": {
          "iopub.status.busy": "2022-03-06T03:33:04.565302Z",
          "iopub.execute_input": "2022-03-06T03:33:04.565582Z",
          "iopub.status.idle": "2022-03-06T03:33:04.590711Z",
          "shell.execute_reply.started": "2022-03-06T03:33:04.565552Z",
          "shell.execute_reply": "2022-03-06T03:33:04.590106Z"
        },
        "trusted": true,
        "id": "lZnZmUVc3pt2"
      },
      "execution_count": null,
      "outputs": []
    },
    {
      "cell_type": "code",
      "source": [
        "df.drop(columns = ['RowNumber','CustomerId','Surname'],inplace=True)"
      ],
      "metadata": {
        "execution": {
          "iopub.status.busy": "2022-03-06T03:33:16.956107Z",
          "iopub.execute_input": "2022-03-06T03:33:16.956409Z",
          "iopub.status.idle": "2022-03-06T03:33:16.969099Z",
          "shell.execute_reply.started": "2022-03-06T03:33:16.956376Z",
          "shell.execute_reply": "2022-03-06T03:33:16.968191Z"
        },
        "trusted": true,
        "id": "qQeY3voz3pt2"
      },
      "execution_count": null,
      "outputs": []
    },
    {
      "cell_type": "code",
      "source": [
        "df.head()"
      ],
      "metadata": {
        "execution": {
          "iopub.status.busy": "2022-03-06T03:33:25.596737Z",
          "iopub.execute_input": "2022-03-06T03:33:25.597651Z",
          "iopub.status.idle": "2022-03-06T03:33:25.613054Z",
          "shell.execute_reply.started": "2022-03-06T03:33:25.597603Z",
          "shell.execute_reply": "2022-03-06T03:33:25.612113Z"
        },
        "trusted": true,
        "id": "8yWB4qP63pt3"
      },
      "execution_count": null,
      "outputs": []
    },
    {
      "cell_type": "code",
      "source": [
        "df['Geography'].value_counts()"
      ],
      "metadata": {
        "execution": {
          "iopub.status.busy": "2022-03-06T03:33:36.320838Z",
          "iopub.execute_input": "2022-03-06T03:33:36.321542Z",
          "iopub.status.idle": "2022-03-06T03:33:36.333826Z",
          "shell.execute_reply.started": "2022-03-06T03:33:36.321507Z",
          "shell.execute_reply": "2022-03-06T03:33:36.333097Z"
        },
        "trusted": true,
        "id": "QDhwSzbL3pt4"
      },
      "execution_count": null,
      "outputs": []
    },
    {
      "cell_type": "code",
      "source": [
        "df['Gender'].value_counts()"
      ],
      "metadata": {
        "execution": {
          "iopub.status.busy": "2022-03-06T03:33:45.385967Z",
          "iopub.execute_input": "2022-03-06T03:33:45.386793Z",
          "iopub.status.idle": "2022-03-06T03:33:45.39533Z",
          "shell.execute_reply.started": "2022-03-06T03:33:45.386756Z",
          "shell.execute_reply": "2022-03-06T03:33:45.394438Z"
        },
        "trusted": true,
        "id": "57zRIYSQ3pt4"
      },
      "execution_count": null,
      "outputs": []
    },
    {
      "cell_type": "code",
      "source": [
        "df = pd.get_dummies(df,columns=['Geography','Gender'],drop_first=True)"
      ],
      "metadata": {
        "execution": {
          "iopub.status.busy": "2022-03-06T03:33:54.381775Z",
          "iopub.execute_input": "2022-03-06T03:33:54.382275Z",
          "iopub.status.idle": "2022-03-06T03:33:54.399399Z",
          "shell.execute_reply.started": "2022-03-06T03:33:54.382234Z",
          "shell.execute_reply": "2022-03-06T03:33:54.398368Z"
        },
        "trusted": true,
        "id": "MprHhz3Q3pt5"
      },
      "execution_count": null,
      "outputs": []
    },
    {
      "cell_type": "code",
      "source": [
        "df.head()"
      ],
      "metadata": {
        "execution": {
          "iopub.status.busy": "2022-03-06T03:34:05.465041Z",
          "iopub.execute_input": "2022-03-06T03:34:05.465611Z",
          "iopub.status.idle": "2022-03-06T03:34:05.481994Z",
          "shell.execute_reply.started": "2022-03-06T03:34:05.465567Z",
          "shell.execute_reply": "2022-03-06T03:34:05.481205Z"
        },
        "trusted": true,
        "id": "GhGwShaF3pt6"
      },
      "execution_count": null,
      "outputs": []
    },
    {
      "cell_type": "code",
      "source": [
        "X = df.drop(columns=['Exited'])\n",
        "y = df['Exited'].values\n",
        "\n",
        "from sklearn.model_selection import train_test_split\n",
        "X_train,X_test,y_train,y_test = train_test_split(X,y,test_size=0.2,random_state=0)"
      ],
      "metadata": {
        "execution": {
          "iopub.status.busy": "2022-03-06T03:34:15.211214Z",
          "iopub.execute_input": "2022-03-06T03:34:15.21198Z",
          "iopub.status.idle": "2022-03-06T03:34:16.378692Z",
          "shell.execute_reply.started": "2022-03-06T03:34:15.211936Z",
          "shell.execute_reply": "2022-03-06T03:34:16.377875Z"
        },
        "trusted": true,
        "id": "nLebPfBE3pt6"
      },
      "execution_count": null,
      "outputs": []
    },
    {
      "cell_type": "code",
      "source": [
        "from sklearn.preprocessing import StandardScaler\n",
        "scaler = StandardScaler()\n",
        "\n",
        "X_train_trf = scaler.fit_transform(X_train)\n",
        "X_test_trf = scaler.transform(X_test)"
      ],
      "metadata": {
        "execution": {
          "iopub.status.busy": "2022-03-06T03:34:23.641345Z",
          "iopub.execute_input": "2022-03-06T03:34:23.642185Z",
          "iopub.status.idle": "2022-03-06T03:34:23.656143Z",
          "shell.execute_reply.started": "2022-03-06T03:34:23.642134Z",
          "shell.execute_reply": "2022-03-06T03:34:23.655395Z"
        },
        "trusted": true,
        "id": "oagS_pL53pt7"
      },
      "execution_count": null,
      "outputs": []
    },
    {
      "cell_type": "code",
      "source": [
        "import tensorflow\n",
        "from tensorflow import keras\n",
        "from tensorflow.keras import Sequential\n",
        "from tensorflow.keras.layers import Dense"
      ],
      "metadata": {
        "execution": {
          "iopub.status.busy": "2022-03-06T03:34:31.131533Z",
          "iopub.execute_input": "2022-03-06T03:34:31.132229Z",
          "iopub.status.idle": "2022-03-06T03:34:37.43553Z",
          "shell.execute_reply.started": "2022-03-06T03:34:31.132167Z",
          "shell.execute_reply": "2022-03-06T03:34:37.434835Z"
        },
        "trusted": true,
        "id": "ORcm00nK3pt7"
      },
      "execution_count": null,
      "outputs": []
    },
    {
      "cell_type": "code",
      "source": [
        "model = Sequential()\n",
        "\n",
        "model.add(Dense(11,activation='sigmoid',input_dim=11))\n",
        "model.add(Dense(11,activation='sigmoid'))\n",
        "model.add(Dense(1,activation='sigmoid'))"
      ],
      "metadata": {
        "execution": {
          "iopub.status.busy": "2022-03-06T03:34:37.82632Z",
          "iopub.execute_input": "2022-03-06T03:34:37.826813Z",
          "iopub.status.idle": "2022-03-06T03:34:37.947521Z",
          "shell.execute_reply.started": "2022-03-06T03:34:37.826746Z",
          "shell.execute_reply": "2022-03-06T03:34:37.94658Z"
        },
        "trusted": true,
        "id": "A9LSFrWe3pt7"
      },
      "execution_count": null,
      "outputs": []
    },
    {
      "cell_type": "code",
      "source": [
        "model.summary()"
      ],
      "metadata": {
        "execution": {
          "iopub.status.busy": "2022-03-06T03:34:51.250291Z",
          "iopub.execute_input": "2022-03-06T03:34:51.251022Z",
          "iopub.status.idle": "2022-03-06T03:34:51.258677Z",
          "shell.execute_reply.started": "2022-03-06T03:34:51.250979Z",
          "shell.execute_reply": "2022-03-06T03:34:51.257596Z"
        },
        "trusted": true,
        "id": "HIqTgsy03pt8"
      },
      "execution_count": null,
      "outputs": []
    },
    {
      "cell_type": "code",
      "source": [
        "model.compile(optimizer='Adam',loss='binary_crossentropy',metrics=['accuracy'])"
      ],
      "metadata": {
        "execution": {
          "iopub.status.busy": "2022-03-06T03:34:59.301333Z",
          "iopub.execute_input": "2022-03-06T03:34:59.301604Z",
          "iopub.status.idle": "2022-03-06T03:34:59.315593Z",
          "shell.execute_reply.started": "2022-03-06T03:34:59.301574Z",
          "shell.execute_reply": "2022-03-06T03:34:59.314884Z"
        },
        "trusted": true,
        "id": "Y-Xlm8_g3pt8"
      },
      "execution_count": null,
      "outputs": []
    },
    {
      "cell_type": "code",
      "source": [
        "history = model.fit(X_train,y_train,batch_size=50,epochs=100,verbose=1,validation_split=0.2)"
      ],
      "metadata": {
        "execution": {
          "iopub.status.busy": "2022-03-06T03:35:50.901904Z",
          "iopub.execute_input": "2022-03-06T03:35:50.902485Z",
          "iopub.status.idle": "2022-03-06T03:36:19.45562Z",
          "shell.execute_reply.started": "2022-03-06T03:35:50.902437Z",
          "shell.execute_reply": "2022-03-06T03:36:19.454726Z"
        },
        "trusted": true,
        "id": "Abc9tXNu3pt8"
      },
      "execution_count": null,
      "outputs": []
    },
    {
      "cell_type": "code",
      "source": [
        "y_pred = model.predict(X_test)"
      ],
      "metadata": {
        "execution": {
          "iopub.status.busy": "2022-03-06T03:36:33.569599Z",
          "iopub.execute_input": "2022-03-06T03:36:33.569903Z",
          "iopub.status.idle": "2022-03-06T03:36:33.770856Z",
          "shell.execute_reply.started": "2022-03-06T03:36:33.569868Z",
          "shell.execute_reply": "2022-03-06T03:36:33.770114Z"
        },
        "trusted": true,
        "id": "gB2Kghb03pt8"
      },
      "execution_count": null,
      "outputs": []
    },
    {
      "cell_type": "code",
      "source": [
        "y_pred"
      ],
      "metadata": {
        "execution": {
          "iopub.status.busy": "2022-03-06T03:36:43.781671Z",
          "iopub.execute_input": "2022-03-06T03:36:43.782192Z",
          "iopub.status.idle": "2022-03-06T03:36:43.789507Z",
          "shell.execute_reply.started": "2022-03-06T03:36:43.782156Z",
          "shell.execute_reply": "2022-03-06T03:36:43.788484Z"
        },
        "trusted": true,
        "id": "8dhJtyBb3pt9"
      },
      "execution_count": null,
      "outputs": []
    },
    {
      "cell_type": "code",
      "source": [
        "y_pred = y_pred.argmax(axis=-1)"
      ],
      "metadata": {
        "execution": {
          "iopub.status.busy": "2022-03-06T03:36:53.41984Z",
          "iopub.execute_input": "2022-03-06T03:36:53.420271Z",
          "iopub.status.idle": "2022-03-06T03:36:53.425184Z",
          "shell.execute_reply.started": "2022-03-06T03:36:53.420233Z",
          "shell.execute_reply": "2022-03-06T03:36:53.424317Z"
        },
        "trusted": true,
        "id": "Zzd2NARm3pt9"
      },
      "execution_count": null,
      "outputs": []
    },
    {
      "cell_type": "code",
      "source": [
        "from sklearn.metrics import accuracy_score\n",
        "accuracy_score(y_test,y_pred)"
      ],
      "metadata": {
        "execution": {
          "iopub.status.busy": "2022-03-06T03:37:01.489866Z",
          "iopub.execute_input": "2022-03-06T03:37:01.490157Z",
          "iopub.status.idle": "2022-03-06T03:37:01.498513Z",
          "shell.execute_reply.started": "2022-03-06T03:37:01.490129Z",
          "shell.execute_reply": "2022-03-06T03:37:01.497608Z"
        },
        "trusted": true,
        "id": "2DKUUAN23pt9"
      },
      "execution_count": null,
      "outputs": []
    },
    {
      "cell_type": "code",
      "source": [
        "import matplotlib.pyplot as plt\n",
        "\n",
        "plt.plot(history.history['loss'])\n",
        "plt.plot(history.history['val_loss'])"
      ],
      "metadata": {
        "execution": {
          "iopub.status.busy": "2022-03-06T03:37:10.534076Z",
          "iopub.execute_input": "2022-03-06T03:37:10.534504Z",
          "iopub.status.idle": "2022-03-06T03:37:10.742592Z",
          "shell.execute_reply.started": "2022-03-06T03:37:10.534473Z",
          "shell.execute_reply": "2022-03-06T03:37:10.741662Z"
        },
        "trusted": true,
        "id": "xh4BbLIa3pt9"
      },
      "execution_count": null,
      "outputs": []
    },
    {
      "cell_type": "code",
      "source": [
        "plt.plot(history.history['accuracy'])\n",
        "plt.plot(history.history['val_accuracy'])"
      ],
      "metadata": {
        "execution": {
          "iopub.status.busy": "2022-03-06T03:37:24.163624Z",
          "iopub.execute_input": "2022-03-06T03:37:24.164195Z",
          "iopub.status.idle": "2022-03-06T03:37:24.378329Z",
          "shell.execute_reply.started": "2022-03-06T03:37:24.16415Z",
          "shell.execute_reply": "2022-03-06T03:37:24.377501Z"
        },
        "trusted": true,
        "id": "U7e_sl-S3pt-"
      },
      "execution_count": null,
      "outputs": []
    },
    {
      "cell_type": "code",
      "source": [],
      "metadata": {
        "id": "rrEhQlkU3pt-"
      },
      "execution_count": null,
      "outputs": []
    }
  ]
}