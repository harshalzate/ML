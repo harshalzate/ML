{
  "nbformat": 4,
  "nbformat_minor": 0,
  "metadata": {
    "colab": {
      "private_outputs": true,
      "provenance": [],
      "authorship_tag": "ABX9TyO8oXIXQdP9fB61VrRop9Ep",
      "include_colab_link": true
    },
    "kernelspec": {
      "name": "python3",
      "display_name": "Python 3"
    },
    "language_info": {
      "name": "python"
    }
  },
  "cells": [
    {
      "cell_type": "markdown",
      "metadata": {
        "id": "view-in-github",
        "colab_type": "text"
      },
      "source": [
        "<a href=\"https://colab.research.google.com/github/harshalzate/ML/blob/main/8.ipynb\" target=\"_parent\"><img src=\"https://colab.research.google.com/assets/colab-badge.svg\" alt=\"Open In Colab\"/></a>"
      ]
    },
    {
      "cell_type": "code",
      "execution_count": null,
      "metadata": {
        "id": "NkxNdAUug_GG"
      },
      "outputs": [],
      "source": [
        "# Step 2: Set up Kaggle API credentials\n",
        "!mkdir -p ~/.kaggle\n",
        "!cp kaggle.json ~/.kaggle/\n",
        "!chmod 600 ~/.kaggle/kaggle.json\n",
        "\n",
        "# Step 3: Install the Kaggle library (if not already installed)\n",
        "!pip install kaggle\n",
        "\n",
        "# Step 4: Download the Customer Life Time Value dataset\n",
        "!kaggle datasets download shibumohapatra/customer-life-time-value\n",
        "\n",
        "# Step 5: Extract the downloaded zip file\n",
        "import zipfile\n",
        "with zipfile.ZipFile(\"customer-life-time-value.zip\", 'r') as zip_ref:\n",
        "    zip_ref.extractall(\"customer-life-time-value\")\n",
        "\n",
        "# Step 6: List the extracted files to confirm 'train_BRCpofr.csv' is present\n",
        "!ls customer-life-time-value\n",
        "\n",
        "# Step 7: Load the 'train_BRCpofr.csv' file into a Pandas DataFrame\n",
        "import pandas as pd\n",
        "ds = pd.read_csv(\"customer-life-time-value/train_BRCpofr.csv\")"
      ]
    },
    {
      "cell_type": "code",
      "source": [
        "ds"
      ],
      "metadata": {
        "id": "p6lb20-OhByk"
      },
      "execution_count": null,
      "outputs": []
    },
    {
      "cell_type": "code",
      "source": [],
      "metadata": {
        "id": "5i1e7UzvhOe5"
      },
      "execution_count": null,
      "outputs": []
    }
  ]
}