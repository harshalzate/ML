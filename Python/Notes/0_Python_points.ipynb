{
  "nbformat": 4,
  "nbformat_minor": 0,
  "metadata": {
    "colab": {
      "private_outputs": true,
      "provenance": [],
      "authorship_tag": "ABX9TyNC6WEtlbK5zxokqwKLD1l0",
      "include_colab_link": true
    },
    "kernelspec": {
      "name": "python3",
      "display_name": "Python 3"
    },
    "language_info": {
      "name": "python"
    }
  },
  "cells": [
    {
      "cell_type": "markdown",
      "metadata": {
        "id": "view-in-github",
        "colab_type": "text"
      },
      "source": [
        "<a href=\"https://colab.research.google.com/github/harshalzate/ML/blob/main/Python/Notes/0_Python_points.ipynb\" target=\"_parent\"><img src=\"https://colab.research.google.com/assets/colab-badge.svg\" alt=\"Open In Colab\"/></a>"
      ]
    },
    {
      "cell_type": "code",
      "execution_count": null,
      "metadata": {
        "id": "4VdJpqEoqAhg"
      },
      "outputs": [],
      "source": [
        "x = np.random.uniform(-1,1,100) + 0.10\n",
        "y = x**2 + np.random.uniform(-1,1,100) - 0.5*x\n",
        "plt.plot(x,y,'.r')\n",
        "# \".\" means the dot will be displyed not the connected lines."
      ]
    }
  ]
}