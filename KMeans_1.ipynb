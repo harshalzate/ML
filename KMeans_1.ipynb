{
  "nbformat": 4,
  "nbformat_minor": 0,
  "metadata": {
    "colab": {
      "private_outputs": true,
      "provenance": [],
      "authorship_tag": "ABX9TyODBukvDvUKjNf/g3aTB2ct",
      "include_colab_link": true
    },
    "kernelspec": {
      "name": "python3",
      "display_name": "Python 3"
    },
    "language_info": {
      "name": "python"
    }
  },
  "cells": [
    {
      "cell_type": "markdown",
      "metadata": {
        "id": "view-in-github",
        "colab_type": "text"
      },
      "source": [
        "<a href=\"https://colab.research.google.com/github/harshalzate/ML/blob/main/KMeans_1.ipynb\" target=\"_parent\"><img src=\"https://colab.research.google.com/assets/colab-badge.svg\" alt=\"Open In Colab\"/></a>"
      ]
    },
    {
      "cell_type": "code",
      "execution_count": null,
      "metadata": {
        "id": "RMMpjdx9hrkx"
      },
      "outputs": [],
      "source": [
        "import pandas as pd\n",
        "from sklearn.datasets import make_blobs\n",
        "import matplotlib.pyplot as plt\n",
        "import seaborn as sns\n",
        "from sklearn.cluster import KMeans"
      ]
    },
    {
      "cell_type": "code",
      "source": [
        "X,y=make_blobs(n_samples=10000,centers=4)\n",
        "X"
      ],
      "metadata": {
        "id": "5pDK7zUZhx5y"
      },
      "execution_count": null,
      "outputs": []
    },
    {
      "cell_type": "code",
      "source": [
        "y"
      ],
      "metadata": {
        "id": "a5rPBo5FshEj"
      },
      "execution_count": null,
      "outputs": []
    },
    {
      "cell_type": "code",
      "source": [
        "k=KMeans(n_clusters=4)\n",
        "k.fit_predict(X)"
      ],
      "metadata": {
        "id": "hukbWDzGiO-2"
      },
      "execution_count": null,
      "outputs": []
    },
    {
      "cell_type": "code",
      "source": [
        "k.cluster_centers_"
      ],
      "metadata": {
        "id": "0xlIJrN8s4os"
      },
      "execution_count": null,
      "outputs": []
    },
    {
      "cell_type": "code",
      "source": [
        "k.labels_"
      ],
      "metadata": {
        "id": "Az1y2a1nsH-A"
      },
      "execution_count": null,
      "outputs": []
    },
    {
      "cell_type": "code",
      "source": [
        "X[:,1]"
      ],
      "metadata": {
        "id": "coGeTcgwvCy7"
      },
      "execution_count": null,
      "outputs": []
    },
    {
      "cell_type": "code",
      "source": [
        "plt.scatter(X[:,1],X[:,0],c=k.labels_)"
      ],
      "metadata": {
        "id": "AGeOBDobrtlI"
      },
      "execution_count": null,
      "outputs": []
    },
    {
      "cell_type": "code",
      "source": [],
      "metadata": {
        "id": "GF_WrYG8uzwN"
      },
      "execution_count": null,
      "outputs": []
    },
    {
      "cell_type": "code",
      "source": [
        "wcss=[]\n",
        "for i in range(2,5):\n",
        "  k=KMeans(n_clusters=i)\n",
        "  k.fit(X)\n",
        "  wcss.append(k.inertia_)\n",
        "plt.plot(wcss)"
      ],
      "metadata": {
        "id": "nrkwJ55jimkY"
      },
      "execution_count": null,
      "outputs": []
    },
    {
      "cell_type": "code",
      "source": [
        "from sklearn.cluster import DBSCAN"
      ],
      "metadata": {
        "id": "HAmPAcKFvhdo"
      },
      "execution_count": null,
      "outputs": []
    },
    {
      "cell_type": "code",
      "source": [
        "db=DBSCAN(eps=0.5)\n",
        "l=db.fit_predict(X)"
      ],
      "metadata": {
        "id": "V8rn3qZBvk99"
      },
      "execution_count": null,
      "outputs": []
    },
    {
      "cell_type": "code",
      "source": [
        "plt.scatter(X[:,1],X[:,0],c=l)"
      ],
      "metadata": {
        "id": "KriCCJggvosn"
      },
      "execution_count": null,
      "outputs": []
    },
    {
      "cell_type": "code",
      "source": [
        "from sklearn.datasets import make_circles\n",
        "import numpy as np"
      ],
      "metadata": {
        "id": "TqF0-jMWwF57"
      },
      "execution_count": null,
      "outputs": []
    },
    {
      "cell_type": "code",
      "source": [
        "t = make_circles(n_samples=10000,noise=0.0)"
      ],
      "metadata": {
        "id": "KY7KgI7ewxKE"
      },
      "execution_count": null,
      "outputs": []
    },
    {
      "cell_type": "code",
      "source": [
        "t_c=np.array(t[1])"
      ],
      "metadata": {
        "id": "PR7Udk5Uxm55"
      },
      "execution_count": null,
      "outputs": []
    },
    {
      "cell_type": "code",
      "source": [
        "tt=np.array(t[0])"
      ],
      "metadata": {
        "id": "B7LgjN9SxeVK"
      },
      "execution_count": null,
      "outputs": []
    },
    {
      "cell_type": "code",
      "source": [
        "type(tt)"
      ],
      "metadata": {
        "id": "1Vhm12Zex-cV"
      },
      "execution_count": null,
      "outputs": []
    },
    {
      "cell_type": "code",
      "source": [
        "tt"
      ],
      "metadata": {
        "id": "yYcW5wxhyMxY"
      },
      "execution_count": null,
      "outputs": []
    },
    {
      "cell_type": "code",
      "source": [
        "plt.scatter(tt[:,0],tt[:,1])"
      ],
      "metadata": {
        "id": "vm7sWudVwXcD"
      },
      "execution_count": null,
      "outputs": []
    },
    {
      "cell_type": "code",
      "source": [
        "# kmeans\n",
        "k_labels = k.fit_predict(tt)\n",
        "plt.scatter(tt[:,0],tt[:,1],c=k_labels)"
      ],
      "metadata": {
        "id": "k2HjVwUtx7MF"
      },
      "execution_count": null,
      "outputs": []
    },
    {
      "cell_type": "code",
      "source": [
        "\n",
        "\n",
        "\n",
        "db=DBSCAN(eps=2,min_samples=5)"
      ],
      "metadata": {
        "id": "FwnR2izZy80q"
      },
      "execution_count": null,
      "outputs": []
    },
    {
      "cell_type": "code",
      "source": [
        "sum(db.fit_predict(tt))"
      ],
      "metadata": {
        "id": "Y-7t9_giz7U_"
      },
      "execution_count": null,
      "outputs": []
    },
    {
      "cell_type": "code",
      "source": [
        "# DBscan\n",
        "y = db.fit_predict(tt)\n",
        "\n",
        "plt.scatter(tt[:,0],tt[:,1],c=y)"
      ],
      "metadata": {
        "id": "GQWxei1zyOYG"
      },
      "execution_count": null,
      "outputs": []
    },
    {
      "cell_type": "code",
      "source": [
        "y"
      ],
      "metadata": {
        "id": "LbtQ6zYbyuZW"
      },
      "execution_count": null,
      "outputs": []
    },
    {
      "cell_type": "code",
      "source": [],
      "metadata": {
        "id": "AsecIR3czryV"
      },
      "execution_count": null,
      "outputs": []
    }
  ]
}